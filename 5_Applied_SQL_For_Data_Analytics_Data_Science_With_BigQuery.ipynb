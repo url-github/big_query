{
  "nbformat": 4,
  "nbformat_minor": 0,
  "metadata": {
    "colab": {
      "name": "5.Applied SQL For Data Analytics / Data Science With BigQuery.ipynb",
      "provenance": [],
      "authorship_tag": "ABX9TyOzJpac/BgEjnbvpSO2Kypi"
    },
    "kernelspec": {
      "name": "python3",
      "display_name": "Python 3"
    },
    "language_info": {
      "name": "python"
    }
  },
  "cells": [
    {
      "cell_type": "code",
      "metadata": {
        "colab": {
          "base_uri": "https://localhost:8080/"
        },
        "id": "hUuIQ6fNCTEG",
        "outputId": "a5ed0881-4520-4915-ecc7-5fb97b452f1b"
      },
      "source": [
        "from google.colab import auth\n",
        "auth.authenticate_user()\n",
        "print('Authenticated')\n",
        "%load_ext google.colab.data_table"
      ],
      "execution_count": null,
      "outputs": [
        {
          "output_type": "stream",
          "name": "stdout",
          "text": [
            "Authenticated\n"
          ]
        }
      ]
    },
    {
      "cell_type": "markdown",
      "metadata": {
        "id": "54sWqoskEJLe"
      },
      "source": [
        "https://pythex.org/"
      ]
    },
    {
      "cell_type": "code",
      "metadata": {
        "colab": {
          "base_uri": "https://localhost:8080/",
          "height": 111
        },
        "id": "qwuxDFRSCb0J",
        "outputId": "b26eceea-be85-4b08-9150-4a9456ee5623"
      },
      "source": [
        "%%bigquery --project august-bucksaw-330517\n",
        "select regexp_extract_all('i am walking my dog', r'\\w+') as words"
      ],
      "execution_count": null,
      "outputs": [
        {
          "output_type": "execute_result",
          "data": {
            "application/vnd.google.colaboratory.module+javascript": "\n      import \"https://ssl.gstatic.com/colaboratory/data_table/a6224c040fa35dcf/data_table.js\";\n\n      window.createDataTable({\n        data: [[{\n            'v': 0,\n            'f': \"0\",\n        },\n[\"i\", \"am\", \"walking\", \"my\", \"dog\"]]],\n        columns: [[\"number\", \"index\"], [\"string\", \"words\"]],\n        columnOptions: [{\"width\": \"1px\", \"className\": \"index_column\"}],\n        rowsPerPage: 25,\n        helpUrl: \"https://colab.research.google.com/notebooks/data_table.ipynb\",\n        suppressOutputScrolling: true,\n        minimumWidth: undefined,\n      });\n    ",
            "text/html": [
              "<div>\n",
              "<style scoped>\n",
              "    .dataframe tbody tr th:only-of-type {\n",
              "        vertical-align: middle;\n",
              "    }\n",
              "\n",
              "    .dataframe tbody tr th {\n",
              "        vertical-align: top;\n",
              "    }\n",
              "\n",
              "    .dataframe thead th {\n",
              "        text-align: right;\n",
              "    }\n",
              "</style>\n",
              "<table border=\"1\" class=\"dataframe\">\n",
              "  <thead>\n",
              "    <tr style=\"text-align: right;\">\n",
              "      <th></th>\n",
              "      <th>words</th>\n",
              "    </tr>\n",
              "  </thead>\n",
              "  <tbody>\n",
              "    <tr>\n",
              "      <th>0</th>\n",
              "      <td>[i, am, walking, my, dog]</td>\n",
              "    </tr>\n",
              "  </tbody>\n",
              "</table>\n",
              "</div>"
            ],
            "text/plain": [
              "                       words\n",
              "0  [i, am, walking, my, dog]"
            ]
          },
          "metadata": {},
          "execution_count": 3
        }
      ]
    },
    {
      "cell_type": "code",
      "metadata": {
        "colab": {
          "base_uri": "https://localhost:8080/",
          "height": 111
        },
        "id": "VmUoCKq_GzPX",
        "outputId": "3166284f-8cf1-4185-8f8a-d1054dd21014"
      },
      "source": [
        "%%bigquery --project august-bucksaw-330517\n",
        "select split('i am walking my dog', ' ') as words"
      ],
      "execution_count": null,
      "outputs": [
        {
          "output_type": "execute_result",
          "data": {
            "application/vnd.google.colaboratory.module+javascript": "\n      import \"https://ssl.gstatic.com/colaboratory/data_table/a6224c040fa35dcf/data_table.js\";\n\n      window.createDataTable({\n        data: [[{\n            'v': 0,\n            'f': \"0\",\n        },\n[\"i\", \"am\", \"walking\", \"my\", \"dog\"]]],\n        columns: [[\"number\", \"index\"], [\"string\", \"words\"]],\n        columnOptions: [{\"width\": \"1px\", \"className\": \"index_column\"}],\n        rowsPerPage: 25,\n        helpUrl: \"https://colab.research.google.com/notebooks/data_table.ipynb\",\n        suppressOutputScrolling: true,\n        minimumWidth: undefined,\n      });\n    ",
            "text/html": [
              "<div>\n",
              "<style scoped>\n",
              "    .dataframe tbody tr th:only-of-type {\n",
              "        vertical-align: middle;\n",
              "    }\n",
              "\n",
              "    .dataframe tbody tr th {\n",
              "        vertical-align: top;\n",
              "    }\n",
              "\n",
              "    .dataframe thead th {\n",
              "        text-align: right;\n",
              "    }\n",
              "</style>\n",
              "<table border=\"1\" class=\"dataframe\">\n",
              "  <thead>\n",
              "    <tr style=\"text-align: right;\">\n",
              "      <th></th>\n",
              "      <th>words</th>\n",
              "    </tr>\n",
              "  </thead>\n",
              "  <tbody>\n",
              "    <tr>\n",
              "      <th>0</th>\n",
              "      <td>[i, am, walking, my, dog]</td>\n",
              "    </tr>\n",
              "  </tbody>\n",
              "</table>\n",
              "</div>"
            ],
            "text/plain": [
              "                       words\n",
              "0  [i, am, walking, my, dog]"
            ]
          },
          "metadata": {},
          "execution_count": 4
        }
      ]
    },
    {
      "cell_type": "code",
      "metadata": {
        "colab": {
          "base_uri": "https://localhost:8080/",
          "height": 132
        },
        "id": "deiV_YD7H6Uk",
        "outputId": "1096f45c-b167-4ac8-8cfa-534502294ad2"
      },
      "source": [
        "%%bigquery --project august-bucksaw-330517\n",
        "select title, id, split(title, ' ') words \n",
        "from `jrjames83-1171.sampledata.top_questions`\n",
        "limit 2"
      ],
      "execution_count": null,
      "outputs": [
        {
          "output_type": "execute_result",
          "data": {
            "application/vnd.google.colaboratory.module+javascript": "\n      import \"https://ssl.gstatic.com/colaboratory/data_table/a6224c040fa35dcf/data_table.js\";\n\n      window.createDataTable({\n        data: [[{\n            'v': 0,\n            'f': \"0\",\n        },\n\"How to write unicode cross symbol in Java?\",\n{\n            'v': 16616162,\n            'f': \"16616162\",\n        },\n[\"How\", \"to\", \"write\", \"unicode\", \"cross\", \"symbol\", \"in\", \"Java?\"]],\n [{\n            'v': 1,\n            'f': \"1\",\n        },\n\"Windows batch file, wait for command to finish?\",\n{\n            'v': 40193625,\n            'f': \"40193625\",\n        },\n[\"Windows\", \"batch\", \"file,\", \"wait\", \"for\", \"command\", \"to\", \"finish?\"]]],\n        columns: [[\"number\", \"index\"], [\"string\", \"title\"], [\"number\", \"id\"], [\"string\", \"words\"]],\n        columnOptions: [{\"width\": \"1px\", \"className\": \"index_column\"}],\n        rowsPerPage: 25,\n        helpUrl: \"https://colab.research.google.com/notebooks/data_table.ipynb\",\n        suppressOutputScrolling: true,\n        minimumWidth: undefined,\n      });\n    ",
            "text/html": [
              "<div>\n",
              "<style scoped>\n",
              "    .dataframe tbody tr th:only-of-type {\n",
              "        vertical-align: middle;\n",
              "    }\n",
              "\n",
              "    .dataframe tbody tr th {\n",
              "        vertical-align: top;\n",
              "    }\n",
              "\n",
              "    .dataframe thead th {\n",
              "        text-align: right;\n",
              "    }\n",
              "</style>\n",
              "<table border=\"1\" class=\"dataframe\">\n",
              "  <thead>\n",
              "    <tr style=\"text-align: right;\">\n",
              "      <th></th>\n",
              "      <th>title</th>\n",
              "      <th>id</th>\n",
              "      <th>words</th>\n",
              "    </tr>\n",
              "  </thead>\n",
              "  <tbody>\n",
              "    <tr>\n",
              "      <th>0</th>\n",
              "      <td>How to write unicode cross symbol in Java?</td>\n",
              "      <td>16616162</td>\n",
              "      <td>[How, to, write, unicode, cross, symbol, in, J...</td>\n",
              "    </tr>\n",
              "    <tr>\n",
              "      <th>1</th>\n",
              "      <td>Windows batch file, wait for command to finish?</td>\n",
              "      <td>40193625</td>\n",
              "      <td>[Windows, batch, file,, wait, for, command, to...</td>\n",
              "    </tr>\n",
              "  </tbody>\n",
              "</table>\n",
              "</div>"
            ],
            "text/plain": [
              "                                             title  ...                                              words\n",
              "0       How to write unicode cross symbol in Java?  ...  [How, to, write, unicode, cross, symbol, in, J...\n",
              "1  Windows batch file, wait for command to finish?  ...  [Windows, batch, file,, wait, for, command, to...\n",
              "\n",
              "[2 rows x 3 columns]"
            ]
          },
          "metadata": {},
          "execution_count": 5
        }
      ]
    },
    {
      "cell_type": "code",
      "metadata": {
        "colab": {
          "base_uri": "https://localhost:8080/",
          "height": 260
        },
        "id": "vrodOwAyJkMr",
        "outputId": "3a74b77c-d16c-4a52-9e38-5c79eb0fd633"
      },
      "source": [
        "%%bigquery --project august-bucksaw-330517\n",
        "with base_table as (select tag, title, id, split(title, ' ') words \n",
        "from `jrjames83-1171.sampledata.top_questions`)\n",
        "\n",
        "select distinct tag, title, word \n",
        "from base_table, unnest(words) word\n",
        "order by 2\n",
        "limit 8"
      ],
      "execution_count": null,
      "outputs": [
        {
          "output_type": "execute_result",
          "data": {
            "application/vnd.google.colaboratory.module+javascript": "\n      import \"https://ssl.gstatic.com/colaboratory/data_table/a6224c040fa35dcf/data_table.js\";\n\n      window.createDataTable({\n        data: [[{\n            'v': 0,\n            'f': \"0\",\n        },\n\"git-push\",\n\"! [rejected] master -> master (fetch first)\",\n\"master\"],\n [{\n            'v': 1,\n            'f': \"1\",\n        },\n\"git-push\",\n\"! [rejected] master -> master (fetch first)\",\n\"first)\"],\n [{\n            'v': 2,\n            'f': \"2\",\n        },\n\"git-push\",\n\"! [rejected] master -> master (fetch first)\",\n\"->\"],\n [{\n            'v': 3,\n            'f': \"3\",\n        },\n\"git-push\",\n\"! [rejected] master -> master (fetch first)\",\n\"[rejected]\"],\n [{\n            'v': 4,\n            'f': \"4\",\n        },\n\"git-push\",\n\"! [rejected] master -> master (fetch first)\",\n\"(fetch\"],\n [{\n            'v': 5,\n            'f': \"5\",\n        },\n\"git-push\",\n\"! [rejected] master -> master (fetch first)\",\n\"!\"],\n [{\n            'v': 6,\n            'f': \"6\",\n        },\n\"fast-forward\",\n\"! [rejected] master -> master (non-fast-forward) on a new up-to-date branch\",\n\"->\"],\n [{\n            'v': 7,\n            'f': \"7\",\n        },\n\"fast-forward\",\n\"! [rejected] master -> master (non-fast-forward) on a new up-to-date branch\",\n\"new\"]],\n        columns: [[\"number\", \"index\"], [\"string\", \"tag\"], [\"string\", \"title\"], [\"string\", \"word\"]],\n        columnOptions: [{\"width\": \"1px\", \"className\": \"index_column\"}],\n        rowsPerPage: 25,\n        helpUrl: \"https://colab.research.google.com/notebooks/data_table.ipynb\",\n        suppressOutputScrolling: true,\n        minimumWidth: undefined,\n      });\n    ",
            "text/html": [
              "<div>\n",
              "<style scoped>\n",
              "    .dataframe tbody tr th:only-of-type {\n",
              "        vertical-align: middle;\n",
              "    }\n",
              "\n",
              "    .dataframe tbody tr th {\n",
              "        vertical-align: top;\n",
              "    }\n",
              "\n",
              "    .dataframe thead th {\n",
              "        text-align: right;\n",
              "    }\n",
              "</style>\n",
              "<table border=\"1\" class=\"dataframe\">\n",
              "  <thead>\n",
              "    <tr style=\"text-align: right;\">\n",
              "      <th></th>\n",
              "      <th>tag</th>\n",
              "      <th>title</th>\n",
              "      <th>word</th>\n",
              "    </tr>\n",
              "  </thead>\n",
              "  <tbody>\n",
              "    <tr>\n",
              "      <th>0</th>\n",
              "      <td>git-push</td>\n",
              "      <td>! [rejected] master -&gt; master (fetch first)</td>\n",
              "      <td>master</td>\n",
              "    </tr>\n",
              "    <tr>\n",
              "      <th>1</th>\n",
              "      <td>git-push</td>\n",
              "      <td>! [rejected] master -&gt; master (fetch first)</td>\n",
              "      <td>first)</td>\n",
              "    </tr>\n",
              "    <tr>\n",
              "      <th>2</th>\n",
              "      <td>git-push</td>\n",
              "      <td>! [rejected] master -&gt; master (fetch first)</td>\n",
              "      <td>-&gt;</td>\n",
              "    </tr>\n",
              "    <tr>\n",
              "      <th>3</th>\n",
              "      <td>git-push</td>\n",
              "      <td>! [rejected] master -&gt; master (fetch first)</td>\n",
              "      <td>[rejected]</td>\n",
              "    </tr>\n",
              "    <tr>\n",
              "      <th>4</th>\n",
              "      <td>git-push</td>\n",
              "      <td>! [rejected] master -&gt; master (fetch first)</td>\n",
              "      <td>(fetch</td>\n",
              "    </tr>\n",
              "    <tr>\n",
              "      <th>5</th>\n",
              "      <td>git-push</td>\n",
              "      <td>! [rejected] master -&gt; master (fetch first)</td>\n",
              "      <td>!</td>\n",
              "    </tr>\n",
              "    <tr>\n",
              "      <th>6</th>\n",
              "      <td>fast-forward</td>\n",
              "      <td>! [rejected] master -&gt; master (non-fast-forwar...</td>\n",
              "      <td>-&gt;</td>\n",
              "    </tr>\n",
              "    <tr>\n",
              "      <th>7</th>\n",
              "      <td>fast-forward</td>\n",
              "      <td>! [rejected] master -&gt; master (non-fast-forwar...</td>\n",
              "      <td>new</td>\n",
              "    </tr>\n",
              "  </tbody>\n",
              "</table>\n",
              "</div>"
            ],
            "text/plain": [
              "            tag                                              title        word\n",
              "0      git-push        ! [rejected] master -> master (fetch first)      master\n",
              "1      git-push        ! [rejected] master -> master (fetch first)      first)\n",
              "2      git-push        ! [rejected] master -> master (fetch first)          ->\n",
              "3      git-push        ! [rejected] master -> master (fetch first)  [rejected]\n",
              "4      git-push        ! [rejected] master -> master (fetch first)      (fetch\n",
              "5      git-push        ! [rejected] master -> master (fetch first)           !\n",
              "6  fast-forward  ! [rejected] master -> master (non-fast-forwar...          ->\n",
              "7  fast-forward  ! [rejected] master -> master (non-fast-forwar...         new"
            ]
          },
          "metadata": {},
          "execution_count": 8
        }
      ]
    },
    {
      "cell_type": "code",
      "metadata": {
        "colab": {
          "base_uri": "https://localhost:8080/",
          "height": 154
        },
        "id": "Zl7pj7LjT6MQ",
        "outputId": "fbd71307-3fcc-48bf-f89c-e1d63983a63d"
      },
      "source": [
        "%%bigquery --project august-bucksaw-330517\n",
        "with base_table as (select tag, title, id, split(title, ' ') words \n",
        "from `jrjames83-1171.sampledata.top_questions`),\n",
        "\n",
        "words_table as (select distinct tag, title, lower(trim(word)) word\n",
        "from base_table, unnest(words) word)\n",
        "\n",
        "select * from (\n",
        "    select tag, word, count(*) frequency,\n",
        "    row_number() over(partition by tag order by count(*) desc) tag_word_rank\n",
        "    from words_table\n",
        "    where word not in ('a', 'in', 'and', 'or', 'the', 'it', 'to', 'for', 'what', 'that', 'with', 'if', 'i') \n",
        "    and lower(tag) = 'python'\n",
        "    group by 1,2\n",
        "    order by 1,3 desc  \n",
        ") wt where wt.tag_word_rank < 4\n",
        "order by 1,4\n",
        "limit 10"
      ],
      "execution_count": null,
      "outputs": [
        {
          "output_type": "execute_result",
          "data": {
            "application/vnd.google.colaboratory.module+javascript": "\n      import \"https://ssl.gstatic.com/colaboratory/data_table/a6224c040fa35dcf/data_table.js\";\n\n      window.createDataTable({\n        data: [[{\n            'v': 0,\n            'f': \"0\",\n        },\n\"python\",\n\"how\",\n{\n            'v': 13,\n            'f': \"13\",\n        },\n{\n            'v': 1,\n            'f': \"1\",\n        }],\n [{\n            'v': 1,\n            'f': \"1\",\n        },\n\"python\",\n\"of\",\n{\n            'v': 7,\n            'f': \"7\",\n        },\n{\n            'v': 2,\n            'f': \"2\",\n        }],\n [{\n            'v': 2,\n            'f': \"2\",\n        },\n\"python\",\n\"do\",\n{\n            'v': 7,\n            'f': \"7\",\n        },\n{\n            'v': 3,\n            'f': \"3\",\n        }]],\n        columns: [[\"number\", \"index\"], [\"string\", \"tag\"], [\"string\", \"word\"], [\"number\", \"frequency\"], [\"number\", \"tag_word_rank\"]],\n        columnOptions: [{\"width\": \"1px\", \"className\": \"index_column\"}],\n        rowsPerPage: 25,\n        helpUrl: \"https://colab.research.google.com/notebooks/data_table.ipynb\",\n        suppressOutputScrolling: true,\n        minimumWidth: undefined,\n      });\n    ",
            "text/html": [
              "<div>\n",
              "<style scoped>\n",
              "    .dataframe tbody tr th:only-of-type {\n",
              "        vertical-align: middle;\n",
              "    }\n",
              "\n",
              "    .dataframe tbody tr th {\n",
              "        vertical-align: top;\n",
              "    }\n",
              "\n",
              "    .dataframe thead th {\n",
              "        text-align: right;\n",
              "    }\n",
              "</style>\n",
              "<table border=\"1\" class=\"dataframe\">\n",
              "  <thead>\n",
              "    <tr style=\"text-align: right;\">\n",
              "      <th></th>\n",
              "      <th>tag</th>\n",
              "      <th>word</th>\n",
              "      <th>frequency</th>\n",
              "      <th>tag_word_rank</th>\n",
              "    </tr>\n",
              "  </thead>\n",
              "  <tbody>\n",
              "    <tr>\n",
              "      <th>0</th>\n",
              "      <td>python</td>\n",
              "      <td>how</td>\n",
              "      <td>13</td>\n",
              "      <td>1</td>\n",
              "    </tr>\n",
              "    <tr>\n",
              "      <th>1</th>\n",
              "      <td>python</td>\n",
              "      <td>of</td>\n",
              "      <td>7</td>\n",
              "      <td>2</td>\n",
              "    </tr>\n",
              "    <tr>\n",
              "      <th>2</th>\n",
              "      <td>python</td>\n",
              "      <td>do</td>\n",
              "      <td>7</td>\n",
              "      <td>3</td>\n",
              "    </tr>\n",
              "  </tbody>\n",
              "</table>\n",
              "</div>"
            ],
            "text/plain": [
              "      tag word  frequency  tag_word_rank\n",
              "0  python  how         13              1\n",
              "1  python   of          7              2\n",
              "2  python   do          7              3"
            ]
          },
          "metadata": {},
          "execution_count": 17
        }
      ]
    },
    {
      "cell_type": "markdown",
      "metadata": {
        "id": "i53cUhWlVMRB"
      },
      "source": [
        "https://cloud.google.com/bigquery-ml/docs/reference/standard-sql/bigqueryml-preprocessing-functions#mlngrams"
      ]
    },
    {
      "cell_type": "code",
      "metadata": {
        "colab": {
          "base_uri": "https://localhost:8080/",
          "height": 111
        },
        "id": "p4__YSsSVIWX",
        "outputId": "30af15b7-0ca2-417b-cc4a-c8a4e4ac812d"
      },
      "source": [
        "%%bigquery --project august-bucksaw-330517\n",
        "SELECT\n",
        "  ML.NGRAMS(['a', 'b', 'c'], [2,3], '#') AS output"
      ],
      "execution_count": null,
      "outputs": [
        {
          "output_type": "execute_result",
          "data": {
            "application/vnd.google.colaboratory.module+javascript": "\n      import \"https://ssl.gstatic.com/colaboratory/data_table/a6224c040fa35dcf/data_table.js\";\n\n      window.createDataTable({\n        data: [[{\n            'v': 0,\n            'f': \"0\",\n        },\n[\"a#b\", \"a#b#c\", \"b#c\"]]],\n        columns: [[\"number\", \"index\"], [\"string\", \"output\"]],\n        columnOptions: [{\"width\": \"1px\", \"className\": \"index_column\"}],\n        rowsPerPage: 25,\n        helpUrl: \"https://colab.research.google.com/notebooks/data_table.ipynb\",\n        suppressOutputScrolling: true,\n        minimumWidth: undefined,\n      });\n    ",
            "text/html": [
              "<div>\n",
              "<style scoped>\n",
              "    .dataframe tbody tr th:only-of-type {\n",
              "        vertical-align: middle;\n",
              "    }\n",
              "\n",
              "    .dataframe tbody tr th {\n",
              "        vertical-align: top;\n",
              "    }\n",
              "\n",
              "    .dataframe thead th {\n",
              "        text-align: right;\n",
              "    }\n",
              "</style>\n",
              "<table border=\"1\" class=\"dataframe\">\n",
              "  <thead>\n",
              "    <tr style=\"text-align: right;\">\n",
              "      <th></th>\n",
              "      <th>output</th>\n",
              "    </tr>\n",
              "  </thead>\n",
              "  <tbody>\n",
              "    <tr>\n",
              "      <th>0</th>\n",
              "      <td>[a#b, a#b#c, b#c]</td>\n",
              "    </tr>\n",
              "  </tbody>\n",
              "</table>\n",
              "</div>"
            ],
            "text/plain": [
              "              output\n",
              "0  [a#b, a#b#c, b#c]"
            ]
          },
          "metadata": {},
          "execution_count": 10
        }
      ]
    },
    {
      "cell_type": "code",
      "metadata": {
        "colab": {
          "base_uri": "https://localhost:8080/",
          "height": 111
        },
        "id": "C50CR9f1bdkb",
        "outputId": "27543ded-ae4c-4935-91b5-17faf9db4b06"
      },
      "source": [
        "# 'i am walking my dog' / ['i'], ['am'], ['walking'], ['my'], ['dog']\n",
        "# unigram: ['the', 'dog']\n",
        "# bigrams: ['the dog', 'dog ran', 'ran quickly']\n",
        "# trigram: ['the dog ran', 'dog ran quickly'\n",
        "# NLP\n",
        "\n",
        "%%bigquery --project august-bucksaw-330517\n",
        "select ml.ngrams(['the', 'dog', 'ran', 'quickly'], [2,2]) bigrams"
      ],
      "execution_count": null,
      "outputs": [
        {
          "output_type": "execute_result",
          "data": {
            "application/vnd.google.colaboratory.module+javascript": "\n      import \"https://ssl.gstatic.com/colaboratory/data_table/a6224c040fa35dcf/data_table.js\";\n\n      window.createDataTable({\n        data: [[{\n            'v': 0,\n            'f': \"0\",\n        },\n[\"the dog\", \"dog ran\", \"ran quickly\"]]],\n        columns: [[\"number\", \"index\"], [\"string\", \"bigrams\"]],\n        columnOptions: [{\"width\": \"1px\", \"className\": \"index_column\"}],\n        rowsPerPage: 25,\n        helpUrl: \"https://colab.research.google.com/notebooks/data_table.ipynb\",\n        suppressOutputScrolling: true,\n        minimumWidth: undefined,\n      });\n    ",
            "text/html": [
              "<div>\n",
              "<style scoped>\n",
              "    .dataframe tbody tr th:only-of-type {\n",
              "        vertical-align: middle;\n",
              "    }\n",
              "\n",
              "    .dataframe tbody tr th {\n",
              "        vertical-align: top;\n",
              "    }\n",
              "\n",
              "    .dataframe thead th {\n",
              "        text-align: right;\n",
              "    }\n",
              "</style>\n",
              "<table border=\"1\" class=\"dataframe\">\n",
              "  <thead>\n",
              "    <tr style=\"text-align: right;\">\n",
              "      <th></th>\n",
              "      <th>bigrams</th>\n",
              "    </tr>\n",
              "  </thead>\n",
              "  <tbody>\n",
              "    <tr>\n",
              "      <th>0</th>\n",
              "      <td>[the dog, dog ran, ran quickly]</td>\n",
              "    </tr>\n",
              "  </tbody>\n",
              "</table>\n",
              "</div>"
            ],
            "text/plain": [
              "                           bigrams\n",
              "0  [the dog, dog ran, ran quickly]"
            ]
          },
          "metadata": {},
          "execution_count": 12
        }
      ]
    },
    {
      "cell_type": "code",
      "metadata": {
        "colab": {
          "base_uri": "https://localhost:8080/",
          "height": 111
        },
        "id": "tMgTWX0yby1U",
        "outputId": "400eaaba-cc2a-4a4a-95a5-d37501572883"
      },
      "source": [
        "%%bigquery --project august-bucksaw-330517\n",
        "select ml.ngrams(['the', 'dog', 'ran', 'quickly'], [1,2]) unigrams_bigrams"
      ],
      "execution_count": null,
      "outputs": [
        {
          "output_type": "execute_result",
          "data": {
            "application/vnd.google.colaboratory.module+javascript": "\n      import \"https://ssl.gstatic.com/colaboratory/data_table/a6224c040fa35dcf/data_table.js\";\n\n      window.createDataTable({\n        data: [[{\n            'v': 0,\n            'f': \"0\",\n        },\n[\"the\", \"the dog\", \"dog\", \"dog ran\", \"ran\", \"ran quickly\", \"quickly\"]]],\n        columns: [[\"number\", \"index\"], [\"string\", \"unigrams_bigrams\"]],\n        columnOptions: [{\"width\": \"1px\", \"className\": \"index_column\"}],\n        rowsPerPage: 25,\n        helpUrl: \"https://colab.research.google.com/notebooks/data_table.ipynb\",\n        suppressOutputScrolling: true,\n        minimumWidth: undefined,\n      });\n    ",
            "text/html": [
              "<div>\n",
              "<style scoped>\n",
              "    .dataframe tbody tr th:only-of-type {\n",
              "        vertical-align: middle;\n",
              "    }\n",
              "\n",
              "    .dataframe tbody tr th {\n",
              "        vertical-align: top;\n",
              "    }\n",
              "\n",
              "    .dataframe thead th {\n",
              "        text-align: right;\n",
              "    }\n",
              "</style>\n",
              "<table border=\"1\" class=\"dataframe\">\n",
              "  <thead>\n",
              "    <tr style=\"text-align: right;\">\n",
              "      <th></th>\n",
              "      <th>unigrams_bigrams</th>\n",
              "    </tr>\n",
              "  </thead>\n",
              "  <tbody>\n",
              "    <tr>\n",
              "      <th>0</th>\n",
              "      <td>[the, the dog, dog, dog ran, ran, ran quickly,...</td>\n",
              "    </tr>\n",
              "  </tbody>\n",
              "</table>\n",
              "</div>"
            ],
            "text/plain": [
              "                                    unigrams_bigrams\n",
              "0  [the, the dog, dog, dog ran, ran, ran quickly,..."
            ]
          },
          "metadata": {},
          "execution_count": 13
        }
      ]
    },
    {
      "cell_type": "code",
      "metadata": {
        "colab": {
          "base_uri": "https://localhost:8080/",
          "height": 154
        },
        "id": "n-hyDMl5dzP1",
        "outputId": "6372e68d-539f-4bca-a5e5-edb200c1ef3d"
      },
      "source": [
        "%%bigquery --project august-bucksaw-330517\n",
        "with base_table as (select tag, title, id, ml.ngrams(split(title, ' '), [1,3]) words \n",
        "from `jrjames83-1171.sampledata.top_questions`),\n",
        "\n",
        "words_table as (select distinct tag, title, lower(trim(word)) word\n",
        "from base_table, unnest(words) word)\n",
        "\n",
        "select * from (\n",
        "    select tag, word, count(*) frequency,\n",
        "    row_number() over(partition by tag order by count(*) desc) tag_word_rank\n",
        "    from words_table\n",
        "    where word not in ('a', 'in', 'and', 'or', 'the', 'it', 'to', 'for', 'what', 'that', 'with', 'if', 'i') \n",
        "    and lower(tag) = 'python'\n",
        "    group by 1,2\n",
        "    order by 1,3 desc  \n",
        ") wt where wt.tag_word_rank < 4\n",
        "order by 1,4\n",
        "limit 10"
      ],
      "execution_count": null,
      "outputs": [
        {
          "output_type": "execute_result",
          "data": {
            "application/vnd.google.colaboratory.module+javascript": "\n      import \"https://ssl.gstatic.com/colaboratory/data_table/a6224c040fa35dcf/data_table.js\";\n\n      window.createDataTable({\n        data: [[{\n            'v': 0,\n            'f': \"0\",\n        },\n\"python\",\n\"how\",\n{\n            'v': 13,\n            'f': \"13\",\n        },\n{\n            'v': 1,\n            'f': \"1\",\n        }],\n [{\n            'v': 1,\n            'f': \"1\",\n        },\n\"python\",\n\"how do\",\n{\n            'v': 7,\n            'f': \"7\",\n        },\n{\n            'v': 2,\n            'f': \"2\",\n        }],\n [{\n            'v': 2,\n            'f': \"2\",\n        },\n\"python\",\n\"do\",\n{\n            'v': 7,\n            'f': \"7\",\n        },\n{\n            'v': 3,\n            'f': \"3\",\n        }]],\n        columns: [[\"number\", \"index\"], [\"string\", \"tag\"], [\"string\", \"word\"], [\"number\", \"frequency\"], [\"number\", \"tag_word_rank\"]],\n        columnOptions: [{\"width\": \"1px\", \"className\": \"index_column\"}],\n        rowsPerPage: 25,\n        helpUrl: \"https://colab.research.google.com/notebooks/data_table.ipynb\",\n        suppressOutputScrolling: true,\n        minimumWidth: undefined,\n      });\n    ",
            "text/html": [
              "<div>\n",
              "<style scoped>\n",
              "    .dataframe tbody tr th:only-of-type {\n",
              "        vertical-align: middle;\n",
              "    }\n",
              "\n",
              "    .dataframe tbody tr th {\n",
              "        vertical-align: top;\n",
              "    }\n",
              "\n",
              "    .dataframe thead th {\n",
              "        text-align: right;\n",
              "    }\n",
              "</style>\n",
              "<table border=\"1\" class=\"dataframe\">\n",
              "  <thead>\n",
              "    <tr style=\"text-align: right;\">\n",
              "      <th></th>\n",
              "      <th>tag</th>\n",
              "      <th>word</th>\n",
              "      <th>frequency</th>\n",
              "      <th>tag_word_rank</th>\n",
              "    </tr>\n",
              "  </thead>\n",
              "  <tbody>\n",
              "    <tr>\n",
              "      <th>0</th>\n",
              "      <td>python</td>\n",
              "      <td>how</td>\n",
              "      <td>13</td>\n",
              "      <td>1</td>\n",
              "    </tr>\n",
              "    <tr>\n",
              "      <th>1</th>\n",
              "      <td>python</td>\n",
              "      <td>how do</td>\n",
              "      <td>7</td>\n",
              "      <td>2</td>\n",
              "    </tr>\n",
              "    <tr>\n",
              "      <th>2</th>\n",
              "      <td>python</td>\n",
              "      <td>do</td>\n",
              "      <td>7</td>\n",
              "      <td>3</td>\n",
              "    </tr>\n",
              "  </tbody>\n",
              "</table>\n",
              "</div>"
            ],
            "text/plain": [
              "      tag    word  frequency  tag_word_rank\n",
              "0  python     how         13              1\n",
              "1  python  how do          7              2\n",
              "2  python      do          7              3"
            ]
          },
          "metadata": {},
          "execution_count": 18
        }
      ]
    },
    {
      "cell_type": "code",
      "metadata": {
        "id": "4XTTDGHJgXBT",
        "colab": {
          "base_uri": "https://localhost:8080/",
          "height": 111
        },
        "outputId": "dcf3888d-d1f7-454d-9317-8da0c86a6a13"
      },
      "source": [
        "%%bigquery --project august-bucksaw-330517\n",
        "with base_table as (select tag, title, id, ml.ngrams(split(title, ' '), [1,3]) words \n",
        "from `jrjames83-1171.sampledata.top_questions`),\n",
        "\n",
        "words_table as (select distinct tag, title, lower(trim(word)) word\n",
        "from base_table, unnest(words) word),\n",
        "\n",
        "ngrams_table as (select * from (\n",
        "    select tag, word, count(*) frequency,\n",
        "    row_number() over(partition by tag order by count(*) desc) tag_word_rank\n",
        "    from words_table\n",
        "    where word not in ('a', 'in', 'and', 'or', 'the', 'it', 'to', 'for', 'what', 'that', 'with', 'if', 'i') \n",
        "    and lower(tag) = 'python'\n",
        "    group by 1,2\n",
        "    order by 1,3 desc  \n",
        ") wt where wt.tag_word_rank < 20\n",
        "order by 1,4)\n",
        "\n",
        "select *\n",
        "from ngrams_table \n",
        "where array_length(split(word, ' ')) > 2\n",
        "limit 10"
      ],
      "execution_count": null,
      "outputs": [
        {
          "output_type": "execute_result",
          "data": {
            "application/vnd.google.colaboratory.module+javascript": "\n      import \"https://ssl.gstatic.com/colaboratory/data_table/a6224c040fa35dcf/data_table.js\";\n\n      window.createDataTable({\n        data: [[{\n            'v': 0,\n            'f': \"0\",\n        },\n\"python\",\n\"how do i\",\n{\n            'v': 6,\n            'f': \"6\",\n        },\n{\n            'v': 5,\n            'f': \"5\",\n        }]],\n        columns: [[\"number\", \"index\"], [\"string\", \"tag\"], [\"string\", \"word\"], [\"number\", \"frequency\"], [\"number\", \"tag_word_rank\"]],\n        columnOptions: [{\"width\": \"1px\", \"className\": \"index_column\"}],\n        rowsPerPage: 25,\n        helpUrl: \"https://colab.research.google.com/notebooks/data_table.ipynb\",\n        suppressOutputScrolling: true,\n        minimumWidth: undefined,\n      });\n    ",
            "text/html": [
              "<div>\n",
              "<style scoped>\n",
              "    .dataframe tbody tr th:only-of-type {\n",
              "        vertical-align: middle;\n",
              "    }\n",
              "\n",
              "    .dataframe tbody tr th {\n",
              "        vertical-align: top;\n",
              "    }\n",
              "\n",
              "    .dataframe thead th {\n",
              "        text-align: right;\n",
              "    }\n",
              "</style>\n",
              "<table border=\"1\" class=\"dataframe\">\n",
              "  <thead>\n",
              "    <tr style=\"text-align: right;\">\n",
              "      <th></th>\n",
              "      <th>tag</th>\n",
              "      <th>word</th>\n",
              "      <th>frequency</th>\n",
              "      <th>tag_word_rank</th>\n",
              "    </tr>\n",
              "  </thead>\n",
              "  <tbody>\n",
              "    <tr>\n",
              "      <th>0</th>\n",
              "      <td>python</td>\n",
              "      <td>how do i</td>\n",
              "      <td>6</td>\n",
              "      <td>5</td>\n",
              "    </tr>\n",
              "  </tbody>\n",
              "</table>\n",
              "</div>"
            ],
            "text/plain": [
              "      tag      word  frequency  tag_word_rank\n",
              "0  python  how do i          6              5"
            ]
          },
          "metadata": {},
          "execution_count": 4
        }
      ]
    },
    {
      "cell_type": "code",
      "metadata": {
        "colab": {
          "base_uri": "https://localhost:8080/",
          "height": 303
        },
        "id": "B0JwcPOB4l8W",
        "outputId": "44594eeb-5bf1-4678-95d8-5330c7fa4513"
      },
      "source": [
        "%%bigquery --project august-bucksaw-330517\n",
        "WITH ngrams AS (\n",
        "-- the ngrams generated from our documents\n",
        "  SELECT id, title, ML.NGRAMS(SPLIT(title, ' ' ), [1,10]) as doc\n",
        "  FROM `bigquery-samples.reddit.full`\n",
        ")\n",
        "-- we flatten the ngrams into a table, and JOIN to our names\n",
        "SELECT distinct id, word, title\n",
        "FROM ngrams, UNNEST(doc) as word\n",
        "JOIN `bigquery-public-data.usa_names.usa_1910_2013` names ON names.name = word\n",
        "order by 3\n",
        "limit 10"
      ],
      "execution_count": null,
      "outputs": [
        {
          "output_type": "execute_result",
          "data": {
            "application/vnd.google.colaboratory.module+javascript": "\n      import \"https://ssl.gstatic.com/colaboratory/data_table/a6224c040fa35dcf/data_table.js\";\n\n      window.createDataTable({\n        data: [[{\n            'v': 0,\n            'f': \"0\",\n        },\n\"1283r4\",\n\"Robert\",\n\"\\t\\t\\nUS Answer a Short Survey about where you would like to live - Robert Griffin - $0.15 - &gt;85%\"],\n [{\n            'v': 1,\n            'f': \"1\",\n        },\n\"1283r4\",\n\"Griffin\",\n\"\\t\\t\\nUS Answer a Short Survey about where you would like to live - Robert Griffin - $0.15 - &gt;85%\"],\n [{\n            'v': 2,\n            'f': \"2\",\n        },\n\"16uuyo\",\n\"Boston\",\n\"\\t\\tTHE POST GAME THREAD: Chicago Bulls 100 - Boston Celtics 99\\t\\t\\t\\t\\t\\t\\t\\t\\t\\t\"],\n [{\n            'v': 3,\n            'f': \"3\",\n        },\n\"shnny\",\n\"Will\",\n\"\\t\\nAmazon Will Lower ebook Prices\"],\n [{\n            'v': 4,\n            'f': \"4\",\n        },\n\"s4tw6\",\n\"Bay\",\n\"\\t\\nDutch Pirate Party Will Protect The Pirate Bay\"],\n [{\n            'v': 5,\n            'f': \"5\",\n        },\n\"s4tw6\",\n\"Will\",\n\"\\t\\nDutch Pirate Party Will Protect The Pirate Bay\"],\n [{\n            'v': 6,\n            'f': \"6\",\n        },\n\"pd6ez\",\n\"Will\",\n\"\\t\\nHolland Will Ban Torrent Trackers. In case the ISPs fail to comply, they would be demanded to pay a \\u20ac10,000/day fine up to a maximum of \\u20ac250,000\"],\n [{\n            'v': 7,\n            'f': \"7\",\n        },\n\"pd6ez\",\n\"In\",\n\"\\t\\nHolland Will Ban Torrent Trackers. In case the ISPs fail to comply, they would be demanded to pay a \\u20ac10,000/day fine up to a maximum of \\u20ac250,000\"],\n [{\n            'v': 8,\n            'f': \"8\",\n        },\n\"p368g\",\n\"Will\",\n\"\\t\\nMegaUpload Users Will Sue American Government\"],\n [{\n            'v': 9,\n            'f': \"9\",\n        },\n\"p368g\",\n\"Sue\",\n\"\\t\\nMegaUpload Users Will Sue American Government\"]],\n        columns: [[\"number\", \"index\"], [\"string\", \"id\"], [\"string\", \"word\"], [\"string\", \"title\"]],\n        columnOptions: [{\"width\": \"1px\", \"className\": \"index_column\"}],\n        rowsPerPage: 25,\n        helpUrl: \"https://colab.research.google.com/notebooks/data_table.ipynb\",\n        suppressOutputScrolling: true,\n        minimumWidth: undefined,\n      });\n    ",
            "text/html": [
              "<div>\n",
              "<style scoped>\n",
              "    .dataframe tbody tr th:only-of-type {\n",
              "        vertical-align: middle;\n",
              "    }\n",
              "\n",
              "    .dataframe tbody tr th {\n",
              "        vertical-align: top;\n",
              "    }\n",
              "\n",
              "    .dataframe thead th {\n",
              "        text-align: right;\n",
              "    }\n",
              "</style>\n",
              "<table border=\"1\" class=\"dataframe\">\n",
              "  <thead>\n",
              "    <tr style=\"text-align: right;\">\n",
              "      <th></th>\n",
              "      <th>id</th>\n",
              "      <th>word</th>\n",
              "      <th>title</th>\n",
              "    </tr>\n",
              "  </thead>\n",
              "  <tbody>\n",
              "    <tr>\n",
              "      <th>0</th>\n",
              "      <td>1283r4</td>\n",
              "      <td>Robert</td>\n",
              "      <td>\\t\\t\\nUS Answer a Short Survey about where you...</td>\n",
              "    </tr>\n",
              "    <tr>\n",
              "      <th>1</th>\n",
              "      <td>1283r4</td>\n",
              "      <td>Griffin</td>\n",
              "      <td>\\t\\t\\nUS Answer a Short Survey about where you...</td>\n",
              "    </tr>\n",
              "    <tr>\n",
              "      <th>2</th>\n",
              "      <td>16uuyo</td>\n",
              "      <td>Boston</td>\n",
              "      <td>\\t\\tTHE POST GAME THREAD: Chicago Bulls 100 - ...</td>\n",
              "    </tr>\n",
              "    <tr>\n",
              "      <th>3</th>\n",
              "      <td>shnny</td>\n",
              "      <td>Will</td>\n",
              "      <td>\\t\\nAmazon Will Lower ebook Prices</td>\n",
              "    </tr>\n",
              "    <tr>\n",
              "      <th>4</th>\n",
              "      <td>s4tw6</td>\n",
              "      <td>Bay</td>\n",
              "      <td>\\t\\nDutch Pirate Party Will Protect The Pirate...</td>\n",
              "    </tr>\n",
              "    <tr>\n",
              "      <th>5</th>\n",
              "      <td>s4tw6</td>\n",
              "      <td>Will</td>\n",
              "      <td>\\t\\nDutch Pirate Party Will Protect The Pirate...</td>\n",
              "    </tr>\n",
              "    <tr>\n",
              "      <th>6</th>\n",
              "      <td>pd6ez</td>\n",
              "      <td>Will</td>\n",
              "      <td>\\t\\nHolland Will Ban Torrent Trackers. In case...</td>\n",
              "    </tr>\n",
              "    <tr>\n",
              "      <th>7</th>\n",
              "      <td>pd6ez</td>\n",
              "      <td>In</td>\n",
              "      <td>\\t\\nHolland Will Ban Torrent Trackers. In case...</td>\n",
              "    </tr>\n",
              "    <tr>\n",
              "      <th>8</th>\n",
              "      <td>p368g</td>\n",
              "      <td>Will</td>\n",
              "      <td>\\t\\nMegaUpload Users Will Sue American Government</td>\n",
              "    </tr>\n",
              "    <tr>\n",
              "      <th>9</th>\n",
              "      <td>p368g</td>\n",
              "      <td>Sue</td>\n",
              "      <td>\\t\\nMegaUpload Users Will Sue American Government</td>\n",
              "    </tr>\n",
              "  </tbody>\n",
              "</table>\n",
              "</div>"
            ],
            "text/plain": [
              "       id     word                                              title\n",
              "0  1283r4   Robert  \\t\\t\\nUS Answer a Short Survey about where you...\n",
              "1  1283r4  Griffin  \\t\\t\\nUS Answer a Short Survey about where you...\n",
              "2  16uuyo   Boston  \\t\\tTHE POST GAME THREAD: Chicago Bulls 100 - ...\n",
              "3   shnny     Will                 \\t\\nAmazon Will Lower ebook Prices\n",
              "4   s4tw6      Bay  \\t\\nDutch Pirate Party Will Protect The Pirate...\n",
              "5   s4tw6     Will  \\t\\nDutch Pirate Party Will Protect The Pirate...\n",
              "6   pd6ez     Will  \\t\\nHolland Will Ban Torrent Trackers. In case...\n",
              "7   pd6ez       In  \\t\\nHolland Will Ban Torrent Trackers. In case...\n",
              "8   p368g     Will  \\t\\nMegaUpload Users Will Sue American Government\n",
              "9   p368g      Sue  \\t\\nMegaUpload Users Will Sue American Government"
            ]
          },
          "metadata": {},
          "execution_count": 3
        }
      ]
    }
  ]
}