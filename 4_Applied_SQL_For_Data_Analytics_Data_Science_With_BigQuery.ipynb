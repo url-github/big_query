{
  "nbformat": 4,
  "nbformat_minor": 0,
  "metadata": {
    "colab": {
      "name": "4.Applied SQL For Data Analytics / Data Science With BigQuery.ipynb",
      "provenance": [],
      "authorship_tag": "ABX9TyNR1SLch4gNoPf0C9TtHFKQ"
    },
    "kernelspec": {
      "name": "python3",
      "display_name": "Python 3"
    },
    "language_info": {
      "name": "python"
    }
  },
  "cells": [
    {
      "cell_type": "code",
      "metadata": {
        "colab": {
          "base_uri": "https://localhost:8080/"
        },
        "id": "GUs8dnLrkbFC",
        "outputId": "44fa844a-b980-4482-c265-2a34598a1f4c"
      },
      "source": [
        "from google.colab import auth\n",
        "auth.authenticate_user()\n",
        "print('Authenticated')\n",
        "%load_ext google.colab.data_table"
      ],
      "execution_count": null,
      "outputs": [
        {
          "output_type": "stream",
          "name": "stdout",
          "text": [
            "Authenticated\n"
          ]
        }
      ]
    },
    {
      "cell_type": "markdown",
      "metadata": {
        "id": "W-yefbwVkzKo"
      },
      "source": [
        "More Complex JOIN's and Partition'ing"
      ]
    },
    {
      "cell_type": "code",
      "metadata": {
        "colab": {
          "base_uri": "https://localhost:8080/",
          "height": 195
        },
        "id": "t780r-f2kixR",
        "outputId": "27ee67da-e647-4411-de8b-089145a2c4db"
      },
      "source": [
        "%%bigquery --project august-bucksaw-330517\n",
        "select p.payment_id, p.amount, p.customer_id, p.rental_id, i.film_id, f.title, f.rating\n",
        "from `jrjames83-1171.sampledata.payments` p\n",
        "join `jrjames83-1171.sampledata.rental` r on p.rental_id=r.rental_id\n",
        "join `jrjames83-1171.sampledata.inventory` i on r.inventory_id = i.inventory_id\n",
        "join `jrjames83-1171.sampledata.film` f on i.film_id = f.film_id\n",
        "limit 5"
      ],
      "execution_count": null,
      "outputs": [
        {
          "output_type": "execute_result",
          "data": {
            "application/vnd.google.colaboratory.module+javascript": "\n      import \"https://ssl.gstatic.com/colaboratory/data_table/a6224c040fa35dcf/data_table.js\";\n\n      window.createDataTable({\n        data: [[{\n            'v': 0,\n            'f': \"0\",\n        },\n{\n            'v': 19462,\n            'f': \"19462\",\n        },\n{\n            'v': 2.99,\n            'f': \"2.99\",\n        },\n{\n            'v': 256,\n            'f': \"256\",\n        },\n{\n            'v': 1555,\n            'f': \"1555\",\n        },\n{\n            'v': 906,\n            'f': \"906\",\n        },\n\"Tramp Others\",\n\"PG\"],\n [{\n            'v': 1,\n            'f': \"1\",\n        },\n{\n            'v': 19464,\n            'f': \"19464\",\n        },\n{\n            'v': 4.99,\n            'f': \"4.99\",\n        },\n{\n            'v': 256,\n            'f': \"256\",\n        },\n{\n            'v': 1973,\n            'f': \"1973\",\n        },\n{\n            'v': 803,\n            'f': \"803\",\n        },\n\"Slacker Liaisons\",\n\"R\"],\n [{\n            'v': 2,\n            'f': \"2\",\n        },\n{\n            'v': 31791,\n            'f': \"31791\",\n        },\n{\n            'v': 0.99,\n            'f': \"0.99\",\n        },\n{\n            'v': 256,\n            'f': \"256\",\n        },\n{\n            'v': 4182,\n            'f': \"4182\",\n        },\n{\n            'v': 677,\n            'f': \"677\",\n        },\n\"Pianist Outfield\",\n\"NC-17\"],\n [{\n            'v': 3,\n            'f': \"3\",\n        },\n{\n            'v': 31792,\n            'f': \"31792\",\n        },\n{\n            'v': 2.99,\n            'f': \"2.99\",\n        },\n{\n            'v': 256,\n            'f': \"256\",\n        },\n{\n            'v': 5179,\n            'f': \"5179\",\n        },\n{\n            'v': 657,\n            'f': \"657\",\n        },\n\"Paradise Sabrina\",\n\"PG-13\"],\n [{\n            'v': 4,\n            'f': \"4\",\n        },\n{\n            'v': 31795,\n            'f': \"31795\",\n        },\n{\n            'v': 2.99,\n            'f': \"2.99\",\n        },\n{\n            'v': 256,\n            'f': \"256\",\n        },\n{\n            'v': 9424,\n            'f': \"9424\",\n        },\n{\n            'v': 982,\n            'f': \"982\",\n        },\n\"Women Dorado\",\n\"R\"]],\n        columns: [[\"number\", \"index\"], [\"number\", \"payment_id\"], [\"number\", \"amount\"], [\"number\", \"customer_id\"], [\"number\", \"rental_id\"], [\"number\", \"film_id\"], [\"string\", \"title\"], [\"string\", \"rating\"]],\n        columnOptions: [{\"width\": \"1px\", \"className\": \"index_column\"}],\n        rowsPerPage: 25,\n        helpUrl: \"https://colab.research.google.com/notebooks/data_table.ipynb\",\n        suppressOutputScrolling: true,\n        minimumWidth: undefined,\n      });\n    ",
            "text/html": [
              "<div>\n",
              "<style scoped>\n",
              "    .dataframe tbody tr th:only-of-type {\n",
              "        vertical-align: middle;\n",
              "    }\n",
              "\n",
              "    .dataframe tbody tr th {\n",
              "        vertical-align: top;\n",
              "    }\n",
              "\n",
              "    .dataframe thead th {\n",
              "        text-align: right;\n",
              "    }\n",
              "</style>\n",
              "<table border=\"1\" class=\"dataframe\">\n",
              "  <thead>\n",
              "    <tr style=\"text-align: right;\">\n",
              "      <th></th>\n",
              "      <th>payment_id</th>\n",
              "      <th>amount</th>\n",
              "      <th>customer_id</th>\n",
              "      <th>rental_id</th>\n",
              "      <th>film_id</th>\n",
              "      <th>title</th>\n",
              "      <th>rating</th>\n",
              "    </tr>\n",
              "  </thead>\n",
              "  <tbody>\n",
              "    <tr>\n",
              "      <th>0</th>\n",
              "      <td>19462</td>\n",
              "      <td>2.99</td>\n",
              "      <td>256</td>\n",
              "      <td>1555</td>\n",
              "      <td>906</td>\n",
              "      <td>Tramp Others</td>\n",
              "      <td>PG</td>\n",
              "    </tr>\n",
              "    <tr>\n",
              "      <th>1</th>\n",
              "      <td>19464</td>\n",
              "      <td>4.99</td>\n",
              "      <td>256</td>\n",
              "      <td>1973</td>\n",
              "      <td>803</td>\n",
              "      <td>Slacker Liaisons</td>\n",
              "      <td>R</td>\n",
              "    </tr>\n",
              "    <tr>\n",
              "      <th>2</th>\n",
              "      <td>31791</td>\n",
              "      <td>0.99</td>\n",
              "      <td>256</td>\n",
              "      <td>4182</td>\n",
              "      <td>677</td>\n",
              "      <td>Pianist Outfield</td>\n",
              "      <td>NC-17</td>\n",
              "    </tr>\n",
              "    <tr>\n",
              "      <th>3</th>\n",
              "      <td>31792</td>\n",
              "      <td>2.99</td>\n",
              "      <td>256</td>\n",
              "      <td>5179</td>\n",
              "      <td>657</td>\n",
              "      <td>Paradise Sabrina</td>\n",
              "      <td>PG-13</td>\n",
              "    </tr>\n",
              "    <tr>\n",
              "      <th>4</th>\n",
              "      <td>31795</td>\n",
              "      <td>2.99</td>\n",
              "      <td>256</td>\n",
              "      <td>9424</td>\n",
              "      <td>982</td>\n",
              "      <td>Women Dorado</td>\n",
              "      <td>R</td>\n",
              "    </tr>\n",
              "  </tbody>\n",
              "</table>\n",
              "</div>"
            ],
            "text/plain": [
              "   payment_id  amount  customer_id  rental_id  film_id             title rating\n",
              "0       19462    2.99          256       1555      906      Tramp Others     PG\n",
              "1       19464    4.99          256       1973      803  Slacker Liaisons      R\n",
              "2       31791    0.99          256       4182      677  Pianist Outfield  NC-17\n",
              "3       31792    2.99          256       5179      657  Paradise Sabrina  PG-13\n",
              "4       31795    2.99          256       9424      982      Women Dorado      R"
            ]
          },
          "metadata": {},
          "execution_count": 2
        }
      ]
    },
    {
      "cell_type": "code",
      "metadata": {
        "colab": {
          "base_uri": "https://localhost:8080/",
          "height": 195
        },
        "id": "xKNWVtparqii",
        "outputId": "69c1e275-475e-4214-c3d8-e0431e1d98df"
      },
      "source": [
        "%%bigquery --project august-bucksaw-330517\n",
        "with base_table as (select p.payment_id, p.amount, p.customer_id, p.rental_id, i.film_id, f.title, f.rating\n",
        "from `jrjames83-1171.sampledata.payments` p\n",
        "join `jrjames83-1171.sampledata.rental` r on p.rental_id=r.rental_id\n",
        "join `jrjames83-1171.sampledata.inventory` i on r.inventory_id = i.inventory_id\n",
        "join `jrjames83-1171.sampledata.film` f on i.film_id = f.film_id)\n",
        "\n",
        "select bt.customer_id, bt.rating, sum(bt.amount) rental_revenue \n",
        "from base_table bt\n",
        "group by 1,2\n",
        "order by 1\n",
        "limit 5"
      ],
      "execution_count": null,
      "outputs": [
        {
          "output_type": "execute_result",
          "data": {
            "application/vnd.google.colaboratory.module+javascript": "\n      import \"https://ssl.gstatic.com/colaboratory/data_table/a6224c040fa35dcf/data_table.js\";\n\n      window.createDataTable({\n        data: [[{\n            'v': 0,\n            'f': \"0\",\n        },\n{\n            'v': 1,\n            'f': \"1\",\n        },\n\"PG-13\",\n{\n            'v': 24.940000000000005,\n            'f': \"24.940000000000005\",\n        }],\n [{\n            'v': 1,\n            'f': \"1\",\n        },\n{\n            'v': 1,\n            'f': \"1\",\n        },\n\"PG\",\n{\n            'v': 28.92,\n            'f': \"28.92\",\n        }],\n [{\n            'v': 2,\n            'f': \"2\",\n        },\n{\n            'v': 1,\n            'f': \"1\",\n        },\n\"NC-17\",\n{\n            'v': 32.92,\n            'f': \"32.92\",\n        }],\n [{\n            'v': 3,\n            'f': \"3\",\n        },\n{\n            'v': 1,\n            'f': \"1\",\n        },\n\"G\",\n{\n            'v': 11.97,\n            'f': \"11.97\",\n        }],\n [{\n            'v': 4,\n            'f': \"4\",\n        },\n{\n            'v': 1,\n            'f': \"1\",\n        },\n\"R\",\n{\n            'v': 15.950000000000001,\n            'f': \"15.950000000000001\",\n        }]],\n        columns: [[\"number\", \"index\"], [\"number\", \"customer_id\"], [\"string\", \"rating\"], [\"number\", \"rental_revenue\"]],\n        columnOptions: [{\"width\": \"1px\", \"className\": \"index_column\"}],\n        rowsPerPage: 25,\n        helpUrl: \"https://colab.research.google.com/notebooks/data_table.ipynb\",\n        suppressOutputScrolling: true,\n        minimumWidth: undefined,\n      });\n    ",
            "text/html": [
              "<div>\n",
              "<style scoped>\n",
              "    .dataframe tbody tr th:only-of-type {\n",
              "        vertical-align: middle;\n",
              "    }\n",
              "\n",
              "    .dataframe tbody tr th {\n",
              "        vertical-align: top;\n",
              "    }\n",
              "\n",
              "    .dataframe thead th {\n",
              "        text-align: right;\n",
              "    }\n",
              "</style>\n",
              "<table border=\"1\" class=\"dataframe\">\n",
              "  <thead>\n",
              "    <tr style=\"text-align: right;\">\n",
              "      <th></th>\n",
              "      <th>customer_id</th>\n",
              "      <th>rating</th>\n",
              "      <th>rental_revenue</th>\n",
              "    </tr>\n",
              "  </thead>\n",
              "  <tbody>\n",
              "    <tr>\n",
              "      <th>0</th>\n",
              "      <td>1</td>\n",
              "      <td>PG-13</td>\n",
              "      <td>24.94</td>\n",
              "    </tr>\n",
              "    <tr>\n",
              "      <th>1</th>\n",
              "      <td>1</td>\n",
              "      <td>PG</td>\n",
              "      <td>28.92</td>\n",
              "    </tr>\n",
              "    <tr>\n",
              "      <th>2</th>\n",
              "      <td>1</td>\n",
              "      <td>NC-17</td>\n",
              "      <td>32.92</td>\n",
              "    </tr>\n",
              "    <tr>\n",
              "      <th>3</th>\n",
              "      <td>1</td>\n",
              "      <td>G</td>\n",
              "      <td>11.97</td>\n",
              "    </tr>\n",
              "    <tr>\n",
              "      <th>4</th>\n",
              "      <td>1</td>\n",
              "      <td>R</td>\n",
              "      <td>15.95</td>\n",
              "    </tr>\n",
              "  </tbody>\n",
              "</table>\n",
              "</div>"
            ],
            "text/plain": [
              "   customer_id rating  rental_revenue\n",
              "0            1  PG-13           24.94\n",
              "1            1     PG           28.92\n",
              "2            1  NC-17           32.92\n",
              "3            1      G           11.97\n",
              "4            1      R           15.95"
            ]
          },
          "metadata": {},
          "execution_count": 3
        }
      ]
    },
    {
      "cell_type": "code",
      "metadata": {
        "colab": {
          "base_uri": "https://localhost:8080/",
          "height": 195
        },
        "id": "tIyCl9zc_Iqm",
        "outputId": "4ad4f7d5-e7b8-4e06-b2bf-ec7d40a2a4de"
      },
      "source": [
        "%%bigquery --project august-bucksaw-330517\n",
        "with base_table as (select p.payment_id, p.amount, p.customer_id, p.rental_id, i.film_id, f.title, f.rating\n",
        "from `jrjames83-1171.sampledata.payments` p\n",
        "join `jrjames83-1171.sampledata.rental` r on p.rental_id=r.rental_id\n",
        "join `jrjames83-1171.sampledata.inventory` i on r.inventory_id = i.inventory_id\n",
        "join `jrjames83-1171.sampledata.film` f on i.film_id = f.film_id),\n",
        "\n",
        "summary_table as (select bt.customer_id, bt.rating, sum(bt.amount) rental_revenue \n",
        "from base_table bt\n",
        "group by 1,2\n",
        "order by 1)\n",
        "\n",
        "select * from (select \n",
        "    st.*, row_number() over (partition by st.customer_id order by st.rental_revenue desc) rating_customer_revenue\n",
        "    from summary_table st\n",
        "    order by st.customer_id) t\n",
        "where t.rating_customer_revenue < 3\n",
        "limit 5"
      ],
      "execution_count": null,
      "outputs": [
        {
          "output_type": "execute_result",
          "data": {
            "application/vnd.google.colaboratory.module+javascript": "\n      import \"https://ssl.gstatic.com/colaboratory/data_table/a6224c040fa35dcf/data_table.js\";\n\n      window.createDataTable({\n        data: [[{\n            'v': 0,\n            'f': \"0\",\n        },\n{\n            'v': 1,\n            'f': \"1\",\n        },\n\"NC-17\",\n{\n            'v': 32.92,\n            'f': \"32.92\",\n        },\n{\n            'v': 1,\n            'f': \"1\",\n        }],\n [{\n            'v': 1,\n            'f': \"1\",\n        },\n{\n            'v': 1,\n            'f': \"1\",\n        },\n\"PG\",\n{\n            'v': 28.92,\n            'f': \"28.92\",\n        },\n{\n            'v': 2,\n            'f': \"2\",\n        }],\n [{\n            'v': 2,\n            'f': \"2\",\n        },\n{\n            'v': 2,\n            'f': \"2\",\n        },\n\"PG\",\n{\n            'v': 30.940000000000005,\n            'f': \"30.940000000000005\",\n        },\n{\n            'v': 2,\n            'f': \"2\",\n        }],\n [{\n            'v': 3,\n            'f': \"3\",\n        },\n{\n            'v': 2,\n            'f': \"2\",\n        },\n\"G\",\n{\n            'v': 30.96,\n            'f': \"30.96\",\n        },\n{\n            'v': 1,\n            'f': \"1\",\n        }],\n [{\n            'v': 4,\n            'f': \"4\",\n        },\n{\n            'v': 3,\n            'f': \"3\",\n        },\n\"R\",\n{\n            'v': 66.89000000000001,\n            'f': \"66.89000000000001\",\n        },\n{\n            'v': 1,\n            'f': \"1\",\n        }]],\n        columns: [[\"number\", \"index\"], [\"number\", \"customer_id\"], [\"string\", \"rating\"], [\"number\", \"rental_revenue\"], [\"number\", \"rating_customer_revenue\"]],\n        columnOptions: [{\"width\": \"1px\", \"className\": \"index_column\"}],\n        rowsPerPage: 25,\n        helpUrl: \"https://colab.research.google.com/notebooks/data_table.ipynb\",\n        suppressOutputScrolling: true,\n        minimumWidth: undefined,\n      });\n    ",
            "text/html": [
              "<div>\n",
              "<style scoped>\n",
              "    .dataframe tbody tr th:only-of-type {\n",
              "        vertical-align: middle;\n",
              "    }\n",
              "\n",
              "    .dataframe tbody tr th {\n",
              "        vertical-align: top;\n",
              "    }\n",
              "\n",
              "    .dataframe thead th {\n",
              "        text-align: right;\n",
              "    }\n",
              "</style>\n",
              "<table border=\"1\" class=\"dataframe\">\n",
              "  <thead>\n",
              "    <tr style=\"text-align: right;\">\n",
              "      <th></th>\n",
              "      <th>customer_id</th>\n",
              "      <th>rating</th>\n",
              "      <th>rental_revenue</th>\n",
              "      <th>rating_customer_revenue</th>\n",
              "    </tr>\n",
              "  </thead>\n",
              "  <tbody>\n",
              "    <tr>\n",
              "      <th>0</th>\n",
              "      <td>1</td>\n",
              "      <td>NC-17</td>\n",
              "      <td>32.92</td>\n",
              "      <td>1</td>\n",
              "    </tr>\n",
              "    <tr>\n",
              "      <th>1</th>\n",
              "      <td>1</td>\n",
              "      <td>PG</td>\n",
              "      <td>28.92</td>\n",
              "      <td>2</td>\n",
              "    </tr>\n",
              "    <tr>\n",
              "      <th>2</th>\n",
              "      <td>2</td>\n",
              "      <td>PG</td>\n",
              "      <td>30.94</td>\n",
              "      <td>2</td>\n",
              "    </tr>\n",
              "    <tr>\n",
              "      <th>3</th>\n",
              "      <td>2</td>\n",
              "      <td>G</td>\n",
              "      <td>30.96</td>\n",
              "      <td>1</td>\n",
              "    </tr>\n",
              "    <tr>\n",
              "      <th>4</th>\n",
              "      <td>3</td>\n",
              "      <td>R</td>\n",
              "      <td>66.89</td>\n",
              "      <td>1</td>\n",
              "    </tr>\n",
              "  </tbody>\n",
              "</table>\n",
              "</div>"
            ],
            "text/plain": [
              "   customer_id rating  rental_revenue  rating_customer_revenue\n",
              "0            1  NC-17           32.92                        1\n",
              "1            1     PG           28.92                        2\n",
              "2            2     PG           30.94                        2\n",
              "3            2      G           30.96                        1\n",
              "4            3      R           66.89                        1"
            ]
          },
          "metadata": {},
          "execution_count": 4
        }
      ]
    },
    {
      "cell_type": "code",
      "metadata": {
        "colab": {
          "base_uri": "https://localhost:8080/",
          "height": 195
        },
        "id": "ih-2C_ntBBAa",
        "outputId": "7f1222ce-3f2e-47b8-fb4f-da9f8e390345"
      },
      "source": [
        "%%bigquery --project august-bucksaw-330517\n",
        "with base_table as (select p.payment_id, p.amount, p.payment_date, p.customer_id, p.rental_id, i.film_id, f.title, f.rating\n",
        "from `jrjames83-1171.sampledata.payments` p\n",
        "join `jrjames83-1171.sampledata.rental` r on p.rental_id=r.rental_id\n",
        "join `jrjames83-1171.sampledata.inventory` i on r.inventory_id = i.inventory_id\n",
        "join `jrjames83-1171.sampledata.film` f on i.film_id = f.film_id),\n",
        "\n",
        "summary_table as (select bt.customer_id, bt.rating, extract(month from bt.payment_date) month, sum(bt.amount) rental_revenue \n",
        "from base_table bt\n",
        "group by 1,2,3\n",
        "order by 1)\n",
        "\n",
        "select * from (select \n",
        "    st.*, row_number() over (partition by st.customer_id, st.month order by st.rental_revenue desc) rating_customer_revenue_month\n",
        "    from summary_table st\n",
        "    order by st.customer_id) t\n",
        "where t.rating_customer_revenue_month < 3\n",
        "limit 5"
      ],
      "execution_count": null,
      "outputs": [
        {
          "output_type": "execute_result",
          "data": {
            "application/vnd.google.colaboratory.module+javascript": "\n      import \"https://ssl.gstatic.com/colaboratory/data_table/a6224c040fa35dcf/data_table.js\";\n\n      window.createDataTable({\n        data: [[{\n            'v': 0,\n            'f': \"0\",\n        },\n{\n            'v': 1,\n            'f': \"1\",\n        },\n\"NC-17\",\n{\n            'v': 3,\n            'f': \"3\",\n        },\n{\n            'v': 15.96,\n            'f': \"15.96\",\n        },\n{\n            'v': 1,\n            'f': \"1\",\n        }],\n [{\n            'v': 1,\n            'f': \"1\",\n        },\n{\n            'v': 1,\n            'f': \"1\",\n        },\n\"PG\",\n{\n            'v': 2,\n            'f': \"2\",\n        },\n{\n            'v': 15.98,\n            'f': \"15.98\",\n        },\n{\n            'v': 1,\n            'f': \"1\",\n        }],\n [{\n            'v': 2,\n            'f': \"2\",\n        },\n{\n            'v': 1,\n            'f': \"1\",\n        },\n\"PG\",\n{\n            'v': 3,\n            'f': \"3\",\n        },\n{\n            'v': 6.96,\n            'f': \"6.96\",\n        },\n{\n            'v': 2,\n            'f': \"2\",\n        }],\n [{\n            'v': 3,\n            'f': \"3\",\n        },\n{\n            'v': 1,\n            'f': \"1\",\n        },\n\"NC-17\",\n{\n            'v': 4,\n            'f': \"4\",\n        },\n{\n            'v': 12.97,\n            'f': \"12.97\",\n        },\n{\n            'v': 2,\n            'f': \"2\",\n        }],\n [{\n            'v': 4,\n            'f': \"4\",\n        },\n{\n            'v': 1,\n            'f': \"1\",\n        },\n\"PG-13\",\n{\n            'v': 4,\n            'f': \"4\",\n        },\n{\n            'v': 12.98,\n            'f': \"12.98\",\n        },\n{\n            'v': 1,\n            'f': \"1\",\n        }]],\n        columns: [[\"number\", \"index\"], [\"number\", \"customer_id\"], [\"string\", \"rating\"], [\"number\", \"month\"], [\"number\", \"rental_revenue\"], [\"number\", \"rating_customer_revenue_month\"]],\n        columnOptions: [{\"width\": \"1px\", \"className\": \"index_column\"}],\n        rowsPerPage: 25,\n        helpUrl: \"https://colab.research.google.com/notebooks/data_table.ipynb\",\n        suppressOutputScrolling: true,\n        minimumWidth: undefined,\n      });\n    ",
            "text/html": [
              "<div>\n",
              "<style scoped>\n",
              "    .dataframe tbody tr th:only-of-type {\n",
              "        vertical-align: middle;\n",
              "    }\n",
              "\n",
              "    .dataframe tbody tr th {\n",
              "        vertical-align: top;\n",
              "    }\n",
              "\n",
              "    .dataframe thead th {\n",
              "        text-align: right;\n",
              "    }\n",
              "</style>\n",
              "<table border=\"1\" class=\"dataframe\">\n",
              "  <thead>\n",
              "    <tr style=\"text-align: right;\">\n",
              "      <th></th>\n",
              "      <th>customer_id</th>\n",
              "      <th>rating</th>\n",
              "      <th>month</th>\n",
              "      <th>rental_revenue</th>\n",
              "      <th>rating_customer_revenue_month</th>\n",
              "    </tr>\n",
              "  </thead>\n",
              "  <tbody>\n",
              "    <tr>\n",
              "      <th>0</th>\n",
              "      <td>1</td>\n",
              "      <td>NC-17</td>\n",
              "      <td>3</td>\n",
              "      <td>15.96</td>\n",
              "      <td>1</td>\n",
              "    </tr>\n",
              "    <tr>\n",
              "      <th>1</th>\n",
              "      <td>1</td>\n",
              "      <td>PG</td>\n",
              "      <td>2</td>\n",
              "      <td>15.98</td>\n",
              "      <td>1</td>\n",
              "    </tr>\n",
              "    <tr>\n",
              "      <th>2</th>\n",
              "      <td>1</td>\n",
              "      <td>PG</td>\n",
              "      <td>3</td>\n",
              "      <td>6.96</td>\n",
              "      <td>2</td>\n",
              "    </tr>\n",
              "    <tr>\n",
              "      <th>3</th>\n",
              "      <td>1</td>\n",
              "      <td>NC-17</td>\n",
              "      <td>4</td>\n",
              "      <td>12.97</td>\n",
              "      <td>2</td>\n",
              "    </tr>\n",
              "    <tr>\n",
              "      <th>4</th>\n",
              "      <td>1</td>\n",
              "      <td>PG-13</td>\n",
              "      <td>4</td>\n",
              "      <td>12.98</td>\n",
              "      <td>1</td>\n",
              "    </tr>\n",
              "  </tbody>\n",
              "</table>\n",
              "</div>"
            ],
            "text/plain": [
              "   customer_id rating  month  rental_revenue  rating_customer_revenue_month\n",
              "0            1  NC-17      3           15.96                              1\n",
              "1            1     PG      2           15.98                              1\n",
              "2            1     PG      3            6.96                              2\n",
              "3            1  NC-17      4           12.97                              2\n",
              "4            1  PG-13      4           12.98                              1"
            ]
          },
          "metadata": {},
          "execution_count": 5
        }
      ]
    }
  ]
}