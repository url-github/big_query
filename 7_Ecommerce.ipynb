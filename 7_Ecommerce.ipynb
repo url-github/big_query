{
  "nbformat": 4,
  "nbformat_minor": 0,
  "metadata": {
    "colab": {
      "name": "7.Ecommerce.ipynb",
      "provenance": [],
      "authorship_tag": "ABX9TyOXA+VojIl+9mFCS1p3SLMt"
    },
    "kernelspec": {
      "name": "python3",
      "display_name": "Python 3"
    },
    "language_info": {
      "name": "python"
    }
  },
  "cells": [
    {
      "cell_type": "code",
      "metadata": {
        "colab": {
          "base_uri": "https://localhost:8080/"
        },
        "id": "VB22a2TU3g8d",
        "outputId": "10de751a-26d6-4dda-ee4d-b16195ea92cb"
      },
      "source": [
        "from google.colab import auth\n",
        "auth.authenticate_user()\n",
        "print('Authenticated')\n",
        "\n",
        "%load_ext google.colab.data_table"
      ],
      "execution_count": null,
      "outputs": [
        {
          "output_type": "stream",
          "name": "stdout",
          "text": [
            "Authenticated\n"
          ]
        }
      ]
    },
    {
      "cell_type": "markdown",
      "metadata": {
        "id": "AJ9bF9Hk4LAz"
      },
      "source": [
        "Calculate Ecommerce Metrics By Date"
      ]
    },
    {
      "cell_type": "code",
      "metadata": {
        "colab": {
          "base_uri": "https://localhost:8080/",
          "height": 174
        },
        "id": "T0KmHEL_3w4x",
        "outputId": "e45e3271-a1ae-429c-ada7-905a1b86012c"
      },
      "source": [
        "%%bigquery --project produkcja-instore\n",
        "\n",
        "select \n",
        "    event_date as date,\n",
        "    count(distinct ecommerce.transaction_id) as transactions,\n",
        "    sum(ecommerce.purchase_revenue) as purchase_revenue\n",
        "from\n",
        "    `simoahava-com.analytics_206575074.events_*`\n",
        "where\n",
        "    _table_suffix between '20210701' and format_date('%Y%m%d',date_sub(current_date(), interval 1 day))\n",
        "group by \n",
        "    date\n",
        "order by\n",
        "    date\n",
        "\n",
        "LIMIT 4"
      ],
      "execution_count": null,
      "outputs": [
        {
          "output_type": "execute_result",
          "data": {
            "application/vnd.google.colaboratory.module+javascript": "\n      import \"https://ssl.gstatic.com/colaboratory/data_table/a6224c040fa35dcf/data_table.js\";\n\n      window.createDataTable({\n        data: [[{\n            'v': 0,\n            'f': \"0\",\n        },\n\"20210701\",\n{\n            'v': 1344,\n            'f': \"1344\",\n        },\n{\n            'v': 64179.0,\n            'f': \"64179.0\",\n        }],\n [{\n            'v': 1,\n            'f': \"1\",\n        },\n\"20210702\",\n{\n            'v': 1051,\n            'f': \"1051\",\n        },\n{\n            'v': 50756.0,\n            'f': \"50756.0\",\n        }],\n [{\n            'v': 2,\n            'f': \"2\",\n        },\n\"20210703\",\n{\n            'v': 233,\n            'f': \"233\",\n        },\n{\n            'v': 11683.0,\n            'f': \"11683.0\",\n        }],\n [{\n            'v': 3,\n            'f': \"3\",\n        },\n\"20210704\",\n{\n            'v': 218,\n            'f': \"218\",\n        },\n{\n            'v': 10344.0,\n            'f': \"10344.0\",\n        }]],\n        columns: [[\"number\", \"index\"], [\"string\", \"date\"], [\"number\", \"transactions\"], [\"number\", \"purchase_revenue\"]],\n        columnOptions: [{\"width\": \"1px\", \"className\": \"index_column\"}],\n        rowsPerPage: 25,\n        helpUrl: \"https://colab.research.google.com/notebooks/data_table.ipynb\",\n        suppressOutputScrolling: true,\n        minimumWidth: undefined,\n      });\n    ",
            "text/html": [
              "<div>\n",
              "<style scoped>\n",
              "    .dataframe tbody tr th:only-of-type {\n",
              "        vertical-align: middle;\n",
              "    }\n",
              "\n",
              "    .dataframe tbody tr th {\n",
              "        vertical-align: top;\n",
              "    }\n",
              "\n",
              "    .dataframe thead th {\n",
              "        text-align: right;\n",
              "    }\n",
              "</style>\n",
              "<table border=\"1\" class=\"dataframe\">\n",
              "  <thead>\n",
              "    <tr style=\"text-align: right;\">\n",
              "      <th></th>\n",
              "      <th>date</th>\n",
              "      <th>transactions</th>\n",
              "      <th>purchase_revenue</th>\n",
              "    </tr>\n",
              "  </thead>\n",
              "  <tbody>\n",
              "    <tr>\n",
              "      <th>0</th>\n",
              "      <td>20210701</td>\n",
              "      <td>1344</td>\n",
              "      <td>64179.0</td>\n",
              "    </tr>\n",
              "    <tr>\n",
              "      <th>1</th>\n",
              "      <td>20210702</td>\n",
              "      <td>1051</td>\n",
              "      <td>50756.0</td>\n",
              "    </tr>\n",
              "    <tr>\n",
              "      <th>2</th>\n",
              "      <td>20210703</td>\n",
              "      <td>233</td>\n",
              "      <td>11683.0</td>\n",
              "    </tr>\n",
              "    <tr>\n",
              "      <th>3</th>\n",
              "      <td>20210704</td>\n",
              "      <td>218</td>\n",
              "      <td>10344.0</td>\n",
              "    </tr>\n",
              "  </tbody>\n",
              "</table>\n",
              "</div>"
            ],
            "text/plain": [
              "       date  transactions  purchase_revenue\n",
              "0  20210701          1344           64179.0\n",
              "1  20210702          1051           50756.0\n",
              "2  20210703           233           11683.0\n",
              "3  20210704           218           10344.0"
            ]
          },
          "metadata": {},
          "execution_count": 3
        }
      ]
    },
    {
      "cell_type": "markdown",
      "metadata": {
        "id": "Vr2dJip64fkR"
      },
      "source": [
        "Calculate Conversion Rate By Engaged Sessions"
      ]
    },
    {
      "cell_type": "code",
      "metadata": {
        "colab": {
          "base_uri": "https://localhost:8080/",
          "height": 174
        },
        "id": "OYtvvy9Z4HJn",
        "outputId": "5f413f1d-b233-4589-d4f7-9b2160602f58"
      },
      "source": [
        "%%bigquery --project produkcja-instore\n",
        "\n",
        "with prep as (\n",
        "select\n",
        "    user_pseudo_id,\n",
        "    (select value.int_value from unnest(event_params) where key = 'ga_session_id') as session_id,\n",
        "    event_date,\n",
        "    max((select value.string_value from unnest(event_params) where key = 'session_engaged')) as session_engaged,\n",
        "    ecommerce.transaction_id,\n",
        "    ecommerce.purchase_revenue\n",
        "from\n",
        "    `simoahava-com.analytics_206575074.events_*`\n",
        "where\n",
        "    _table_suffix between '20210701' and format_date('%Y%m%d',date_sub(current_date(), interval 1 day))\n",
        "group by\n",
        "    user_pseudo_id,\n",
        "    session_id,\n",
        "    event_date,\n",
        "    transaction_id,\n",
        "    purchase_revenue)\n",
        "\n",
        "select\n",
        "    event_date as date,\n",
        "    count(distinct transaction_id) as transactions,\n",
        "    sum(purchase_revenue) as purchase_revenue,\n",
        "    count(distinct transaction_id) / count(distinct concat(user_pseudo_id,session_id)) as ecommerce_conversion_rate_all_sessions,\n",
        "    count(distinct transaction_id) / count(distinct case when session_engaged = '1' then concat(user_pseudo_id,session_id) else null end) as ecommerce_conversion_rate_engaged_sessions\n",
        "from\n",
        "    prep\n",
        "group by \n",
        "    date\n",
        "order by \n",
        "    date\n",
        "\n",
        "LIMIT 4"
      ],
      "execution_count": null,
      "outputs": [
        {
          "output_type": "execute_result",
          "data": {
            "application/vnd.google.colaboratory.module+javascript": "\n      import \"https://ssl.gstatic.com/colaboratory/data_table/a6224c040fa35dcf/data_table.js\";\n\n      window.createDataTable({\n        data: [[{\n            'v': 0,\n            'f': \"0\",\n        },\n\"20210701\",\n{\n            'v': 1344,\n            'f': \"1344\",\n        },\n{\n            'v': 64179.0,\n            'f': \"64179.0\",\n        },\n{\n            'v': 0.22542770882254276,\n            'f': \"0.22542770882254276\",\n        },\n{\n            'v': 0.37045203969129,\n            'f': \"0.37045203969129\",\n        }],\n [{\n            'v': 1,\n            'f': \"1\",\n        },\n\"20210702\",\n{\n            'v': 1051,\n            'f': \"1051\",\n        },\n{\n            'v': 50756.0,\n            'f': \"50756.0\",\n        },\n{\n            'v': 0.23180414644905162,\n            'f': \"0.23180414644905162\",\n        },\n{\n            'v': 0.3845590925722649,\n            'f': \"0.3845590925722649\",\n        }],\n [{\n            'v': 2,\n            'f': \"2\",\n        },\n\"20210703\",\n{\n            'v': 233,\n            'f': \"233\",\n        },\n{\n            'v': 11683.0,\n            'f': \"11683.0\",\n        },\n{\n            'v': 0.22085308056872038,\n            'f': \"0.22085308056872038\",\n        },\n{\n            'v': 0.3935810810810811,\n            'f': \"0.3935810810810811\",\n        }],\n [{\n            'v': 3,\n            'f': \"3\",\n        },\n\"20210704\",\n{\n            'v': 218,\n            'f': \"218\",\n        },\n{\n            'v': 10344.0,\n            'f': \"10344.0\",\n        },\n{\n            'v': 0.2012927054478301,\n            'f': \"0.2012927054478301\",\n        },\n{\n            'v': 0.35218093699515346,\n            'f': \"0.35218093699515346\",\n        }]],\n        columns: [[\"number\", \"index\"], [\"string\", \"date\"], [\"number\", \"transactions\"], [\"number\", \"purchase_revenue\"], [\"number\", \"ecommerce_conversion_rate_all_sessions\"], [\"number\", \"ecommerce_conversion_rate_engaged_sessions\"]],\n        columnOptions: [{\"width\": \"1px\", \"className\": \"index_column\"}],\n        rowsPerPage: 25,\n        helpUrl: \"https://colab.research.google.com/notebooks/data_table.ipynb\",\n        suppressOutputScrolling: true,\n        minimumWidth: undefined,\n      });\n    ",
            "text/html": [
              "<div>\n",
              "<style scoped>\n",
              "    .dataframe tbody tr th:only-of-type {\n",
              "        vertical-align: middle;\n",
              "    }\n",
              "\n",
              "    .dataframe tbody tr th {\n",
              "        vertical-align: top;\n",
              "    }\n",
              "\n",
              "    .dataframe thead th {\n",
              "        text-align: right;\n",
              "    }\n",
              "</style>\n",
              "<table border=\"1\" class=\"dataframe\">\n",
              "  <thead>\n",
              "    <tr style=\"text-align: right;\">\n",
              "      <th></th>\n",
              "      <th>date</th>\n",
              "      <th>transactions</th>\n",
              "      <th>purchase_revenue</th>\n",
              "      <th>ecommerce_conversion_rate_all_sessions</th>\n",
              "      <th>ecommerce_conversion_rate_engaged_sessions</th>\n",
              "    </tr>\n",
              "  </thead>\n",
              "  <tbody>\n",
              "    <tr>\n",
              "      <th>0</th>\n",
              "      <td>20210701</td>\n",
              "      <td>1344</td>\n",
              "      <td>64179.0</td>\n",
              "      <td>0.225428</td>\n",
              "      <td>0.370452</td>\n",
              "    </tr>\n",
              "    <tr>\n",
              "      <th>1</th>\n",
              "      <td>20210702</td>\n",
              "      <td>1051</td>\n",
              "      <td>50756.0</td>\n",
              "      <td>0.231804</td>\n",
              "      <td>0.384559</td>\n",
              "    </tr>\n",
              "    <tr>\n",
              "      <th>2</th>\n",
              "      <td>20210703</td>\n",
              "      <td>233</td>\n",
              "      <td>11683.0</td>\n",
              "      <td>0.220853</td>\n",
              "      <td>0.393581</td>\n",
              "    </tr>\n",
              "    <tr>\n",
              "      <th>3</th>\n",
              "      <td>20210704</td>\n",
              "      <td>218</td>\n",
              "      <td>10344.0</td>\n",
              "      <td>0.201293</td>\n",
              "      <td>0.352181</td>\n",
              "    </tr>\n",
              "  </tbody>\n",
              "</table>\n",
              "</div>"
            ],
            "text/plain": [
              "       date  ...  ecommerce_conversion_rate_engaged_sessions\n",
              "0  20210701  ...                                    0.370452\n",
              "1  20210702  ...                                    0.384559\n",
              "2  20210703  ...                                    0.393581\n",
              "3  20210704  ...                                    0.352181\n",
              "\n",
              "[4 rows x 5 columns]"
            ]
          },
          "metadata": {},
          "execution_count": 4
        }
      ]
    },
    {
      "cell_type": "markdown",
      "metadata": {
        "id": "-ZaRJ8w45_5G"
      },
      "source": [
        "Add Refund, Tax, And Shipping Data"
      ]
    },
    {
      "cell_type": "code",
      "metadata": {
        "colab": {
          "base_uri": "https://localhost:8080/",
          "height": 189
        },
        "id": "T2EgKpq34nAX",
        "outputId": "968ca0b2-1513-4369-d7b8-d6e359cecc71"
      },
      "source": [
        "%%bigquery --project produkcja-instore\n",
        "\n",
        "with prep as (\n",
        "select\n",
        "    user_pseudo_id,\n",
        "    (select value.int_value from unnest(event_params) where key = 'ga_session_id') as session_id,\n",
        "    event_date,\n",
        "    max((select value.string_value from unnest(event_params) where key = 'session_engaged')) as session_engaged,\n",
        "    ecommerce.transaction_id,\n",
        "    ecommerce.purchase_revenue,\n",
        "    ecommerce.total_item_quantity,\n",
        "    ecommerce.refund_value,\n",
        "    ecommerce.tax_value,\n",
        "    ecommerce.shipping_value\n",
        "from\n",
        "    `simoahava-com.analytics_206575074.events_*`\n",
        "where\n",
        "    _table_suffix between '20210701' and format_date('%Y%m%d',date_sub(current_date(), interval 1 day))\n",
        "group by\n",
        "    user_pseudo_id,\n",
        "    session_id,\n",
        "    event_date,\n",
        "    transaction_id,\n",
        "    purchase_revenue,\n",
        "    total_item_quantity,\n",
        "    refund_value,\n",
        "    tax_value,\n",
        "    shipping_value)\n",
        "\n",
        "select\n",
        "    event_date as date,\n",
        "    count(distinct transaction_id) as transactions,\n",
        "    sum(purchase_revenue) as purchase_revenue,\n",
        "    count(distinct transaction_id) / count(distinct concat(user_pseudo_id,session_id)) as ecommerce_conversion_rate_all_sessions,\n",
        "    count(distinct transaction_id) / count(distinct case when session_engaged = '1' then concat(user_pseudo_id,session_id) else null end) as ecommerce_conversion_rate_engaged_sessions,\n",
        "    sum(total_item_quantity) as items,\n",
        "    sum(refund_value) as refund_value,\n",
        "    sum(tax_value) as tax_value,\n",
        "    sum(shipping_value) as shipping_value,\n",
        "    safe_divide(sum(purchase_revenue),count(distinct transaction_id)) as average_transaction_value,\n",
        "    safe_divide(sum(shipping_value),count(distinct transaction_id)) as average_shipping_value,\n",
        "    safe_divide(sum(total_item_quantity),count(distinct transaction_id)) as average_items\n",
        "from\n",
        "    prep\n",
        "group by \n",
        "    date\n",
        "order by \n",
        "    date\n",
        "LIMIT 4"
      ],
      "execution_count": null,
      "outputs": [
        {
          "output_type": "execute_result",
          "data": {
            "application/vnd.google.colaboratory.module+javascript": "\n      import \"https://ssl.gstatic.com/colaboratory/data_table/a6224c040fa35dcf/data_table.js\";\n\n      window.createDataTable({\n        data: [[{\n            'v': 0,\n            'f': \"0\",\n        },\n\"20210701\",\n{\n            'v': 1344,\n            'f': \"1344\",\n        },\n{\n            'v': 64179.0,\n            'f': \"64179.0\",\n        },\n{\n            'v': 0.22542770882254276,\n            'f': \"0.22542770882254276\",\n        },\n{\n            'v': 0.37045203969129,\n            'f': \"0.37045203969129\",\n        },\n{\n            'v': 13093,\n            'f': \"13093\",\n        },\n{\n            'v': null,\n            'f': \"null\",\n        },\n{\n            'v': 12421.909999999996,\n            'f': \"12421.909999999996\",\n        },\n{\n            'v': 5738.5,\n            'f': \"5738.5\",\n        },\n{\n            'v': 47.752232142857146,\n            'f': \"47.752232142857146\",\n        },\n{\n            'v': 4.269717261904762,\n            'f': \"4.269717261904762\",\n        },\n{\n            'v': 9.741815476190476,\n            'f': \"9.741815476190476\",\n        }],\n [{\n            'v': 1,\n            'f': \"1\",\n        },\n\"20210702\",\n{\n            'v': 1051,\n            'f': \"1051\",\n        },\n{\n            'v': 50756.0,\n            'f': \"50756.0\",\n        },\n{\n            'v': 0.23180414644905162,\n            'f': \"0.23180414644905162\",\n        },\n{\n            'v': 0.3845590925722649,\n            'f': \"0.3845590925722649\",\n        },\n{\n            'v': 9584,\n            'f': \"9584\",\n        },\n{\n            'v': null,\n            'f': \"null\",\n        },\n{\n            'v': 9824.070000000002,\n            'f': \"9824.070000000002\",\n        },\n{\n            'v': 4477.5,\n            'f': \"4477.5\",\n        },\n{\n            'v': 48.2930542340628,\n            'f': \"48.2930542340628\",\n        },\n{\n            'v': 4.26022835394862,\n            'f': \"4.26022835394862\",\n        },\n{\n            'v': 9.118934348239772,\n            'f': \"9.118934348239772\",\n        }],\n [{\n            'v': 2,\n            'f': \"2\",\n        },\n\"20210703\",\n{\n            'v': 233,\n            'f': \"233\",\n        },\n{\n            'v': 11683.0,\n            'f': \"11683.0\",\n        },\n{\n            'v': 0.22085308056872038,\n            'f': \"0.22085308056872038\",\n        },\n{\n            'v': 0.3935810810810811,\n            'f': \"0.3935810810810811\",\n        },\n{\n            'v': 2406,\n            'f': \"2406\",\n        },\n{\n            'v': null,\n            'f': \"null\",\n        },\n{\n            'v': 2261.25,\n            'f': \"2261.25\",\n        },\n{\n            'v': 965.0,\n            'f': \"965.0\",\n        },\n{\n            'v': 50.141630901287556,\n            'f': \"50.141630901287556\",\n        },\n{\n            'v': 4.141630901287554,\n            'f': \"4.141630901287554\",\n        },\n{\n            'v': 10.32618025751073,\n            'f': \"10.32618025751073\",\n        }],\n [{\n            'v': 3,\n            'f': \"3\",\n        },\n\"20210704\",\n{\n            'v': 218,\n            'f': \"218\",\n        },\n{\n            'v': 10344.0,\n            'f': \"10344.0\",\n        },\n{\n            'v': 0.2012927054478301,\n            'f': \"0.2012927054478301\",\n        },\n{\n            'v': 0.35218093699515346,\n            'f': \"0.35218093699515346\",\n        },\n{\n            'v': 2715,\n            'f': \"2715\",\n        },\n{\n            'v': null,\n            'f': \"null\",\n        },\n{\n            'v': 2002.2200000000003,\n            'f': \"2002.2200000000003\",\n        },\n{\n            'v': 920.0,\n            'f': \"920.0\",\n        },\n{\n            'v': 47.44954128440367,\n            'f': \"47.44954128440367\",\n        },\n{\n            'v': 4.220183486238532,\n            'f': \"4.220183486238532\",\n        },\n{\n            'v': 12.454128440366972,\n            'f': \"12.454128440366972\",\n        }]],\n        columns: [[\"number\", \"index\"], [\"string\", \"date\"], [\"number\", \"transactions\"], [\"number\", \"purchase_revenue\"], [\"number\", \"ecommerce_conversion_rate_all_sessions\"], [\"number\", \"ecommerce_conversion_rate_engaged_sessions\"], [\"number\", \"items\"], [\"number\", \"refund_value\"], [\"number\", \"tax_value\"], [\"number\", \"shipping_value\"], [\"number\", \"average_transaction_value\"], [\"number\", \"average_shipping_value\"], [\"number\", \"average_items\"]],\n        columnOptions: [{\"width\": \"1px\", \"className\": \"index_column\"}],\n        rowsPerPage: 25,\n        helpUrl: \"https://colab.research.google.com/notebooks/data_table.ipynb\",\n        suppressOutputScrolling: true,\n        minimumWidth: undefined,\n      });\n    ",
            "text/html": [
              "<div>\n",
              "<style scoped>\n",
              "    .dataframe tbody tr th:only-of-type {\n",
              "        vertical-align: middle;\n",
              "    }\n",
              "\n",
              "    .dataframe tbody tr th {\n",
              "        vertical-align: top;\n",
              "    }\n",
              "\n",
              "    .dataframe thead th {\n",
              "        text-align: right;\n",
              "    }\n",
              "</style>\n",
              "<table border=\"1\" class=\"dataframe\">\n",
              "  <thead>\n",
              "    <tr style=\"text-align: right;\">\n",
              "      <th></th>\n",
              "      <th>date</th>\n",
              "      <th>transactions</th>\n",
              "      <th>purchase_revenue</th>\n",
              "      <th>ecommerce_conversion_rate_all_sessions</th>\n",
              "      <th>ecommerce_conversion_rate_engaged_sessions</th>\n",
              "      <th>items</th>\n",
              "      <th>refund_value</th>\n",
              "      <th>tax_value</th>\n",
              "      <th>shipping_value</th>\n",
              "      <th>average_transaction_value</th>\n",
              "      <th>average_shipping_value</th>\n",
              "      <th>average_items</th>\n",
              "    </tr>\n",
              "  </thead>\n",
              "  <tbody>\n",
              "    <tr>\n",
              "      <th>0</th>\n",
              "      <td>20210701</td>\n",
              "      <td>1344</td>\n",
              "      <td>64179.0</td>\n",
              "      <td>0.225428</td>\n",
              "      <td>0.370452</td>\n",
              "      <td>13093</td>\n",
              "      <td>None</td>\n",
              "      <td>12421.91</td>\n",
              "      <td>5738.5</td>\n",
              "      <td>47.752232</td>\n",
              "      <td>4.269717</td>\n",
              "      <td>9.741815</td>\n",
              "    </tr>\n",
              "    <tr>\n",
              "      <th>1</th>\n",
              "      <td>20210702</td>\n",
              "      <td>1051</td>\n",
              "      <td>50756.0</td>\n",
              "      <td>0.231804</td>\n",
              "      <td>0.384559</td>\n",
              "      <td>9584</td>\n",
              "      <td>None</td>\n",
              "      <td>9824.07</td>\n",
              "      <td>4477.5</td>\n",
              "      <td>48.293054</td>\n",
              "      <td>4.260228</td>\n",
              "      <td>9.118934</td>\n",
              "    </tr>\n",
              "    <tr>\n",
              "      <th>2</th>\n",
              "      <td>20210703</td>\n",
              "      <td>233</td>\n",
              "      <td>11683.0</td>\n",
              "      <td>0.220853</td>\n",
              "      <td>0.393581</td>\n",
              "      <td>2406</td>\n",
              "      <td>None</td>\n",
              "      <td>2261.25</td>\n",
              "      <td>965.0</td>\n",
              "      <td>50.141631</td>\n",
              "      <td>4.141631</td>\n",
              "      <td>10.326180</td>\n",
              "    </tr>\n",
              "    <tr>\n",
              "      <th>3</th>\n",
              "      <td>20210704</td>\n",
              "      <td>218</td>\n",
              "      <td>10344.0</td>\n",
              "      <td>0.201293</td>\n",
              "      <td>0.352181</td>\n",
              "      <td>2715</td>\n",
              "      <td>None</td>\n",
              "      <td>2002.22</td>\n",
              "      <td>920.0</td>\n",
              "      <td>47.449541</td>\n",
              "      <td>4.220183</td>\n",
              "      <td>12.454128</td>\n",
              "    </tr>\n",
              "  </tbody>\n",
              "</table>\n",
              "</div>"
            ],
            "text/plain": [
              "       date  transactions  ...  average_shipping_value  average_items\n",
              "0  20210701          1344  ...                4.269717       9.741815\n",
              "1  20210702          1051  ...                4.260228       9.118934\n",
              "2  20210703           233  ...                4.141631      10.326180\n",
              "3  20210704           218  ...                4.220183      12.454128\n",
              "\n",
              "[4 rows x 12 columns]"
            ]
          },
          "metadata": {},
          "execution_count": 5
        }
      ]
    }
  ]
}