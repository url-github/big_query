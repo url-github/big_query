{
  "nbformat": 4,
  "nbformat_minor": 0,
  "metadata": {
    "colab": {
      "name": "4.Page Tracking.ipynb",
      "provenance": [],
      "collapsed_sections": [],
      "authorship_tag": "ABX9TyPETkgh1Fub4FUuXl5YIXe8"
    },
    "kernelspec": {
      "name": "python3",
      "display_name": "Python 3"
    },
    "language_info": {
      "name": "python"
    }
  },
  "cells": [
    {
      "cell_type": "code",
      "metadata": {
        "colab": {
          "base_uri": "https://localhost:8080/"
        },
        "id": "J10b1prnMHNI",
        "outputId": "9f86d700-4769-419d-bbe2-eed0b27d8dd6"
      },
      "source": [
        "from google.colab import auth\n",
        "auth.authenticate_user()\n",
        "print('Authenticated')\n",
        "\n",
        "%load_ext google.colab.data_table"
      ],
      "execution_count": null,
      "outputs": [
        {
          "output_type": "stream",
          "name": "stdout",
          "text": [
            "Authenticated\n"
          ]
        }
      ]
    },
    {
      "cell_type": "markdown",
      "metadata": {
        "id": "eC_PMrfuMV2O"
      },
      "source": [
        "Funkcje analityczne umożliwiają wykonywanie zapytań poza bieżącym wierszem. Są przydatne zwłaszcza wtedy, gdy trzeba porównać bieżący wiersz z innymi wierszami w tabeli."
      ]
    },
    {
      "cell_type": "markdown",
      "metadata": {
        "id": "3jtd2ltTOof9"
      },
      "source": [
        "Funkcje analityczne mogą służyć do identyfikowania strony wyjściowej sesji (przy użyciu FIRST_VALUE z podziałem trafień sesji, uporządkowanych malejąco według zdarzenia_sygnatury czasowej ) oraz ścieżek nawigacji do i ze stron (przy użyciu LAG i LEAD z kluczem page_location"
      ]
    },
    {
      "cell_type": "markdown",
      "metadata": {
        "id": "38AZY7BCO3Bp"
      },
      "source": [
        "Zrozumienie operatora PARTITION BY jest kluczem do zrozumienia funkcji analitycznych. PARTITION BY tworzy partycję podzbioru danych pogrupowanych i uporządkowanych według kolumn podanych jako dane wejściowe. Następnie pobierasz wartości z tej partycji za pomocą funkcji analitycznych."
      ]
    },
    {
      "cell_type": "code",
      "metadata": {
        "colab": {
          "base_uri": "https://localhost:8080/",
          "height": 131
        },
        "id": "mh5MeMG5MmNH",
        "outputId": "0c799275-efda-4590-e69c-100b21526ea6"
      },
      "source": [
        "%%bigquery --project \n",
        "\n",
        "select\n",
        "    user_pseudo_id,\n",
        "    key,\n",
        "    value.string_value\n",
        "from\n",
        "    `ga.events_20210601`\n",
        "    cross join unnest(user_properties)\n",
        "where \n",
        "    user_pseudo_id = '1467032112.1598377364'\n",
        "group by \n",
        "    user_pseudo_id,\n",
        "    key,\n",
        "    value.string_value"
      ],
      "execution_count": null,
      "outputs": [
        {
          "output_type": "execute_result",
          "data": {
            "application/vnd.google.colaboratory.module+javascript": "\n      import \"https://ssl.gstatic.com/colaboratory/data_table/a6224c040fa35dcf/data_table.js\";\n\n      window.createDataTable({\n        data: [[{\n            'v': 0,\n            'f': \"0\",\n        },\n\"1467032112.1598377364\",\n\"custom_client_id\",\n\"1467032112.1598377364.\"],\n [{\n            'v': 1,\n            'f': \"1\",\n        },\n\"1467032112.1598377364\",\n\"visitor_status\",\n\"buyer\"]],\n        columns: [[\"number\", \"index\"], [\"string\", \"user_pseudo_id\"], [\"string\", \"key\"], [\"string\", \"string_value\"]],\n        columnOptions: [{\"width\": \"1px\", \"className\": \"index_column\"}],\n        rowsPerPage: 25,\n        helpUrl: \"https://colab.research.google.com/notebooks/data_table.ipynb\",\n        suppressOutputScrolling: true,\n        minimumWidth: undefined,\n      });\n    ",
            "text/html": [
              "<div>\n",
              "<style scoped>\n",
              "    .dataframe tbody tr th:only-of-type {\n",
              "        vertical-align: middle;\n",
              "    }\n",
              "\n",
              "    .dataframe tbody tr th {\n",
              "        vertical-align: top;\n",
              "    }\n",
              "\n",
              "    .dataframe thead th {\n",
              "        text-align: right;\n",
              "    }\n",
              "</style>\n",
              "<table border=\"1\" class=\"dataframe\">\n",
              "  <thead>\n",
              "    <tr style=\"text-align: right;\">\n",
              "      <th></th>\n",
              "      <th>user_pseudo_id</th>\n",
              "      <th>key</th>\n",
              "      <th>string_value</th>\n",
              "    </tr>\n",
              "  </thead>\n",
              "  <tbody>\n",
              "    <tr>\n",
              "      <th>0</th>\n",
              "      <td>1467032112.1598377364</td>\n",
              "      <td>custom_client_id</td>\n",
              "      <td>1467032112.1598377364.</td>\n",
              "    </tr>\n",
              "    <tr>\n",
              "      <th>1</th>\n",
              "      <td>1467032112.1598377364</td>\n",
              "      <td>visitor_status</td>\n",
              "      <td>buyer</td>\n",
              "    </tr>\n",
              "  </tbody>\n",
              "</table>\n",
              "</div>"
            ],
            "text/plain": [
              "          user_pseudo_id               key            string_value\n",
              "0  1467032112.1598377364  custom_client_id  1467032112.1598377364.\n",
              "1  1467032112.1598377364    visitor_status                   buyer"
            ]
          },
          "metadata": {},
          "execution_count": 3
        }
      ]
    },
    {
      "cell_type": "markdown",
      "metadata": {
        "id": "UmQ5q1T-Qae8"
      },
      "source": [
        "CROSS JOIN można zastąpić przecinkiem\n",
        "\n",
        "https://cloud.google.com/bigquery/docs/reference/standard-sql/query-syntax#cross_join"
      ]
    },
    {
      "cell_type": "code",
      "metadata": {
        "colab": {
          "base_uri": "https://localhost:8080/",
          "height": 131
        },
        "id": "g0W2I4OHQJep",
        "outputId": "4f6de36e-6304-45d4-cae2-01cd10c77dbf"
      },
      "source": [
        "%%bigquery --project \n",
        "\n",
        "select\n",
        "    user_pseudo_id,\n",
        "    key,\n",
        "    value.string_value\n",
        "from\n",
        "    `ga.events_20210601`,\n",
        "    unnest(user_properties) as user_properties\n",
        "where \n",
        "    user_pseudo_id = '1467032112.1598377364'\n",
        "group by \n",
        "    user_pseudo_id,\n",
        "    key,\n",
        "    value.string_value"
      ],
      "execution_count": null,
      "outputs": [
        {
          "output_type": "execute_result",
          "data": {
            "application/vnd.google.colaboratory.module+javascript": "\n      import \"https://ssl.gstatic.com/colaboratory/data_table/a6224c040fa35dcf/data_table.js\";\n\n      window.createDataTable({\n        data: [[{\n            'v': 0,\n            'f': \"0\",\n        },\n\"1467032112.1598377364\",\n\"custom_client_id\",\n\"1467032112.1598377364.\"],\n [{\n            'v': 1,\n            'f': \"1\",\n        },\n\"1467032112.1598377364\",\n\"visitor_status\",\n\"buyer\"]],\n        columns: [[\"number\", \"index\"], [\"string\", \"user_pseudo_id\"], [\"string\", \"key\"], [\"string\", \"string_value\"]],\n        columnOptions: [{\"width\": \"1px\", \"className\": \"index_column\"}],\n        rowsPerPage: 25,\n        helpUrl: \"https://colab.research.google.com/notebooks/data_table.ipynb\",\n        suppressOutputScrolling: true,\n        minimumWidth: undefined,\n      });\n    ",
            "text/html": [
              "<div>\n",
              "<style scoped>\n",
              "    .dataframe tbody tr th:only-of-type {\n",
              "        vertical-align: middle;\n",
              "    }\n",
              "\n",
              "    .dataframe tbody tr th {\n",
              "        vertical-align: top;\n",
              "    }\n",
              "\n",
              "    .dataframe thead th {\n",
              "        text-align: right;\n",
              "    }\n",
              "</style>\n",
              "<table border=\"1\" class=\"dataframe\">\n",
              "  <thead>\n",
              "    <tr style=\"text-align: right;\">\n",
              "      <th></th>\n",
              "      <th>user_pseudo_id</th>\n",
              "      <th>key</th>\n",
              "      <th>string_value</th>\n",
              "    </tr>\n",
              "  </thead>\n",
              "  <tbody>\n",
              "    <tr>\n",
              "      <th>0</th>\n",
              "      <td>1467032112.1598377364</td>\n",
              "      <td>custom_client_id</td>\n",
              "      <td>1467032112.1598377364.</td>\n",
              "    </tr>\n",
              "    <tr>\n",
              "      <th>1</th>\n",
              "      <td>1467032112.1598377364</td>\n",
              "      <td>visitor_status</td>\n",
              "      <td>buyer</td>\n",
              "    </tr>\n",
              "  </tbody>\n",
              "</table>\n",
              "</div>"
            ],
            "text/plain": [
              "          user_pseudo_id               key            string_value\n",
              "0  1467032112.1598377364  custom_client_id  1467032112.1598377364.\n",
              "1  1467032112.1598377364    visitor_status                   buyer"
            ]
          },
          "metadata": {},
          "execution_count": 4
        }
      ]
    },
    {
      "cell_type": "code",
      "metadata": {
        "colab": {
          "base_uri": "https://localhost:8080/",
          "height": 153
        },
        "id": "0SlfJimuQu2G",
        "outputId": "ea61d6d7-e816-4827-dac7-61dcd31c1d1c"
      },
      "source": [
        "%%bigquery --project \n",
        "\n",
        "select\n",
        "    user_pseudo_id,\n",
        "    value.string_value as visitor_status\n",
        "from\n",
        "     `ga.events_20210601`,\n",
        "    unnest(user_properties)\n",
        "where \n",
        "    key = 'visitor_status'\n",
        "group by \n",
        "    user_pseudo_id,\n",
        "    value.string_value\n",
        "LIMIT 3"
      ],
      "execution_count": null,
      "outputs": [
        {
          "output_type": "execute_result",
          "data": {
            "application/vnd.google.colaboratory.module+javascript": "\n      import \"https://ssl.gstatic.com/colaboratory/data_table/a6224c040fa35dcf/data_table.js\";\n\n      window.createDataTable({\n        data: [[{\n            'v': 0,\n            'f': \"0\",\n        },\n\"745382386.1622551885\",\n\"buyer\"],\n [{\n            'v': 1,\n            'f': \"1\",\n        },\n\"wMtxAgmNI7oJiVbjsHq8lW6+z2/bA4gnjGexA99/a6o=.1551780451\",\n\"buyer\"],\n [{\n            'v': 2,\n            'f': \"2\",\n        },\n\"992224805.1622466892\",\n\"buyer\"]],\n        columns: [[\"number\", \"index\"], [\"string\", \"user_pseudo_id\"], [\"string\", \"visitor_status\"]],\n        columnOptions: [{\"width\": \"1px\", \"className\": \"index_column\"}],\n        rowsPerPage: 25,\n        helpUrl: \"https://colab.research.google.com/notebooks/data_table.ipynb\",\n        suppressOutputScrolling: true,\n        minimumWidth: undefined,\n      });\n    ",
            "text/html": [
              "<div>\n",
              "<style scoped>\n",
              "    .dataframe tbody tr th:only-of-type {\n",
              "        vertical-align: middle;\n",
              "    }\n",
              "\n",
              "    .dataframe tbody tr th {\n",
              "        vertical-align: top;\n",
              "    }\n",
              "\n",
              "    .dataframe thead th {\n",
              "        text-align: right;\n",
              "    }\n",
              "</style>\n",
              "<table border=\"1\" class=\"dataframe\">\n",
              "  <thead>\n",
              "    <tr style=\"text-align: right;\">\n",
              "      <th></th>\n",
              "      <th>user_pseudo_id</th>\n",
              "      <th>visitor_status</th>\n",
              "    </tr>\n",
              "  </thead>\n",
              "  <tbody>\n",
              "    <tr>\n",
              "      <th>0</th>\n",
              "      <td>745382386.1622551885</td>\n",
              "      <td>buyer</td>\n",
              "    </tr>\n",
              "    <tr>\n",
              "      <th>1</th>\n",
              "      <td>wMtxAgmNI7oJiVbjsHq8lW6+z2/bA4gnjGexA99/a6o=.1...</td>\n",
              "      <td>buyer</td>\n",
              "    </tr>\n",
              "    <tr>\n",
              "      <th>2</th>\n",
              "      <td>992224805.1622466892</td>\n",
              "      <td>buyer</td>\n",
              "    </tr>\n",
              "  </tbody>\n",
              "</table>\n",
              "</div>"
            ],
            "text/plain": [
              "                                      user_pseudo_id visitor_status\n",
              "0                               745382386.1622551885          buyer\n",
              "1  wMtxAgmNI7oJiVbjsHq8lW6+z2/bA4gnjGexA99/a6o=.1...          buyer\n",
              "2                               992224805.1622466892          buyer"
            ]
          },
          "metadata": {},
          "execution_count": 7
        }
      ]
    },
    {
      "cell_type": "markdown",
      "metadata": {
        "id": "L5SUsZcZTYlC"
      },
      "source": [
        "Podzapytanie skalarne\n",
        "\n",
        "https://cloud.google.com/bigquery/docs/reference/standard-sql/subqueries#scalar_subquery_concepts"
      ]
    },
    {
      "cell_type": "code",
      "metadata": {
        "colab": {
          "base_uri": "https://localhost:8080/",
          "height": 153
        },
        "id": "YFO7tSuhTb9S",
        "outputId": "e1158588-798f-41e5-cf93-bc61089a8a7a"
      },
      "source": [
        "%%bigquery --project \n",
        "\n",
        "# To jest podzapytanie skalarne\n",
        "\n",
        "select\n",
        "    user_pseudo_id,\n",
        "    max((select value.string_value from unnest(user_properties) where key = 'visitor_status')) as visitor_status\n",
        "from\n",
        "    `ga.events_20210601`\n",
        "group by \n",
        "    user_pseudo_id\n",
        "having \n",
        "    visitor_status is not null\n",
        "LIMIT 3"
      ],
      "execution_count": null,
      "outputs": [
        {
          "output_type": "execute_result",
          "data": {
            "application/vnd.google.colaboratory.module+javascript": "\n      import \"https://ssl.gstatic.com/colaboratory/data_table/a6224c040fa35dcf/data_table.js\";\n\n      window.createDataTable({\n        data: [[{\n            'v': 0,\n            'f': \"0\",\n        },\n\"745382386.1622551885\",\n\"buyer\"],\n [{\n            'v': 1,\n            'f': \"1\",\n        },\n\"wMtxAgmNI7oJiVbjsHq8lW6+z2/bA4gnjGexA99/a6o=.1551780451\",\n\"buyer\"],\n [{\n            'v': 2,\n            'f': \"2\",\n        },\n\"992224805.1622466892\",\n\"buyer\"]],\n        columns: [[\"number\", \"index\"], [\"string\", \"user_pseudo_id\"], [\"string\", \"visitor_status\"]],\n        columnOptions: [{\"width\": \"1px\", \"className\": \"index_column\"}],\n        rowsPerPage: 25,\n        helpUrl: \"https://colab.research.google.com/notebooks/data_table.ipynb\",\n        suppressOutputScrolling: true,\n        minimumWidth: undefined,\n      });\n    ",
            "text/html": [
              "<div>\n",
              "<style scoped>\n",
              "    .dataframe tbody tr th:only-of-type {\n",
              "        vertical-align: middle;\n",
              "    }\n",
              "\n",
              "    .dataframe tbody tr th {\n",
              "        vertical-align: top;\n",
              "    }\n",
              "\n",
              "    .dataframe thead th {\n",
              "        text-align: right;\n",
              "    }\n",
              "</style>\n",
              "<table border=\"1\" class=\"dataframe\">\n",
              "  <thead>\n",
              "    <tr style=\"text-align: right;\">\n",
              "      <th></th>\n",
              "      <th>user_pseudo_id</th>\n",
              "      <th>visitor_status</th>\n",
              "    </tr>\n",
              "  </thead>\n",
              "  <tbody>\n",
              "    <tr>\n",
              "      <th>0</th>\n",
              "      <td>745382386.1622551885</td>\n",
              "      <td>buyer</td>\n",
              "    </tr>\n",
              "    <tr>\n",
              "      <th>1</th>\n",
              "      <td>wMtxAgmNI7oJiVbjsHq8lW6+z2/bA4gnjGexA99/a6o=.1...</td>\n",
              "      <td>buyer</td>\n",
              "    </tr>\n",
              "    <tr>\n",
              "      <th>2</th>\n",
              "      <td>992224805.1622466892</td>\n",
              "      <td>buyer</td>\n",
              "    </tr>\n",
              "  </tbody>\n",
              "</table>\n",
              "</div>"
            ],
            "text/plain": [
              "                                      user_pseudo_id visitor_status\n",
              "0                               745382386.1622551885          buyer\n",
              "1  wMtxAgmNI7oJiVbjsHq8lW6+z2/bA4gnjGexA99/a6o=.1...          buyer\n",
              "2                               992224805.1622466892          buyer"
            ]
          },
          "metadata": {},
          "execution_count": 10
        }
      ]
    },
    {
      "cell_type": "markdown",
      "metadata": {
        "id": "rIZXB0mAR6Rs"
      },
      "source": [
        "Count Page Views By Pages And Titles\n",
        "Query GA4 Data In Go"
      ]
    },
    {
      "cell_type": "code",
      "metadata": {
        "id": "-bkCfPV4SDgn"
      },
      "source": [
        "%%bigquery --project\n",
        "\n",
        "select\n",
        "    (select value.string_value from unnest(event_params) where event_name = 'page_view' and key = 'page_title') as page_title,\n",
        "    (select value.string_value from unnest(event_params) where event_name = 'page_view' and key = 'page_location') as page,\n",
        "    count(event_name) as pageviews\n",
        "from\n",
        "    `ga.events_20210601`\n",
        "where\n",
        "    event_name = 'page_view'\n",
        "group by \n",
        "    page_title,\n",
        "    page\n",
        "order by \n",
        "    pageviews desc"
      ],
      "execution_count": null,
      "outputs": []
    },
    {
      "cell_type": "markdown",
      "metadata": {
        "id": "UY7ujxVbUS5o"
      },
      "source": [
        "Count Unique Page Views"
      ]
    },
    {
      "cell_type": "code",
      "metadata": {
        "id": "FUexhUEQUdUs"
      },
      "source": [
        "%%bigquery --project\n",
        "\n",
        "with prep as (\n",
        "select\n",
        "    user_pseudo_id,\n",
        "    (select value.int_value from unnest(event_params) where event_name = 'page_view' and key = 'ga_session_id') as session_id,\n",
        "    (select value.string_value from unnest(event_params) where event_name = 'page_view' and key = 'page_title') as page_title,\n",
        "    (select value.string_value from unnest(event_params) where event_name = 'page_view' and key = 'page_location') as page\n",
        "from\n",
        "    `ga.events_20210601`\n",
        "where\n",
        "    event_name = 'page_view')\n",
        "\n",
        "select \n",
        "    page_title,\n",
        "    page,\n",
        "    count(*) as total_pageviews,\n",
        "    count(distinct concat(user_pseudo_id,session_id)) as unique_pageviews\n",
        "from \n",
        "    prep\n",
        "group by \n",
        "    page_title,\n",
        "    page\n",
        "order by\n",
        "    unique_pageviews desc"
      ],
      "execution_count": null,
      "outputs": []
    },
    {
      "cell_type": "markdown",
      "metadata": {
        "id": "KSRoID0uX0LT"
      },
      "source": [
        "Identify Most Visited Landing Pages"
      ]
    },
    {
      "cell_type": "code",
      "metadata": {
        "id": "brqW6V9LX0ja"
      },
      "source": [
        "%%bigquery --project \n",
        "\n",
        "with prep as (\n",
        "select\n",
        "    user_pseudo_id,\n",
        "    (select value.int_value from unnest(event_params) where event_name = 'page_view' and key = 'ga_session_id') as session_id,\n",
        "    (select value.string_value from unnest(event_params) where event_name = 'page_view' and key = 'page_location') as page,\n",
        "    case when (select value.int_value from unnest(event_params) where event_name = 'page_view' and key = 'entrances') = 1 then true else false end as landing_page\n",
        "from\n",
        "    `ga.events_20210601`\n",
        "where\n",
        "    event_name = 'page_view')\n",
        "\n",
        "select \n",
        "    case when landing_page is true then page else null end as landing_page,\n",
        "    count(distinct concat(user_pseudo_id,session_id)) as entrances\n",
        "from \n",
        "    prep\n",
        "group by \n",
        "    landing_page\n",
        "having \n",
        "    landing_page is not null\n",
        "order by\n",
        "    entrances desc"
      ],
      "execution_count": null,
      "outputs": []
    },
    {
      "cell_type": "markdown",
      "metadata": {
        "id": "3yIG6mQcZvoM"
      },
      "source": [
        "MAX & MIN \n",
        "\n",
        "MAX zwraca największą („maksymalną”) wartość danych wejściowych inną niż null. \n",
        "\n",
        "https://cloud.google.com/bigquery/docs/reference/standard-sql/aggregate_functions#max\n"
      ]
    },
    {
      "cell_type": "markdown",
      "metadata": {
        "id": "IAoIFVdecDMr"
      },
      "source": [
        "COUNTIF\n",
        "\n",
        "https://cloud.google.com/bigquery/docs/reference/standard-sql/aggregate_functions#countif\n",
        "\n",
        "Jeśli warunek ma wartość true, licznik jest zwiększany."
      ]
    },
    {
      "cell_type": "code",
      "metadata": {
        "colab": {
          "base_uri": "https://localhost:8080/",
          "height": 153
        },
        "id": "hfcveIYlZ_gO",
        "outputId": "36d659a7-9b40-4c06-8391-0ebd48b4f4a7"
      },
      "source": [
        "%%bigquery --project\n",
        "\n",
        "select\n",
        "    user_pseudo_id,\n",
        "    timestamp_micros(user_first_touch_timestamp) as user_first_touch_timestamp,\n",
        "    traffic_source.medium,\n",
        "    max((select value.string_value from unnest(user_properties) where key = 'visitor_status')) as visitor_status,\n",
        "    max((select value.string_value from unnest(user_properties) where key = 'custom_client_id')) as custom_client_id,\n",
        "    max((select value.string_value from unnest(user_properties) where key = 'loyalty_level')) as loyalty_level,\n",
        "    countif(event_name = 'session_start') as number_of_sessions\n",
        "from\n",
        "    `ga.events_20210601`\n",
        "group by \n",
        "    user_pseudo_id,\n",
        "    user_first_touch_timestamp,\n",
        "    medium\n",
        "order by\n",
        "    number_of_sessions desc\n",
        "LIMIT 3"
      ],
      "execution_count": null,
      "outputs": [
        {
          "output_type": "execute_result",
          "data": {
            "application/vnd.google.colaboratory.module+javascript": "\n      import \"https://ssl.gstatic.com/colaboratory/data_table/a6224c040fa35dcf/data_table.js\";\n\n      window.createDataTable({\n        data: [[{\n            'v': 0,\n            'f': \"0\",\n        },\n\"913454443.1586958451\",\n\"NaT\",\n\"referral\",\n\"buyer\",\n\"913454443.1586958451.\",\n\"gold\",\n{\n            'v': 18,\n            'f': \"18\",\n        }],\n [{\n            'v': 1,\n            'f': \"1\",\n        },\n\"1506330390.1613083013\",\n\"2021-02-11 22:37:50.374756+00:00\",\n\"(none)\",\n\"buyer\",\n\"1506330390.1613083013.\",\n\"gold\",\n{\n            'v': 9,\n            'f': \"9\",\n        }],\n [{\n            'v': 2,\n            'f': \"2\",\n        },\n\"XrteJmQJ9coTtILcUszFksLez39ZPXJQi4aj3FoyBkQ=.1622446276\",\n\"2021-05-31 07:32:03.226805+00:00\",\n\"(none)\",\n\"buyer\",\n\"580444156.1622533679.\",\n\"gold\",\n{\n            'v': 7,\n            'f': \"7\",\n        }]],\n        columns: [[\"number\", \"index\"], [\"string\", \"user_pseudo_id\"], [\"string\", \"user_first_touch_timestamp\"], [\"string\", \"medium\"], [\"string\", \"visitor_status\"], [\"string\", \"custom_client_id\"], [\"string\", \"loyalty_level\"], [\"number\", \"number_of_sessions\"]],\n        columnOptions: [{\"width\": \"1px\", \"className\": \"index_column\"}],\n        rowsPerPage: 25,\n        helpUrl: \"https://colab.research.google.com/notebooks/data_table.ipynb\",\n        suppressOutputScrolling: true,\n        minimumWidth: undefined,\n      });\n    ",
            "text/html": [
              "<div>\n",
              "<style scoped>\n",
              "    .dataframe tbody tr th:only-of-type {\n",
              "        vertical-align: middle;\n",
              "    }\n",
              "\n",
              "    .dataframe tbody tr th {\n",
              "        vertical-align: top;\n",
              "    }\n",
              "\n",
              "    .dataframe thead th {\n",
              "        text-align: right;\n",
              "    }\n",
              "</style>\n",
              "<table border=\"1\" class=\"dataframe\">\n",
              "  <thead>\n",
              "    <tr style=\"text-align: right;\">\n",
              "      <th></th>\n",
              "      <th>user_pseudo_id</th>\n",
              "      <th>user_first_touch_timestamp</th>\n",
              "      <th>medium</th>\n",
              "      <th>visitor_status</th>\n",
              "      <th>custom_client_id</th>\n",
              "      <th>loyalty_level</th>\n",
              "      <th>number_of_sessions</th>\n",
              "    </tr>\n",
              "  </thead>\n",
              "  <tbody>\n",
              "    <tr>\n",
              "      <th>0</th>\n",
              "      <td>913454443.1586958451</td>\n",
              "      <td>NaT</td>\n",
              "      <td>referral</td>\n",
              "      <td>buyer</td>\n",
              "      <td>913454443.1586958451.</td>\n",
              "      <td>gold</td>\n",
              "      <td>18</td>\n",
              "    </tr>\n",
              "    <tr>\n",
              "      <th>1</th>\n",
              "      <td>1506330390.1613083013</td>\n",
              "      <td>2021-02-11 22:37:50.374756+00:00</td>\n",
              "      <td>(none)</td>\n",
              "      <td>buyer</td>\n",
              "      <td>1506330390.1613083013.</td>\n",
              "      <td>gold</td>\n",
              "      <td>9</td>\n",
              "    </tr>\n",
              "    <tr>\n",
              "      <th>2</th>\n",
              "      <td>XrteJmQJ9coTtILcUszFksLez39ZPXJQi4aj3FoyBkQ=.1...</td>\n",
              "      <td>2021-05-31 07:32:03.226805+00:00</td>\n",
              "      <td>(none)</td>\n",
              "      <td>buyer</td>\n",
              "      <td>580444156.1622533679.</td>\n",
              "      <td>gold</td>\n",
              "      <td>7</td>\n",
              "    </tr>\n",
              "  </tbody>\n",
              "</table>\n",
              "</div>"
            ],
            "text/plain": [
              "                                      user_pseudo_id  ... number_of_sessions\n",
              "0                               913454443.1586958451  ...                 18\n",
              "1                              1506330390.1613083013  ...                  9\n",
              "2  XrteJmQJ9coTtILcUszFksLez39ZPXJQi4aj3FoyBkQ=.1...  ...                  7\n",
              "\n",
              "[3 rows x 7 columns]"
            ]
          },
          "metadata": {},
          "execution_count": 12
        }
      ]
    },
    {
      "cell_type": "markdown",
      "metadata": {
        "id": "Rp47jj_Ocg0R"
      },
      "source": [
        "IFNULL\n",
        "\n",
        "https://cloud.google.com/bigquery/docs/reference/standard-sql/conditional_expressions#ifnull\n",
        "\n",
        "Tam gdzie jest NULL daj wartość zastępczą"
      ]
    },
    {
      "cell_type": "code",
      "metadata": {
        "id": "00GuIwhGh3Dg"
      },
      "source": [
        "%%bigquery --project \n",
        "\n",
        "with prep as (\n",
        "select\n",
        "    user_pseudo_id,\n",
        "    (select value.int_value from unnest(event_params) where key = 'ga_session_id') as session_id,\n",
        "    max((select value.int_value from unnest(event_params) where key = 'engagement_time_msec')) as engagement_time_msec,\n",
        "    max((select value.string_value from unnest(event_params) where key = 'session_engaged')) as session_engaged,\n",
        "    max((select value.string_value from unnest(event_params) where key = 'medium')) as medium,\n",
        "    max((select value.string_value from unnest(event_params) where key = 'source')) as source,\n",
        "from\n",
        "    `ga.events_20210601`\n",
        "group by\n",
        "    user_pseudo_id,\n",
        "    session_id)\n",
        "\n",
        "select\n",
        "# Tam gdzie jest NULL wstaw (direct)\n",
        "    concat(ifnull(source,'(direct)'),' / ',ifnull(medium,'(none)')) as session_source_medium,\n",
        "    count(distinct concat(user_pseudo_id,session_id)) as sessions,\n",
        "    count(distinct case when session_engaged = '1' then concat(user_pseudo_id,session_id) end) as engaged_sessions,\n",
        "    count(distinct user_pseudo_id) as users,\n",
        "    count(distinct case when engagement_time_msec > 0 then user_pseudo_id end) as active_users\n",
        "from\n",
        "    prep\n",
        "group by \n",
        "    session_source_medium\n",
        "order by \n",
        "    sessions desc"
      ],
      "execution_count": null,
      "outputs": []
    },
    {
      "cell_type": "markdown",
      "metadata": {
        "id": "ghLk6W5iiGBM"
      },
      "source": [
        "Identify The Exit Page Of A Single Session"
      ]
    },
    {
      "cell_type": "code",
      "metadata": {
        "id": "9HRXyseFiHMr"
      },
      "source": [
        "%%bigquery --project \n",
        "\n",
        "with prep as (\n",
        "select\n",
        "    user_pseudo_id,\n",
        "    (select value.int_value from unnest(event_params) where event_name = 'page_view' and key = 'ga_session_id') as session_id,\n",
        "    (select value.string_value from unnest(event_params) where event_name = 'page_view' and key = 'page_location') as page,\n",
        "    case when (select value.int_value from unnest(event_params) where event_name = 'page_view' and key = 'entrances') = 1 then true else false end as landing_page\n",
        "from\n",
        "    `ga.events_20210601`\n",
        "where\n",
        "    event_name = 'page_view')\n",
        "\n",
        "select \n",
        "    case when landing_page is true then page else null end as landing_page,\n",
        "    count(distinct concat(user_pseudo_id,session_id)) as entrances\n",
        "from \n",
        "    prep\n",
        "group by \n",
        "    landing_page\n",
        "having \n",
        "    landing_page is not null\n",
        "order by\n",
        "    entrances desc"
      ],
      "execution_count": null,
      "outputs": []
    },
    {
      "cell_type": "markdown",
      "metadata": {
        "id": "moQ1q6PFj03i"
      },
      "source": [
        "Identify The Exit Page Of A Single Session"
      ]
    },
    {
      "cell_type": "markdown",
      "metadata": {
        "id": "kt_dCWCJjBA_"
      },
      "source": [
        "Funkcje analityczne\n",
        "\n",
        "https://cloud.google.com/bigquery/docs/reference/standard-sql/navigation_functions"
      ]
    },
    {
      "cell_type": "code",
      "metadata": {
        "colab": {
          "base_uri": "https://localhost:8080/",
          "height": 153
        },
        "id": "YUjEbKAz2APG",
        "outputId": "1b9366ac-0cab-41b1-9b17-f83a79102937"
      },
      "source": [
        "%%bigquery --project \n",
        "\n",
        "SELECT\n",
        "    distinct device.category as device,\n",
        "    platform,\n",
        "    count(distinct concat(user_pseudo_id, (select value.int_value from unnest(event_params) where key = 'ga_session_id'))) as sessions,\n",
        "    max(count(distinct concat(user_pseudo_id, (select value.int_value from unnest(event_params) where key = 'ga_session_id')))) over () as max_sessions_over_null,\n",
        "    max(count(distinct concat(user_pseudo_id, (select value.int_value from unnest(event_params) where key = 'ga_session_id')))) over (partition by platform) as max_sessions_over_platform,\n",
        "    max(count(distinct concat(user_pseudo_id, (select value.int_value from unnest(event_params) where key = 'ga_session_id')))) over (partition by device.category) as max_sessions_over_device,\n",
        "    max(count(distinct concat(user_pseudo_id, (select value.int_value from unnest(event_params) where key = 'ga_session_id')))) over (partition by platform, device.category) as max_sessions\n",
        "FROM\n",
        " `ga.events_20210601`\n",
        "group by\n",
        "    device,\n",
        "    platform\n",
        "order by\n",
        "    sessions desc"
      ],
      "execution_count": null,
      "outputs": [
        {
          "output_type": "execute_result",
          "data": {
            "application/vnd.google.colaboratory.module+javascript": "\n      import \"https://ssl.gstatic.com/colaboratory/data_table/a6224c040fa35dcf/data_table.js\";\n\n      window.createDataTable({\n        data: [[{\n            'v': 0,\n            'f': \"0\",\n        },\n\"desktop\",\n\"WEB\",\n{\n            'v': 6885,\n            'f': \"6885\",\n        },\n{\n            'v': 6885,\n            'f': \"6885\",\n        },\n{\n            'v': 6885,\n            'f': \"6885\",\n        },\n{\n            'v': 6885,\n            'f': \"6885\",\n        },\n{\n            'v': 6885,\n            'f': \"6885\",\n        }],\n [{\n            'v': 1,\n            'f': \"1\",\n        },\n\"mobile\",\n\"WEB\",\n{\n            'v': 204,\n            'f': \"204\",\n        },\n{\n            'v': 6885,\n            'f': \"6885\",\n        },\n{\n            'v': 6885,\n            'f': \"6885\",\n        },\n{\n            'v': 204,\n            'f': \"204\",\n        },\n{\n            'v': 204,\n            'f': \"204\",\n        }],\n [{\n            'v': 2,\n            'f': \"2\",\n        },\n\"tablet\",\n\"WEB\",\n{\n            'v': 14,\n            'f': \"14\",\n        },\n{\n            'v': 6885,\n            'f': \"6885\",\n        },\n{\n            'v': 6885,\n            'f': \"6885\",\n        },\n{\n            'v': 14,\n            'f': \"14\",\n        },\n{\n            'v': 14,\n            'f': \"14\",\n        }]],\n        columns: [[\"number\", \"index\"], [\"string\", \"device\"], [\"string\", \"platform\"], [\"number\", \"sessions\"], [\"number\", \"max_sessions_over_null\"], [\"number\", \"max_sessions_over_platform\"], [\"number\", \"max_sessions_over_device\"], [\"number\", \"max_sessions\"]],\n        columnOptions: [{\"width\": \"1px\", \"className\": \"index_column\"}],\n        rowsPerPage: 25,\n        helpUrl: \"https://colab.research.google.com/notebooks/data_table.ipynb\",\n        suppressOutputScrolling: true,\n        minimumWidth: undefined,\n      });\n    ",
            "text/html": [
              "<div>\n",
              "<style scoped>\n",
              "    .dataframe tbody tr th:only-of-type {\n",
              "        vertical-align: middle;\n",
              "    }\n",
              "\n",
              "    .dataframe tbody tr th {\n",
              "        vertical-align: top;\n",
              "    }\n",
              "\n",
              "    .dataframe thead th {\n",
              "        text-align: right;\n",
              "    }\n",
              "</style>\n",
              "<table border=\"1\" class=\"dataframe\">\n",
              "  <thead>\n",
              "    <tr style=\"text-align: right;\">\n",
              "      <th></th>\n",
              "      <th>device</th>\n",
              "      <th>platform</th>\n",
              "      <th>sessions</th>\n",
              "      <th>max_sessions_over_null</th>\n",
              "      <th>max_sessions_over_platform</th>\n",
              "      <th>max_sessions_over_device</th>\n",
              "      <th>max_sessions</th>\n",
              "    </tr>\n",
              "  </thead>\n",
              "  <tbody>\n",
              "    <tr>\n",
              "      <th>0</th>\n",
              "      <td>desktop</td>\n",
              "      <td>WEB</td>\n",
              "      <td>6885</td>\n",
              "      <td>6885</td>\n",
              "      <td>6885</td>\n",
              "      <td>6885</td>\n",
              "      <td>6885</td>\n",
              "    </tr>\n",
              "    <tr>\n",
              "      <th>1</th>\n",
              "      <td>mobile</td>\n",
              "      <td>WEB</td>\n",
              "      <td>204</td>\n",
              "      <td>6885</td>\n",
              "      <td>6885</td>\n",
              "      <td>204</td>\n",
              "      <td>204</td>\n",
              "    </tr>\n",
              "    <tr>\n",
              "      <th>2</th>\n",
              "      <td>tablet</td>\n",
              "      <td>WEB</td>\n",
              "      <td>14</td>\n",
              "      <td>6885</td>\n",
              "      <td>6885</td>\n",
              "      <td>14</td>\n",
              "      <td>14</td>\n",
              "    </tr>\n",
              "  </tbody>\n",
              "</table>\n",
              "</div>"
            ],
            "text/plain": [
              "    device platform  ...  max_sessions_over_device  max_sessions\n",
              "0  desktop      WEB  ...                      6885          6885\n",
              "1   mobile      WEB  ...                       204           204\n",
              "2   tablet      WEB  ...                        14            14\n",
              "\n",
              "[3 rows x 7 columns]"
            ]
          },
          "metadata": {},
          "execution_count": 16
        }
      ]
    },
    {
      "cell_type": "code",
      "metadata": {
        "id": "d7upKiadjEk9"
      },
      "source": [
        "%%bigquery --project \n",
        "\n",
        "with prep as (\n",
        "select\n",
        "    user_pseudo_id,\n",
        "    (select value.int_value from unnest(event_params) where event_name = 'page_view' and key = 'ga_session_id') as session_id,\n",
        "    (select value.string_value from unnest(event_params) where event_name = 'page_view' and key = 'page_location') as page,\n",
        "    event_timestamp\n",
        "from\n",
        "    `ga.events_20210601`\n",
        "where\n",
        "    event_name = 'page_view'\n",
        "    and user_pseudo_id = '693452447.1622524545'\n",
        "order by \n",
        "    event_timestamp)\n",
        "\n",
        "select \n",
        "    user_pseudo_id,\n",
        "    session_id,\n",
        "    page,\n",
        "    event_timestamp,\n",
        "    first_value(concat(page,event_timestamp)) over (partition by user_pseudo_id,session_id order by event_timestamp desc) as exit_page\n",
        "from \n",
        "    prep \n",
        "order by \n",
        "    event_timestamp"
      ],
      "execution_count": null,
      "outputs": []
    },
    {
      "cell_type": "markdown",
      "metadata": {
        "id": "IyQScY0Zncla"
      },
      "source": [
        "Identify Most Popular Exit Pages"
      ]
    },
    {
      "cell_type": "code",
      "metadata": {
        "id": "j1Wt-ieandEa"
      },
      "source": [
        "%%bigquery --project\n",
        "\n",
        "with prep as (\n",
        "select\n",
        "    user_pseudo_id,\n",
        "    (select value.int_value from unnest(event_params) where event_name = 'page_view' and key = 'ga_session_id') as session_id,\n",
        "    (select value.string_value from unnest(event_params) where event_name = 'page_view' and key = 'page_location') as page,\n",
        "    event_timestamp\n",
        "from\n",
        "    `ga.events_20210601`\n",
        "where\n",
        "    event_name = 'page_view'\n",
        "order by \n",
        "    event_timestamp),\n",
        "\n",
        "prep_exit as (\n",
        "select \n",
        "    user_pseudo_id,\n",
        "    session_id,\n",
        "    page,\n",
        "    event_timestamp,\n",
        "    first_value(concat(page,event_timestamp)) over (partition by user_pseudo_id,session_id order by event_timestamp desc) as exit_page\n",
        "from \n",
        "    prep \n",
        "order by \n",
        "    event_timestamp)\n",
        "\n",
        "select\n",
        "    case when concat(page,event_timestamp) = exit_page then page else null end as exit_page,\n",
        "    count(distinct concat(user_pseudo_id,session_id)) as exits\n",
        "from \n",
        "    prep_exit\n",
        "group by \n",
        "    exit_page\n",
        "having \n",
        "    exit_page is not null \n",
        "order by \n",
        "    exits desc"
      ],
      "execution_count": null,
      "outputs": []
    },
    {
      "cell_type": "markdown",
      "metadata": {
        "id": "oJZJEOydo29s"
      },
      "source": [
        "Identify Page Pathing For A Single Session"
      ]
    },
    {
      "cell_type": "markdown",
      "metadata": {
        "id": "PPEzbT7vpAgr"
      },
      "source": [
        "LAG pobiera wartość poprzedniego wiersza w partycji, a LEAD pobiera wartość następnego wiersza w partycji.\n",
        "\n",
        "https://cloud.google.com/bigquery/docs/reference/standard-sql/navigation_functions#lead"
      ]
    },
    {
      "cell_type": "code",
      "metadata": {
        "id": "ETypFHmao3eZ"
      },
      "source": [
        "%%bigquery --project\n",
        "\n",
        "with prep as (\n",
        "select\n",
        "    user_pseudo_id,\n",
        "    (select value.int_value from unnest(event_params) where event_name = 'page_view' and key = 'ga_session_id') as session_id,\n",
        "    (select value.string_value from unnest(event_params) where event_name = 'page_view' and key = 'page_location') as page,\n",
        "    event_timestamp\n",
        "from\n",
        "    `ga.events_20210601`\n",
        "where\n",
        "    event_name = 'page_view'\n",
        "    and user_pseudo_id = '693452447.1622524545')\n",
        "\n",
        "select\n",
        "    user_pseudo_id,\n",
        "    session_id,\n",
        "    lag(page,1) over (partition by user_pseudo_id,session_id order by event_timestamp asc) as previous_page,\n",
        "    page,\n",
        "    lead(page,1) over (partition by user_pseudo_id,session_id order by event_timestamp asc) as next_page,\n",
        "    event_timestamp\n",
        "from \n",
        "    prep"
      ],
      "execution_count": null,
      "outputs": []
    },
    {
      "cell_type": "markdown",
      "metadata": {
        "id": "iMHtl79bqrY4"
      },
      "source": [
        "Identify Most Popular Pathing For Any Page"
      ]
    },
    {
      "cell_type": "code",
      "metadata": {
        "id": "fvlpvrdiq-pd"
      },
      "source": [
        "%%bigquery --project \n",
        "\n",
        "with prep as (\n",
        "select\n",
        "    user_pseudo_id,\n",
        "    (select value.int_value from unnest(event_params) where event_name = 'page_view' and key = 'ga_session_id') as session_id,\n",
        "    (select value.string_value from unnest(event_params) where event_name = 'page_view' and key = 'page_location') as page,\n",
        "    event_timestamp\n",
        "from\n",
        "    `ga.events_20210601`\n",
        "where\n",
        "    event_name = 'page_view'),\n",
        "\n",
        "prep_navigation as (\n",
        "select\n",
        "    user_pseudo_id,\n",
        "    session_id,\n",
        "    lag(page,1) over (partition by user_pseudo_id,session_id order by event_timestamp asc) as previous_page,\n",
        "    page,\n",
        "    lead(page,1) over (partition by user_pseudo_id,session_id order by event_timestamp asc) as next_page,\n",
        "    event_timestamp\n",
        "from \n",
        "    prep)\n",
        "\n",
        "select \n",
        "    ifnull(previous_page,'(entrance)') as previous_page,\n",
        "    page,\n",
        "    ifnull(next_page,'(exit)') as next_page,\n",
        "    count(distinct concat(user_pseudo_id, session_id)) as count\n",
        "from \n",
        "    prep_navigation\n",
        "where \n",
        "    page = 'https://www.example/'\n",
        "group by \n",
        "    previous_page,\n",
        "    page,\n",
        "    next_page\n",
        "having \n",
        "    page not in (previous_page,next_page)\n",
        "order by \n",
        "    count desc\n",
        "LIMIT 1"
      ],
      "execution_count": null,
      "outputs": []
    }
  ]
}