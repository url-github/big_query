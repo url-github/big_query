{
  "nbformat": 4,
  "nbformat_minor": 0,
  "metadata": {
    "colab": {
      "name": "9.Lifetime Value.ipynb",
      "provenance": [],
      "authorship_tag": "ABX9TyOkBMyHcg18lL+HfoHy751W"
    },
    "kernelspec": {
      "name": "python3",
      "display_name": "Python 3"
    },
    "language_info": {
      "name": "python"
    }
  },
  "cells": [
    {
      "cell_type": "code",
      "metadata": {
        "colab": {
          "base_uri": "https://localhost:8080/"
        },
        "id": "eVRpZ9OG9NaZ",
        "outputId": "b3077250-5d79-4172-842f-bbf2a7aee270"
      },
      "source": [
        "from google.colab import auth\n",
        "auth.authenticate_user()\n",
        "print('Authenticated')\n",
        "\n",
        "%load_ext google.colab.data_table"
      ],
      "execution_count": null,
      "outputs": [
        {
          "output_type": "stream",
          "name": "stdout",
          "text": [
            "Authenticated\n"
          ]
        }
      ]
    },
    {
      "cell_type": "markdown",
      "metadata": {
        "id": "hArLk5gz9uxL"
      },
      "source": [
        "User Lifetime Value - to bardzo abstrakcyjny wskaźnik KPI. Musisz zdecydować, jaki poziom abstrakcji użyjesz w swoich analizach, tak aby odpowiadał oczekiwaniom Twojej firmy lub organizacji względem tego wskaźnika."
      ]
    },
    {
      "cell_type": "markdown",
      "metadata": {
        "id": "DgR6pqLp94bK"
      },
      "source": [
        "Przychody i utrzymanie idą w parze. Im większe prawdopodobieństwo, że użytkownicy powrócą do Twojej witryny, tym wyższy dochód wygenerowany przez tych użytkowników w dłuższej perspektywie."
      ]
    },
    {
      "cell_type": "markdown",
      "metadata": {
        "id": "zXSAY9YQ-DVC"
      },
      "source": [
        "Calculate User Lifetime Revenue"
      ]
    },
    {
      "cell_type": "code",
      "metadata": {
        "colab": {
          "base_uri": "https://localhost:8080/",
          "height": 195
        },
        "id": "ZKRDp9Xo9Vie",
        "outputId": "ed78bc07-72d3-4196-d502-4f280e918b65"
      },
      "source": [
        "%%bigquery --project produkcja-instore\n",
        "\n",
        "select\n",
        "    user_pseudo_id,\n",
        "    sum(ecommerce.purchase_revenue) as lifetime_value\n",
        "from\n",
        "    `simoahava-com.analytics_206575074.events_*`\n",
        "where\n",
        "    _table_suffix between format_date('%Y%m%d',date_sub(current_date(), interval 60 day))\n",
        "    and format_date('%Y%m%d',date_sub(current_date(), interval 1 day))\n",
        "    and ecommerce.purchase_revenue is not null\n",
        "group by \n",
        "    user_pseudo_id\n",
        "order by \n",
        "    lifetime_value desc\n",
        "LIMIT 5"
      ],
      "execution_count": null,
      "outputs": [
        {
          "output_type": "execute_result",
          "data": {
            "application/vnd.google.colaboratory.module+javascript": "\n      import \"https://ssl.gstatic.com/colaboratory/data_table/a6224c040fa35dcf/data_table.js\";\n\n      window.createDataTable({\n        data: [[{\n            'v': 0,\n            'f': \"0\",\n        },\n\"1612950054.1622107524\",\n{\n            'v': 2612.0,\n            'f': \"2612.0\",\n        }],\n [{\n            'v': 1,\n            'f': \"1\",\n        },\n\"659974159.1624173024\",\n{\n            'v': 2490.0,\n            'f': \"2490.0\",\n        }],\n [{\n            'v': 2,\n            'f': \"2\",\n        },\n\"1363679883.1623167021\",\n{\n            'v': 2441.0,\n            'f': \"2441.0\",\n        }],\n [{\n            'v': 3,\n            'f': \"3\",\n        },\n\"109766058.1623347678\",\n{\n            'v': 2410.0,\n            'f': \"2410.0\",\n        }],\n [{\n            'v': 4,\n            'f': \"4\",\n        },\n\"1684845558.1612992021\",\n{\n            'v': 2285.0,\n            'f': \"2285.0\",\n        }]],\n        columns: [[\"number\", \"index\"], [\"string\", \"user_pseudo_id\"], [\"number\", \"lifetime_value\"]],\n        columnOptions: [{\"width\": \"1px\", \"className\": \"index_column\"}],\n        rowsPerPage: 25,\n        helpUrl: \"https://colab.research.google.com/notebooks/data_table.ipynb\",\n        suppressOutputScrolling: true,\n        minimumWidth: undefined,\n      });\n    ",
            "text/html": [
              "<div>\n",
              "<style scoped>\n",
              "    .dataframe tbody tr th:only-of-type {\n",
              "        vertical-align: middle;\n",
              "    }\n",
              "\n",
              "    .dataframe tbody tr th {\n",
              "        vertical-align: top;\n",
              "    }\n",
              "\n",
              "    .dataframe thead th {\n",
              "        text-align: right;\n",
              "    }\n",
              "</style>\n",
              "<table border=\"1\" class=\"dataframe\">\n",
              "  <thead>\n",
              "    <tr style=\"text-align: right;\">\n",
              "      <th></th>\n",
              "      <th>user_pseudo_id</th>\n",
              "      <th>lifetime_value</th>\n",
              "    </tr>\n",
              "  </thead>\n",
              "  <tbody>\n",
              "    <tr>\n",
              "      <th>0</th>\n",
              "      <td>1612950054.1622107524</td>\n",
              "      <td>2612.0</td>\n",
              "    </tr>\n",
              "    <tr>\n",
              "      <th>1</th>\n",
              "      <td>659974159.1624173024</td>\n",
              "      <td>2490.0</td>\n",
              "    </tr>\n",
              "    <tr>\n",
              "      <th>2</th>\n",
              "      <td>1363679883.1623167021</td>\n",
              "      <td>2441.0</td>\n",
              "    </tr>\n",
              "    <tr>\n",
              "      <th>3</th>\n",
              "      <td>109766058.1623347678</td>\n",
              "      <td>2410.0</td>\n",
              "    </tr>\n",
              "    <tr>\n",
              "      <th>4</th>\n",
              "      <td>1684845558.1612992021</td>\n",
              "      <td>2285.0</td>\n",
              "    </tr>\n",
              "  </tbody>\n",
              "</table>\n",
              "</div>"
            ],
            "text/plain": [
              "          user_pseudo_id  lifetime_value\n",
              "0  1612950054.1622107524          2612.0\n",
              "1   659974159.1624173024          2490.0\n",
              "2  1363679883.1623167021          2441.0\n",
              "3   109766058.1623347678          2410.0\n",
              "4  1684845558.1612992021          2285.0"
            ]
          },
          "metadata": {},
          "execution_count": 3
        }
      ]
    },
    {
      "cell_type": "markdown",
      "metadata": {
        "id": "Uy7iQP6C_ZAa"
      },
      "source": [
        "Calculate Average Lifetime Revenue"
      ]
    },
    {
      "cell_type": "code",
      "metadata": {
        "colab": {
          "base_uri": "https://localhost:8080/",
          "height": 195
        },
        "id": "cGnSP9GQ-T7c",
        "outputId": "292f03a8-b9b5-48b6-97fd-a29ebbe155bb"
      },
      "source": [
        "%%bigquery --project produkcja-instore\n",
        "\n",
        "with prep as (\n",
        "select\n",
        "    user_pseudo_id,\n",
        "    (select value.int_value from unnest(event_params) where key = 'ga_session_id') as session_id,\n",
        "    parse_date('%Y%m%d',event_date) as session_date,\n",
        "    first_value(parse_date('%Y%m%d',event_date)) over (partition by user_pseudo_id order by event_date) as first_session_date,\n",
        "    sum(ecommerce.purchase_revenue) as revenue\n",
        "from\n",
        "    `simoahava-com.analytics_206575074.events_*`\n",
        "where\n",
        "    _table_suffix between format_date('%Y%m%d',date_sub(current_date(), interval 60 day)) and format_date('%Y%m%d',date_sub(current_date(), interval 1 day))\n",
        "group by\n",
        "    user_pseudo_id,\n",
        "    session_id,\n",
        "    event_date\n",
        "order by\n",
        "    user_pseudo_id,\n",
        "    session_id),\n",
        "\n",
        "prep_ltv as (\n",
        "select \n",
        "    date_diff(session_date,first_session_date,day) as day,\n",
        "    count(distinct user_pseudo_id) as users,\n",
        "    sum(revenue) as ltv_revenue_per_day,\n",
        "    sum(revenue) / max(count(distinct user_pseudo_id)) over () as avg_ltv_revenue_per_day\n",
        "from \n",
        "    prep\n",
        "group by \n",
        "    day\n",
        "order by \n",
        "    day)\n",
        "\n",
        "select \n",
        "    day,\n",
        "    sum(avg_ltv_revenue_per_day) over (order by day) as average_ltv_revenue\n",
        "from \n",
        "    prep_ltv\n",
        "group by \n",
        "    day,\n",
        "    avg_ltv_revenue_per_day\n",
        "order by \n",
        "    day\n",
        "\n",
        "LIMIT 5"
      ],
      "execution_count": null,
      "outputs": [
        {
          "output_type": "execute_result",
          "data": {
            "application/vnd.google.colaboratory.module+javascript": "\n      import \"https://ssl.gstatic.com/colaboratory/data_table/a6224c040fa35dcf/data_table.js\";\n\n      window.createDataTable({\n        data: [[{\n            'v': 0,\n            'f': \"0\",\n        },\n{\n            'v': 0,\n            'f': \"0\",\n        },\n{\n            'v': 14.423030773255867,\n            'f': \"14.423030773255867\",\n        }],\n [{\n            'v': 1,\n            'f': \"1\",\n        },\n{\n            'v': 1,\n            'f': \"1\",\n        },\n{\n            'v': 16.036772732603772,\n            'f': \"16.036772732603772\",\n        }],\n [{\n            'v': 2,\n            'f': \"2\",\n        },\n{\n            'v': 2,\n            'f': \"2\",\n        },\n{\n            'v': 16.72805680106096,\n            'f': \"16.72805680106096\",\n        }],\n [{\n            'v': 3,\n            'f': \"3\",\n        },\n{\n            'v': 3,\n            'f': \"3\",\n        },\n{\n            'v': 17.295210342556587,\n            'f': \"17.295210342556587\",\n        }],\n [{\n            'v': 4,\n            'f': \"4\",\n        },\n{\n            'v': 4,\n            'f': \"4\",\n        },\n{\n            'v': 17.77359869364777,\n            'f': \"17.77359869364777\",\n        }]],\n        columns: [[\"number\", \"index\"], [\"number\", \"day\"], [\"number\", \"average_ltv_revenue\"]],\n        columnOptions: [{\"width\": \"1px\", \"className\": \"index_column\"}],\n        rowsPerPage: 25,\n        helpUrl: \"https://colab.research.google.com/notebooks/data_table.ipynb\",\n        suppressOutputScrolling: true,\n        minimumWidth: undefined,\n      });\n    ",
            "text/html": [
              "<div>\n",
              "<style scoped>\n",
              "    .dataframe tbody tr th:only-of-type {\n",
              "        vertical-align: middle;\n",
              "    }\n",
              "\n",
              "    .dataframe tbody tr th {\n",
              "        vertical-align: top;\n",
              "    }\n",
              "\n",
              "    .dataframe thead th {\n",
              "        text-align: right;\n",
              "    }\n",
              "</style>\n",
              "<table border=\"1\" class=\"dataframe\">\n",
              "  <thead>\n",
              "    <tr style=\"text-align: right;\">\n",
              "      <th></th>\n",
              "      <th>day</th>\n",
              "      <th>average_ltv_revenue</th>\n",
              "    </tr>\n",
              "  </thead>\n",
              "  <tbody>\n",
              "    <tr>\n",
              "      <th>0</th>\n",
              "      <td>0</td>\n",
              "      <td>14.423031</td>\n",
              "    </tr>\n",
              "    <tr>\n",
              "      <th>1</th>\n",
              "      <td>1</td>\n",
              "      <td>16.036773</td>\n",
              "    </tr>\n",
              "    <tr>\n",
              "      <th>2</th>\n",
              "      <td>2</td>\n",
              "      <td>16.728057</td>\n",
              "    </tr>\n",
              "    <tr>\n",
              "      <th>3</th>\n",
              "      <td>3</td>\n",
              "      <td>17.295210</td>\n",
              "    </tr>\n",
              "    <tr>\n",
              "      <th>4</th>\n",
              "      <td>4</td>\n",
              "      <td>17.773599</td>\n",
              "    </tr>\n",
              "  </tbody>\n",
              "</table>\n",
              "</div>"
            ],
            "text/plain": [
              "   day  average_ltv_revenue\n",
              "0    0            14.423031\n",
              "1    1            16.036773\n",
              "2    2            16.728057\n",
              "3    3            17.295210\n",
              "4    4            17.773599"
            ]
          },
          "metadata": {},
          "execution_count": 4
        }
      ]
    }
  ]
}