{
  "nbformat": 4,
  "nbformat_minor": 0,
  "metadata": {
    "colab": {
      "name": "BQ - Funkcje analityczne.ipynb",
      "provenance": [],
      "authorship_tag": "ABX9TyNuiOJ2Kzo/HTJOL6qcUjIv"
    },
    "kernelspec": {
      "name": "python3",
      "display_name": "Python 3"
    },
    "language_info": {
      "name": "python"
    }
  },
  "cells": [
    {
      "cell_type": "code",
      "metadata": {
        "colab": {
          "base_uri": "https://localhost:8080/"
        },
        "id": "QVIP1zC4qF3D",
        "outputId": "e18189bc-918f-47f8-a310-81bb72ba7fe6"
      },
      "source": [
        "from google.colab import auth\n",
        "auth.authenticate_user()\n",
        "print('Authenticated')\n",
        "\n",
        "%load_ext google.colab.data_table"
      ],
      "execution_count": null,
      "outputs": [
        {
          "output_type": "stream",
          "text": [
            "Authenticated\n"
          ],
          "name": "stdout"
        }
      ]
    },
    {
      "cell_type": "markdown",
      "metadata": {
        "id": "flA3T5W_p7CS"
      },
      "source": [
        "Suma całkowita"
      ]
    },
    {
      "cell_type": "code",
      "metadata": {
        "colab": {
          "base_uri": "https://localhost:8080/",
          "height": 215
        },
        "id": "BfnqoNuCpyPF",
        "outputId": "42a5b269-05e7-4763-ce55-b0ac367c7ea4"
      },
      "source": [
        "%%bigquery --project produkcja-instore\n",
        "\n",
        "WITH Produce AS\n",
        " (SELECT 'kale' as item, 23 as purchases, 'vegetable' as category\n",
        "  UNION ALL SELECT 'orange', 2, 'fruit'\n",
        "  UNION ALL SELECT 'cabbage', 9, 'vegetable'\n",
        "  UNION ALL SELECT 'apple', 8, 'fruit'\n",
        "  UNION ALL SELECT 'leek', 2, 'vegetable'\n",
        "  UNION ALL SELECT 'lettuce', 10, 'vegetable')\n",
        " \n",
        "select item, purchases, category, sum(purchases) over() total_purchases\n",
        "from produce"
      ],
      "execution_count": null,
      "outputs": [
        {
          "output_type": "execute_result",
          "data": {
            "application/vnd.google.colaboratory.module+javascript": "\n      import \"https://ssl.gstatic.com/colaboratory/data_table/a6224c040fa35dcf/data_table.js\";\n\n      window.createDataTable({\n        data: [[{\n            'v': 0,\n            'f': \"0\",\n        },\n\"kale\",\n{\n            'v': 23,\n            'f': \"23\",\n        },\n\"vegetable\",\n{\n            'v': 54,\n            'f': \"54\",\n        }],\n [{\n            'v': 1,\n            'f': \"1\",\n        },\n\"orange\",\n{\n            'v': 2,\n            'f': \"2\",\n        },\n\"fruit\",\n{\n            'v': 54,\n            'f': \"54\",\n        }],\n [{\n            'v': 2,\n            'f': \"2\",\n        },\n\"cabbage\",\n{\n            'v': 9,\n            'f': \"9\",\n        },\n\"vegetable\",\n{\n            'v': 54,\n            'f': \"54\",\n        }],\n [{\n            'v': 3,\n            'f': \"3\",\n        },\n\"apple\",\n{\n            'v': 8,\n            'f': \"8\",\n        },\n\"fruit\",\n{\n            'v': 54,\n            'f': \"54\",\n        }],\n [{\n            'v': 4,\n            'f': \"4\",\n        },\n\"leek\",\n{\n            'v': 2,\n            'f': \"2\",\n        },\n\"vegetable\",\n{\n            'v': 54,\n            'f': \"54\",\n        }],\n [{\n            'v': 5,\n            'f': \"5\",\n        },\n\"lettuce\",\n{\n            'v': 10,\n            'f': \"10\",\n        },\n\"vegetable\",\n{\n            'v': 54,\n            'f': \"54\",\n        }]],\n        columns: [[\"number\", \"index\"], [\"string\", \"item\"], [\"number\", \"purchases\"], [\"string\", \"category\"], [\"number\", \"total_purchases\"]],\n        columnOptions: [{\"width\": \"1px\", \"className\": \"index_column\"}],\n        rowsPerPage: 25,\n        helpUrl: \"https://colab.research.google.com/notebooks/data_table.ipynb\",\n        suppressOutputScrolling: true,\n        minimumWidth: undefined,\n      });\n    ",
            "text/html": [
              "<div>\n",
              "<style scoped>\n",
              "    .dataframe tbody tr th:only-of-type {\n",
              "        vertical-align: middle;\n",
              "    }\n",
              "\n",
              "    .dataframe tbody tr th {\n",
              "        vertical-align: top;\n",
              "    }\n",
              "\n",
              "    .dataframe thead th {\n",
              "        text-align: right;\n",
              "    }\n",
              "</style>\n",
              "<table border=\"1\" class=\"dataframe\">\n",
              "  <thead>\n",
              "    <tr style=\"text-align: right;\">\n",
              "      <th></th>\n",
              "      <th>item</th>\n",
              "      <th>purchases</th>\n",
              "      <th>category</th>\n",
              "      <th>total_purchases</th>\n",
              "    </tr>\n",
              "  </thead>\n",
              "  <tbody>\n",
              "    <tr>\n",
              "      <th>0</th>\n",
              "      <td>kale</td>\n",
              "      <td>23</td>\n",
              "      <td>vegetable</td>\n",
              "      <td>54</td>\n",
              "    </tr>\n",
              "    <tr>\n",
              "      <th>1</th>\n",
              "      <td>orange</td>\n",
              "      <td>2</td>\n",
              "      <td>fruit</td>\n",
              "      <td>54</td>\n",
              "    </tr>\n",
              "    <tr>\n",
              "      <th>2</th>\n",
              "      <td>cabbage</td>\n",
              "      <td>9</td>\n",
              "      <td>vegetable</td>\n",
              "      <td>54</td>\n",
              "    </tr>\n",
              "    <tr>\n",
              "      <th>3</th>\n",
              "      <td>apple</td>\n",
              "      <td>8</td>\n",
              "      <td>fruit</td>\n",
              "      <td>54</td>\n",
              "    </tr>\n",
              "    <tr>\n",
              "      <th>4</th>\n",
              "      <td>leek</td>\n",
              "      <td>2</td>\n",
              "      <td>vegetable</td>\n",
              "      <td>54</td>\n",
              "    </tr>\n",
              "    <tr>\n",
              "      <th>5</th>\n",
              "      <td>lettuce</td>\n",
              "      <td>10</td>\n",
              "      <td>vegetable</td>\n",
              "      <td>54</td>\n",
              "    </tr>\n",
              "  </tbody>\n",
              "</table>\n",
              "</div>"
            ],
            "text/plain": [
              "      item  purchases   category  total_purchases\n",
              "0     kale         23  vegetable               54\n",
              "1   orange          2      fruit               54\n",
              "2  cabbage          9  vegetable               54\n",
              "3    apple          8      fruit               54\n",
              "4     leek          2  vegetable               54\n",
              "5  lettuce         10  vegetable               54"
            ]
          },
          "metadata": {
            "tags": []
          },
          "execution_count": 3
        }
      ]
    },
    {
      "cell_type": "markdown",
      "metadata": {
        "id": "p1kse1h-qPlU"
      },
      "source": [
        "Suma częściowa"
      ]
    },
    {
      "cell_type": "code",
      "metadata": {
        "colab": {
          "base_uri": "https://localhost:8080/",
          "height": 215
        },
        "id": "J5uVv9mep_Vt",
        "outputId": "baf787eb-521a-487a-d698-f8c8592e713e"
      },
      "source": [
        "%%bigquery --project produkcja-instore\n",
        "\n",
        "WITH Produce AS\n",
        " (SELECT 'kale' as item, 23 as purchases, 'vegetable' as category\n",
        "  UNION ALL SELECT 'orange', 2, 'fruit'\n",
        "  UNION ALL SELECT 'cabbage', 9, 'vegetable'\n",
        "  UNION ALL SELECT 'apple', 8, 'fruit'\n",
        "  UNION ALL SELECT 'leek', 2, 'vegetable'\n",
        "  UNION ALL SELECT 'lettuce', 10, 'vegetable')\n",
        " \n",
        "select item, purchases, category, \n",
        "sum(purchases) over (partition by category order by purchases\n",
        "ROWS BETWEEN UNBOUNDED PRECEDING AND UNBOUNDED FOLLOWING) total_purchases\n",
        "from produce"
      ],
      "execution_count": null,
      "outputs": [
        {
          "output_type": "execute_result",
          "data": {
            "application/vnd.google.colaboratory.module+javascript": "\n      import \"https://ssl.gstatic.com/colaboratory/data_table/a6224c040fa35dcf/data_table.js\";\n\n      window.createDataTable({\n        data: [[{\n            'v': 0,\n            'f': \"0\",\n        },\n\"orange\",\n{\n            'v': 2,\n            'f': \"2\",\n        },\n\"fruit\",\n{\n            'v': 10,\n            'f': \"10\",\n        }],\n [{\n            'v': 1,\n            'f': \"1\",\n        },\n\"apple\",\n{\n            'v': 8,\n            'f': \"8\",\n        },\n\"fruit\",\n{\n            'v': 10,\n            'f': \"10\",\n        }],\n [{\n            'v': 2,\n            'f': \"2\",\n        },\n\"leek\",\n{\n            'v': 2,\n            'f': \"2\",\n        },\n\"vegetable\",\n{\n            'v': 44,\n            'f': \"44\",\n        }],\n [{\n            'v': 3,\n            'f': \"3\",\n        },\n\"cabbage\",\n{\n            'v': 9,\n            'f': \"9\",\n        },\n\"vegetable\",\n{\n            'v': 44,\n            'f': \"44\",\n        }],\n [{\n            'v': 4,\n            'f': \"4\",\n        },\n\"lettuce\",\n{\n            'v': 10,\n            'f': \"10\",\n        },\n\"vegetable\",\n{\n            'v': 44,\n            'f': \"44\",\n        }],\n [{\n            'v': 5,\n            'f': \"5\",\n        },\n\"kale\",\n{\n            'v': 23,\n            'f': \"23\",\n        },\n\"vegetable\",\n{\n            'v': 44,\n            'f': \"44\",\n        }]],\n        columns: [[\"number\", \"index\"], [\"string\", \"item\"], [\"number\", \"purchases\"], [\"string\", \"category\"], [\"number\", \"total_purchases\"]],\n        columnOptions: [{\"width\": \"1px\", \"className\": \"index_column\"}],\n        rowsPerPage: 25,\n        helpUrl: \"https://colab.research.google.com/notebooks/data_table.ipynb\",\n        suppressOutputScrolling: true,\n        minimumWidth: undefined,\n      });\n    ",
            "text/html": [
              "<div>\n",
              "<style scoped>\n",
              "    .dataframe tbody tr th:only-of-type {\n",
              "        vertical-align: middle;\n",
              "    }\n",
              "\n",
              "    .dataframe tbody tr th {\n",
              "        vertical-align: top;\n",
              "    }\n",
              "\n",
              "    .dataframe thead th {\n",
              "        text-align: right;\n",
              "    }\n",
              "</style>\n",
              "<table border=\"1\" class=\"dataframe\">\n",
              "  <thead>\n",
              "    <tr style=\"text-align: right;\">\n",
              "      <th></th>\n",
              "      <th>item</th>\n",
              "      <th>purchases</th>\n",
              "      <th>category</th>\n",
              "      <th>total_purchases</th>\n",
              "    </tr>\n",
              "  </thead>\n",
              "  <tbody>\n",
              "    <tr>\n",
              "      <th>0</th>\n",
              "      <td>orange</td>\n",
              "      <td>2</td>\n",
              "      <td>fruit</td>\n",
              "      <td>10</td>\n",
              "    </tr>\n",
              "    <tr>\n",
              "      <th>1</th>\n",
              "      <td>apple</td>\n",
              "      <td>8</td>\n",
              "      <td>fruit</td>\n",
              "      <td>10</td>\n",
              "    </tr>\n",
              "    <tr>\n",
              "      <th>2</th>\n",
              "      <td>leek</td>\n",
              "      <td>2</td>\n",
              "      <td>vegetable</td>\n",
              "      <td>44</td>\n",
              "    </tr>\n",
              "    <tr>\n",
              "      <th>3</th>\n",
              "      <td>cabbage</td>\n",
              "      <td>9</td>\n",
              "      <td>vegetable</td>\n",
              "      <td>44</td>\n",
              "    </tr>\n",
              "    <tr>\n",
              "      <th>4</th>\n",
              "      <td>lettuce</td>\n",
              "      <td>10</td>\n",
              "      <td>vegetable</td>\n",
              "      <td>44</td>\n",
              "    </tr>\n",
              "    <tr>\n",
              "      <th>5</th>\n",
              "      <td>kale</td>\n",
              "      <td>23</td>\n",
              "      <td>vegetable</td>\n",
              "      <td>44</td>\n",
              "    </tr>\n",
              "  </tbody>\n",
              "</table>\n",
              "</div>"
            ],
            "text/plain": [
              "      item  purchases   category  total_purchases\n",
              "0   orange          2      fruit               10\n",
              "1    apple          8      fruit               10\n",
              "2     leek          2  vegetable               44\n",
              "3  cabbage          9  vegetable               44\n",
              "4  lettuce         10  vegetable               44\n",
              "5     kale         23  vegetable               44"
            ]
          },
          "metadata": {
            "tags": []
          },
          "execution_count": 4
        }
      ]
    },
    {
      "cell_type": "markdown",
      "metadata": {
        "id": "Vpa41Ow0qs_G"
      },
      "source": [
        "Suma skumulowana - obliczana jest w odniesieniu do kolejności określonej za pomocą Order By\n"
      ]
    },
    {
      "cell_type": "code",
      "metadata": {
        "colab": {
          "base_uri": "https://localhost:8080/",
          "height": 215
        },
        "id": "Jl8uo5vfqFGE",
        "outputId": "97e6a07f-b4ad-4885-e239-4d4a50e2e098"
      },
      "source": [
        "%%bigquery --project produkcja-instore\n",
        "\n",
        "WITH Produce AS\n",
        " (SELECT 'kale' as item, 23 as purchases, 'vegetable' as category\n",
        "  UNION ALL SELECT 'orange', 2, 'fruit'\n",
        "  UNION ALL SELECT 'cabbage', 9, 'vegetable'\n",
        "  UNION ALL SELECT 'apple', 8, 'fruit'\n",
        "  UNION ALL SELECT 'leek', 2, 'vegetable'\n",
        "  UNION ALL SELECT 'lettuce', 10, 'vegetable')\n",
        " \n",
        "select item, purchases, category, \n",
        "sum(purchases) over (partition by category order by purchases\n",
        "ROWS BETWEEN UNBOUNDED PRECEDING AND CURRENT ROW) total_purchases\n",
        "from produce"
      ],
      "execution_count": null,
      "outputs": [
        {
          "output_type": "execute_result",
          "data": {
            "application/vnd.google.colaboratory.module+javascript": "\n      import \"https://ssl.gstatic.com/colaboratory/data_table/a6224c040fa35dcf/data_table.js\";\n\n      window.createDataTable({\n        data: [[{\n            'v': 0,\n            'f': \"0\",\n        },\n\"orange\",\n{\n            'v': 2,\n            'f': \"2\",\n        },\n\"fruit\",\n{\n            'v': 2,\n            'f': \"2\",\n        }],\n [{\n            'v': 1,\n            'f': \"1\",\n        },\n\"apple\",\n{\n            'v': 8,\n            'f': \"8\",\n        },\n\"fruit\",\n{\n            'v': 10,\n            'f': \"10\",\n        }],\n [{\n            'v': 2,\n            'f': \"2\",\n        },\n\"leek\",\n{\n            'v': 2,\n            'f': \"2\",\n        },\n\"vegetable\",\n{\n            'v': 2,\n            'f': \"2\",\n        }],\n [{\n            'v': 3,\n            'f': \"3\",\n        },\n\"cabbage\",\n{\n            'v': 9,\n            'f': \"9\",\n        },\n\"vegetable\",\n{\n            'v': 11,\n            'f': \"11\",\n        }],\n [{\n            'v': 4,\n            'f': \"4\",\n        },\n\"lettuce\",\n{\n            'v': 10,\n            'f': \"10\",\n        },\n\"vegetable\",\n{\n            'v': 21,\n            'f': \"21\",\n        }],\n [{\n            'v': 5,\n            'f': \"5\",\n        },\n\"kale\",\n{\n            'v': 23,\n            'f': \"23\",\n        },\n\"vegetable\",\n{\n            'v': 44,\n            'f': \"44\",\n        }]],\n        columns: [[\"number\", \"index\"], [\"string\", \"item\"], [\"number\", \"purchases\"], [\"string\", \"category\"], [\"number\", \"total_purchases\"]],\n        columnOptions: [{\"width\": \"1px\", \"className\": \"index_column\"}],\n        rowsPerPage: 25,\n        helpUrl: \"https://colab.research.google.com/notebooks/data_table.ipynb\",\n        suppressOutputScrolling: true,\n        minimumWidth: undefined,\n      });\n    ",
            "text/html": [
              "<div>\n",
              "<style scoped>\n",
              "    .dataframe tbody tr th:only-of-type {\n",
              "        vertical-align: middle;\n",
              "    }\n",
              "\n",
              "    .dataframe tbody tr th {\n",
              "        vertical-align: top;\n",
              "    }\n",
              "\n",
              "    .dataframe thead th {\n",
              "        text-align: right;\n",
              "    }\n",
              "</style>\n",
              "<table border=\"1\" class=\"dataframe\">\n",
              "  <thead>\n",
              "    <tr style=\"text-align: right;\">\n",
              "      <th></th>\n",
              "      <th>item</th>\n",
              "      <th>purchases</th>\n",
              "      <th>category</th>\n",
              "      <th>total_purchases</th>\n",
              "    </tr>\n",
              "  </thead>\n",
              "  <tbody>\n",
              "    <tr>\n",
              "      <th>0</th>\n",
              "      <td>orange</td>\n",
              "      <td>2</td>\n",
              "      <td>fruit</td>\n",
              "      <td>2</td>\n",
              "    </tr>\n",
              "    <tr>\n",
              "      <th>1</th>\n",
              "      <td>apple</td>\n",
              "      <td>8</td>\n",
              "      <td>fruit</td>\n",
              "      <td>10</td>\n",
              "    </tr>\n",
              "    <tr>\n",
              "      <th>2</th>\n",
              "      <td>leek</td>\n",
              "      <td>2</td>\n",
              "      <td>vegetable</td>\n",
              "      <td>2</td>\n",
              "    </tr>\n",
              "    <tr>\n",
              "      <th>3</th>\n",
              "      <td>cabbage</td>\n",
              "      <td>9</td>\n",
              "      <td>vegetable</td>\n",
              "      <td>11</td>\n",
              "    </tr>\n",
              "    <tr>\n",
              "      <th>4</th>\n",
              "      <td>lettuce</td>\n",
              "      <td>10</td>\n",
              "      <td>vegetable</td>\n",
              "      <td>21</td>\n",
              "    </tr>\n",
              "    <tr>\n",
              "      <th>5</th>\n",
              "      <td>kale</td>\n",
              "      <td>23</td>\n",
              "      <td>vegetable</td>\n",
              "      <td>44</td>\n",
              "    </tr>\n",
              "  </tbody>\n",
              "</table>\n",
              "</div>"
            ],
            "text/plain": [
              "      item  purchases   category  total_purchases\n",
              "0   orange          2      fruit                2\n",
              "1    apple          8      fruit               10\n",
              "2     leek          2  vegetable                2\n",
              "3  cabbage          9  vegetable               11\n",
              "4  lettuce         10  vegetable               21\n",
              "5     kale         23  vegetable               44"
            ]
          },
          "metadata": {
            "tags": []
          },
          "execution_count": 6
        }
      ]
    },
    {
      "cell_type": "markdown",
      "metadata": {
        "id": "XMF8c_rFuhlR"
      },
      "source": [
        "Suma skumulowana - obliczana jest w odniesieniu do kolejności określonej za pomocą Order By.\n",
        "\n",
        "Analiza zaczyna się 2 wiersze przed bieżącym wierszem partycji"
      ]
    },
    {
      "cell_type": "code",
      "metadata": {
        "colab": {
          "base_uri": "https://localhost:8080/",
          "height": 215
        },
        "id": "DW-h2dYdsI_6",
        "outputId": "e320e940-51e0-4610-c633-742f13571abd"
      },
      "source": [
        "%%bigquery --project produkcja-instore\n",
        "WITH Produce AS\n",
        " (SELECT 'kale' as item, 23 as purchases, 'vegetable' as category\n",
        "  UNION ALL SELECT 'orange', 2, 'fruit'\n",
        "  UNION ALL SELECT 'cabbage', 9, 'vegetable'\n",
        "  UNION ALL SELECT 'apple', 8, 'fruit'\n",
        "  UNION ALL SELECT 'leek', 2, 'vegetable'\n",
        "  UNION ALL SELECT 'lettuce', 10, 'vegetable')\n",
        "\n",
        "SELECT item, purchases, category, \n",
        "sum(purchases) over (order by purchases \n",
        "ROWS BETWEEN UNBOUNDED PRECEDING AND 2 PRECEDING) total_purchases\n",
        "FROM produce"
      ],
      "execution_count": null,
      "outputs": [
        {
          "output_type": "execute_result",
          "data": {
            "application/vnd.google.colaboratory.module+javascript": "\n      import \"https://ssl.gstatic.com/colaboratory/data_table/a6224c040fa35dcf/data_table.js\";\n\n      window.createDataTable({\n        data: [[{\n            'v': 0,\n            'f': \"0\",\n        },\n\"orange\",\n{\n            'v': 2,\n            'f': \"2\",\n        },\n\"fruit\",\n{\n            'v': NaN,\n            'f': \"NaN\",\n        }],\n [{\n            'v': 1,\n            'f': \"1\",\n        },\n\"leek\",\n{\n            'v': 2,\n            'f': \"2\",\n        },\n\"vegetable\",\n{\n            'v': NaN,\n            'f': \"NaN\",\n        }],\n [{\n            'v': 2,\n            'f': \"2\",\n        },\n\"apple\",\n{\n            'v': 8,\n            'f': \"8\",\n        },\n\"fruit\",\n{\n            'v': 2.0,\n            'f': \"2.0\",\n        }],\n [{\n            'v': 3,\n            'f': \"3\",\n        },\n\"cabbage\",\n{\n            'v': 9,\n            'f': \"9\",\n        },\n\"vegetable\",\n{\n            'v': 4.0,\n            'f': \"4.0\",\n        }],\n [{\n            'v': 4,\n            'f': \"4\",\n        },\n\"lettuce\",\n{\n            'v': 10,\n            'f': \"10\",\n        },\n\"vegetable\",\n{\n            'v': 12.0,\n            'f': \"12.0\",\n        }],\n [{\n            'v': 5,\n            'f': \"5\",\n        },\n\"kale\",\n{\n            'v': 23,\n            'f': \"23\",\n        },\n\"vegetable\",\n{\n            'v': 21.0,\n            'f': \"21.0\",\n        }]],\n        columns: [[\"number\", \"index\"], [\"string\", \"item\"], [\"number\", \"purchases\"], [\"string\", \"category\"], [\"number\", \"total_purchases\"]],\n        columnOptions: [{\"width\": \"1px\", \"className\": \"index_column\"}],\n        rowsPerPage: 25,\n        helpUrl: \"https://colab.research.google.com/notebooks/data_table.ipynb\",\n        suppressOutputScrolling: true,\n        minimumWidth: undefined,\n      });\n    ",
            "text/html": [
              "<div>\n",
              "<style scoped>\n",
              "    .dataframe tbody tr th:only-of-type {\n",
              "        vertical-align: middle;\n",
              "    }\n",
              "\n",
              "    .dataframe tbody tr th {\n",
              "        vertical-align: top;\n",
              "    }\n",
              "\n",
              "    .dataframe thead th {\n",
              "        text-align: right;\n",
              "    }\n",
              "</style>\n",
              "<table border=\"1\" class=\"dataframe\">\n",
              "  <thead>\n",
              "    <tr style=\"text-align: right;\">\n",
              "      <th></th>\n",
              "      <th>item</th>\n",
              "      <th>purchases</th>\n",
              "      <th>category</th>\n",
              "      <th>total_purchases</th>\n",
              "    </tr>\n",
              "  </thead>\n",
              "  <tbody>\n",
              "    <tr>\n",
              "      <th>0</th>\n",
              "      <td>orange</td>\n",
              "      <td>2</td>\n",
              "      <td>fruit</td>\n",
              "      <td>NaN</td>\n",
              "    </tr>\n",
              "    <tr>\n",
              "      <th>1</th>\n",
              "      <td>leek</td>\n",
              "      <td>2</td>\n",
              "      <td>vegetable</td>\n",
              "      <td>NaN</td>\n",
              "    </tr>\n",
              "    <tr>\n",
              "      <th>2</th>\n",
              "      <td>apple</td>\n",
              "      <td>8</td>\n",
              "      <td>fruit</td>\n",
              "      <td>2.0</td>\n",
              "    </tr>\n",
              "    <tr>\n",
              "      <th>3</th>\n",
              "      <td>cabbage</td>\n",
              "      <td>9</td>\n",
              "      <td>vegetable</td>\n",
              "      <td>4.0</td>\n",
              "    </tr>\n",
              "    <tr>\n",
              "      <th>4</th>\n",
              "      <td>lettuce</td>\n",
              "      <td>10</td>\n",
              "      <td>vegetable</td>\n",
              "      <td>12.0</td>\n",
              "    </tr>\n",
              "    <tr>\n",
              "      <th>5</th>\n",
              "      <td>kale</td>\n",
              "      <td>23</td>\n",
              "      <td>vegetable</td>\n",
              "      <td>21.0</td>\n",
              "    </tr>\n",
              "  </tbody>\n",
              "</table>\n",
              "</div>"
            ],
            "text/plain": [
              "      item  purchases   category  total_purchases\n",
              "0   orange          2      fruit              NaN\n",
              "1     leek          2  vegetable              NaN\n",
              "2    apple          8      fruit              2.0\n",
              "3  cabbage          9  vegetable              4.0\n",
              "4  lettuce         10  vegetable             12.0\n",
              "5     kale         23  vegetable             21.0"
            ]
          },
          "metadata": {
            "tags": []
          },
          "execution_count": 7
        }
      ]
    },
    {
      "cell_type": "markdown",
      "metadata": {
        "id": "uU00Xd0Mu7th"
      },
      "source": [
        "Średnia ruchoma - Dolna granica to 1 wiersz przed bieżącym wierszem. Górna granica to 1 wiersz za bieżącym wierszem."
      ]
    },
    {
      "cell_type": "code",
      "metadata": {
        "colab": {
          "base_uri": "https://localhost:8080/",
          "height": 215
        },
        "id": "KXhGJPtQu9So",
        "outputId": "1fef46e5-15ec-46e0-eff3-10e0d9c455ed"
      },
      "source": [
        "%%bigquery --project produkcja-instore\n",
        "WITH Produce AS\n",
        " (SELECT 'kale' as item, 23 as purchases, 'vegetable' as category\n",
        "  UNION ALL SELECT 'orange', 2, 'fruit'\n",
        "  UNION ALL SELECT 'cabbage', 9, 'vegetable'\n",
        "  UNION ALL SELECT 'apple', 8, 'fruit'\n",
        "  UNION ALL SELECT 'leek', 2, 'vegetable'\n",
        "  UNION ALL SELECT 'lettuce', 10, 'vegetable')\n",
        "\n",
        "SELECT item, purchases, category, \n",
        "AVG(purchases) over (order by purchases \n",
        "ROWS BETWEEN 1 PRECEDING AND 1 FOLLOWING) avg_purchases\n",
        "\n",
        "FROM Produce"
      ],
      "execution_count": null,
      "outputs": [
        {
          "output_type": "execute_result",
          "data": {
            "application/vnd.google.colaboratory.module+javascript": "\n      import \"https://ssl.gstatic.com/colaboratory/data_table/a6224c040fa35dcf/data_table.js\";\n\n      window.createDataTable({\n        data: [[{\n            'v': 0,\n            'f': \"0\",\n        },\n\"orange\",\n{\n            'v': 2,\n            'f': \"2\",\n        },\n\"fruit\",\n{\n            'v': 2.0,\n            'f': \"2.0\",\n        }],\n [{\n            'v': 1,\n            'f': \"1\",\n        },\n\"leek\",\n{\n            'v': 2,\n            'f': \"2\",\n        },\n\"vegetable\",\n{\n            'v': 4.0,\n            'f': \"4.0\",\n        }],\n [{\n            'v': 2,\n            'f': \"2\",\n        },\n\"apple\",\n{\n            'v': 8,\n            'f': \"8\",\n        },\n\"fruit\",\n{\n            'v': 6.333333333333333,\n            'f': \"6.333333333333333\",\n        }],\n [{\n            'v': 3,\n            'f': \"3\",\n        },\n\"cabbage\",\n{\n            'v': 9,\n            'f': \"9\",\n        },\n\"vegetable\",\n{\n            'v': 9.0,\n            'f': \"9.0\",\n        }],\n [{\n            'v': 4,\n            'f': \"4\",\n        },\n\"lettuce\",\n{\n            'v': 10,\n            'f': \"10\",\n        },\n\"vegetable\",\n{\n            'v': 14.0,\n            'f': \"14.0\",\n        }],\n [{\n            'v': 5,\n            'f': \"5\",\n        },\n\"kale\",\n{\n            'v': 23,\n            'f': \"23\",\n        },\n\"vegetable\",\n{\n            'v': 16.5,\n            'f': \"16.5\",\n        }]],\n        columns: [[\"number\", \"index\"], [\"string\", \"item\"], [\"number\", \"purchases\"], [\"string\", \"category\"], [\"number\", \"avg_purchases\"]],\n        columnOptions: [{\"width\": \"1px\", \"className\": \"index_column\"}],\n        rowsPerPage: 25,\n        helpUrl: \"https://colab.research.google.com/notebooks/data_table.ipynb\",\n        suppressOutputScrolling: true,\n        minimumWidth: undefined,\n      });\n    ",
            "text/html": [
              "<div>\n",
              "<style scoped>\n",
              "    .dataframe tbody tr th:only-of-type {\n",
              "        vertical-align: middle;\n",
              "    }\n",
              "\n",
              "    .dataframe tbody tr th {\n",
              "        vertical-align: top;\n",
              "    }\n",
              "\n",
              "    .dataframe thead th {\n",
              "        text-align: right;\n",
              "    }\n",
              "</style>\n",
              "<table border=\"1\" class=\"dataframe\">\n",
              "  <thead>\n",
              "    <tr style=\"text-align: right;\">\n",
              "      <th></th>\n",
              "      <th>item</th>\n",
              "      <th>purchases</th>\n",
              "      <th>category</th>\n",
              "      <th>avg_purchases</th>\n",
              "    </tr>\n",
              "  </thead>\n",
              "  <tbody>\n",
              "    <tr>\n",
              "      <th>0</th>\n",
              "      <td>orange</td>\n",
              "      <td>2</td>\n",
              "      <td>fruit</td>\n",
              "      <td>2.000000</td>\n",
              "    </tr>\n",
              "    <tr>\n",
              "      <th>1</th>\n",
              "      <td>leek</td>\n",
              "      <td>2</td>\n",
              "      <td>vegetable</td>\n",
              "      <td>4.000000</td>\n",
              "    </tr>\n",
              "    <tr>\n",
              "      <th>2</th>\n",
              "      <td>apple</td>\n",
              "      <td>8</td>\n",
              "      <td>fruit</td>\n",
              "      <td>6.333333</td>\n",
              "    </tr>\n",
              "    <tr>\n",
              "      <th>3</th>\n",
              "      <td>cabbage</td>\n",
              "      <td>9</td>\n",
              "      <td>vegetable</td>\n",
              "      <td>9.000000</td>\n",
              "    </tr>\n",
              "    <tr>\n",
              "      <th>4</th>\n",
              "      <td>lettuce</td>\n",
              "      <td>10</td>\n",
              "      <td>vegetable</td>\n",
              "      <td>14.000000</td>\n",
              "    </tr>\n",
              "    <tr>\n",
              "      <th>5</th>\n",
              "      <td>kale</td>\n",
              "      <td>23</td>\n",
              "      <td>vegetable</td>\n",
              "      <td>16.500000</td>\n",
              "    </tr>\n",
              "  </tbody>\n",
              "</table>\n",
              "</div>"
            ],
            "text/plain": [
              "      item  purchases   category  avg_purchases\n",
              "0   orange          2      fruit       2.000000\n",
              "1     leek          2  vegetable       4.000000\n",
              "2    apple          8      fruit       6.333333\n",
              "3  cabbage          9  vegetable       9.000000\n",
              "4  lettuce         10  vegetable      14.000000\n",
              "5     kale         23  vegetable      16.500000"
            ]
          },
          "metadata": {
            "tags": []
          },
          "execution_count": 8
        }
      ]
    },
    {
      "cell_type": "markdown",
      "metadata": {
        "id": "-Fe7rthmxbUG"
      },
      "source": [
        "Rank()"
      ]
    },
    {
      "cell_type": "code",
      "metadata": {
        "colab": {
          "base_uri": "https://localhost:8080/",
          "height": 215
        },
        "id": "yPipxA6oxh2J",
        "outputId": "17fe9fc2-3649-4a72-88f5-cdfe7dc02d5a"
      },
      "source": [
        "%%bigquery --project produkcja-instore\n",
        "WITH Employees AS\n",
        " (SELECT 'Isabella' as name, 2 as department, DATE(1997, 09, 28) as start_date\n",
        "  UNION ALL SELECT 'Anthony', 1, DATE(1995, 11, 29)\n",
        "  UNION ALL SELECT 'Daniel', 2, DATE(2004, 06, 24)\n",
        "  UNION ALL SELECT 'Andrew', 1, DATE(1999, 01, 23)\n",
        "  UNION ALL SELECT 'Jacob', 1, DATE(1990, 07, 11)\n",
        "  UNION ALL SELECT 'Jose', 2, DATE(2013, 03, 17))\n",
        "\n",
        "SELECT name, department, start_date,\n",
        "rank() over (partition by department order by start_date) rank\n",
        "FROM Employees"
      ],
      "execution_count": null,
      "outputs": [
        {
          "output_type": "execute_result",
          "data": {
            "application/vnd.google.colaboratory.module+javascript": "\n      import \"https://ssl.gstatic.com/colaboratory/data_table/a6224c040fa35dcf/data_table.js\";\n\n      window.createDataTable({\n        data: [[{\n            'v': 0,\n            'f': \"0\",\n        },\n\"Jacob\",\n{\n            'v': 1,\n            'f': \"1\",\n        },\n\"1990-07-11\",\n{\n            'v': 1,\n            'f': \"1\",\n        }],\n [{\n            'v': 1,\n            'f': \"1\",\n        },\n\"Anthony\",\n{\n            'v': 1,\n            'f': \"1\",\n        },\n\"1995-11-29\",\n{\n            'v': 2,\n            'f': \"2\",\n        }],\n [{\n            'v': 2,\n            'f': \"2\",\n        },\n\"Andrew\",\n{\n            'v': 1,\n            'f': \"1\",\n        },\n\"1999-01-23\",\n{\n            'v': 3,\n            'f': \"3\",\n        }],\n [{\n            'v': 3,\n            'f': \"3\",\n        },\n\"Isabella\",\n{\n            'v': 2,\n            'f': \"2\",\n        },\n\"1997-09-28\",\n{\n            'v': 1,\n            'f': \"1\",\n        }],\n [{\n            'v': 4,\n            'f': \"4\",\n        },\n\"Daniel\",\n{\n            'v': 2,\n            'f': \"2\",\n        },\n\"2004-06-24\",\n{\n            'v': 2,\n            'f': \"2\",\n        }],\n [{\n            'v': 5,\n            'f': \"5\",\n        },\n\"Jose\",\n{\n            'v': 2,\n            'f': \"2\",\n        },\n\"2013-03-17\",\n{\n            'v': 3,\n            'f': \"3\",\n        }]],\n        columns: [[\"number\", \"index\"], [\"string\", \"name\"], [\"number\", \"department\"], [\"string\", \"start_date\"], [\"number\", \"rank\"]],\n        columnOptions: [{\"width\": \"1px\", \"className\": \"index_column\"}],\n        rowsPerPage: 25,\n        helpUrl: \"https://colab.research.google.com/notebooks/data_table.ipynb\",\n        suppressOutputScrolling: true,\n        minimumWidth: undefined,\n      });\n    ",
            "text/html": [
              "<div>\n",
              "<style scoped>\n",
              "    .dataframe tbody tr th:only-of-type {\n",
              "        vertical-align: middle;\n",
              "    }\n",
              "\n",
              "    .dataframe tbody tr th {\n",
              "        vertical-align: top;\n",
              "    }\n",
              "\n",
              "    .dataframe thead th {\n",
              "        text-align: right;\n",
              "    }\n",
              "</style>\n",
              "<table border=\"1\" class=\"dataframe\">\n",
              "  <thead>\n",
              "    <tr style=\"text-align: right;\">\n",
              "      <th></th>\n",
              "      <th>name</th>\n",
              "      <th>department</th>\n",
              "      <th>start_date</th>\n",
              "      <th>rank</th>\n",
              "    </tr>\n",
              "  </thead>\n",
              "  <tbody>\n",
              "    <tr>\n",
              "      <th>0</th>\n",
              "      <td>Jacob</td>\n",
              "      <td>1</td>\n",
              "      <td>1990-07-11</td>\n",
              "      <td>1</td>\n",
              "    </tr>\n",
              "    <tr>\n",
              "      <th>1</th>\n",
              "      <td>Anthony</td>\n",
              "      <td>1</td>\n",
              "      <td>1995-11-29</td>\n",
              "      <td>2</td>\n",
              "    </tr>\n",
              "    <tr>\n",
              "      <th>2</th>\n",
              "      <td>Andrew</td>\n",
              "      <td>1</td>\n",
              "      <td>1999-01-23</td>\n",
              "      <td>3</td>\n",
              "    </tr>\n",
              "    <tr>\n",
              "      <th>3</th>\n",
              "      <td>Isabella</td>\n",
              "      <td>2</td>\n",
              "      <td>1997-09-28</td>\n",
              "      <td>1</td>\n",
              "    </tr>\n",
              "    <tr>\n",
              "      <th>4</th>\n",
              "      <td>Daniel</td>\n",
              "      <td>2</td>\n",
              "      <td>2004-06-24</td>\n",
              "      <td>2</td>\n",
              "    </tr>\n",
              "    <tr>\n",
              "      <th>5</th>\n",
              "      <td>Jose</td>\n",
              "      <td>2</td>\n",
              "      <td>2013-03-17</td>\n",
              "      <td>3</td>\n",
              "    </tr>\n",
              "  </tbody>\n",
              "</table>\n",
              "</div>"
            ],
            "text/plain": [
              "       name  department  start_date  rank\n",
              "0     Jacob           1  1990-07-11     1\n",
              "1   Anthony           1  1995-11-29     2\n",
              "2    Andrew           1  1999-01-23     3\n",
              "3  Isabella           2  1997-09-28     1\n",
              "4    Daniel           2  2004-06-24     2\n",
              "5      Jose           2  2013-03-17     3"
            ]
          },
          "metadata": {
            "tags": []
          },
          "execution_count": 9
        }
      ]
    }
  ]
}