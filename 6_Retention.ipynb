{
  "nbformat": 4,
  "nbformat_minor": 0,
  "metadata": {
    "colab": {
      "name": "6.Retention.ipynb",
      "provenance": [],
      "authorship_tag": "ABX9TyMS2saVxDgfRiYUKjWsDUFH"
    },
    "kernelspec": {
      "name": "python3",
      "display_name": "Python 3"
    },
    "language_info": {
      "name": "python"
    }
  },
  "cells": [
    {
      "cell_type": "code",
      "metadata": {
        "colab": {
          "base_uri": "https://localhost:8080/"
        },
        "id": "XB4pBaqswpE3",
        "outputId": "bfae39eb-a33f-47ca-fdb4-cd23f03a68bb"
      },
      "source": [
        "from google.colab import auth\n",
        "auth.authenticate_user()\n",
        "print('Authenticated')\n",
        "\n",
        "%load_ext google.colab.data_table"
      ],
      "execution_count": null,
      "outputs": [
        {
          "output_type": "stream",
          "name": "stdout",
          "text": [
            "Authenticated\n"
          ]
        }
      ]
    },
    {
      "cell_type": "markdown",
      "metadata": {
        "id": "NeDjzGLbw6Nf"
      },
      "source": [
        "Nowy użytkownik w GA4 ma ga_session_number parametr zdarzeń w zestawie BigQuery = 1. Po powrocie użytkownik ma ten sam parametr zwiększony o 1."
      ]
    },
    {
      "cell_type": "markdown",
      "metadata": {
        "id": "EVVQFO1nxIUq"
      },
      "source": [
        "Użytkownik jest zaangażowany gdy ma engagement_time_msec parametr zdarzeń większy niż 0 "
      ]
    },
    {
      "cell_type": "markdown",
      "metadata": {
        "id": "xI4_HClPxVOh"
      },
      "source": [
        "Retencja użytkownika oznacza prawdopodobieństwo, że użytkownik powróci do witryny po jej pierwszej wizycie. Retencja jest zwykle mierzona w odstępach dni lub tygodni między tymi wizytami."
      ]
    },
    {
      "cell_type": "markdown",
      "metadata": {
        "id": "LJltvXPsxlr0"
      },
      "source": [
        "Count New And Returning Users"
      ]
    },
    {
      "cell_type": "code",
      "metadata": {
        "colab": {
          "base_uri": "https://localhost:8080/",
          "height": 110
        },
        "id": "tfAksH50wuT8",
        "outputId": "b515f7a0-08a1-409f-e9e3-77e1c6dbd14c"
      },
      "source": [
        "%%bigquery --project\n",
        "\n",
        "with prep as (\n",
        "select\n",
        "    user_pseudo_id,\n",
        "    (select value.int_value from unnest(event_params) where key = 'ga_session_id') as session_id,\n",
        "    (select value.int_value from unnest(event_params) where key = 'ga_session_number') as session_number,\n",
        "    max((select value.int_value from unnest(event_params) where key = 'engagement_time_msec')) as engagement_time_msec\n",
        "from\n",
        "    `ga.events_*`\n",
        "where\n",
        "    _table_suffix between '20210601' and format_date('%Y%m%d',date_sub(current_date(), interval 1 day))\n",
        "group by\n",
        "    user_pseudo_id,\n",
        "    session_id,\n",
        "    session_number)\n",
        "\n",
        "select\n",
        "    count(distinct case when session_number = 1 and engagement_time_msec > 0 then user_pseudo_id else null end) as new_users,\n",
        "    count(distinct case when session_number > 1 and engagement_time_msec > 0 then user_pseudo_id else null end) as returning_users\n",
        "from \n",
        "    prep"
      ],
      "execution_count": null,
      "outputs": [
        {
          "output_type": "execute_result",
          "data": {
            "application/vnd.google.colaboratory.module+javascript": "\n      import \"https://ssl.gstatic.com/colaboratory/data_table/a6224c040fa35dcf/data_table.js\";\n\n      window.createDataTable({\n        data: [[{\n            'v': 0,\n            'f': \"0\",\n        },\n{\n            'v': 141067,\n            'f': \"141067\",\n        },\n{\n            'v': 56833,\n            'f': \"56833\",\n        }]],\n        columns: [[\"number\", \"index\"], [\"number\", \"new_users\"], [\"number\", \"returning_users\"]],\n        columnOptions: [{\"width\": \"1px\", \"className\": \"index_column\"}],\n        rowsPerPage: 25,\n        helpUrl: \"https://colab.research.google.com/notebooks/data_table.ipynb\",\n        suppressOutputScrolling: true,\n        minimumWidth: undefined,\n      });\n    ",
            "text/html": [
              "<div>\n",
              "<style scoped>\n",
              "    .dataframe tbody tr th:only-of-type {\n",
              "        vertical-align: middle;\n",
              "    }\n",
              "\n",
              "    .dataframe tbody tr th {\n",
              "        vertical-align: top;\n",
              "    }\n",
              "\n",
              "    .dataframe thead th {\n",
              "        text-align: right;\n",
              "    }\n",
              "</style>\n",
              "<table border=\"1\" class=\"dataframe\">\n",
              "  <thead>\n",
              "    <tr style=\"text-align: right;\">\n",
              "      <th></th>\n",
              "      <th>new_users</th>\n",
              "      <th>returning_users</th>\n",
              "    </tr>\n",
              "  </thead>\n",
              "  <tbody>\n",
              "    <tr>\n",
              "      <th>0</th>\n",
              "      <td>141067</td>\n",
              "      <td>56833</td>\n",
              "    </tr>\n",
              "  </tbody>\n",
              "</table>\n",
              "</div>"
            ],
            "text/plain": [
              "   new_users  returning_users\n",
              "0     141067            56833"
            ]
          },
          "metadata": {},
          "execution_count": 2
        }
      ]
    },
    {
      "cell_type": "markdown",
      "metadata": {
        "id": "tPfRg_2PyyAl"
      },
      "source": [
        "Calculate User Retention 1/2"
      ]
    },
    {
      "cell_type": "code",
      "metadata": {
        "colab": {
          "base_uri": "https://localhost:8080/",
          "height": 174
        },
        "id": "4W8D0Ff2yykX",
        "outputId": "7f0021a0-92cc-447e-8e96-9f61f81cb8d8"
      },
      "source": [
        "%%bigquery --project \n",
        "\n",
        "select\n",
        "    user_pseudo_id,\n",
        "    (select value.int_value from unnest(event_params) where key = 'ga_session_id') as session_id,\n",
        "    (select value.int_value from unnest(event_params) where key = 'ga_session_number') as session_number,\n",
        "    max((select value.int_value from unnest(event_params) where key = 'engagement_time_msec')) as engagement_time_msec,\n",
        "    parse_date('%Y%m%d',event_date) as session_date,\n",
        "    first_value(parse_date('%Y%m%d',event_date)) over (partition by user_pseudo_id order by event_date) as first_session_date\n",
        "from\n",
        "    `ga.events_*`\n",
        "where\n",
        "    _table_suffix between format_date('%Y%m%d',date_sub(current_date(), interval 43 day)) and format_date('%Y%m%d',date_sub(current_date(), interval 1 day))\n",
        "group by\n",
        "    user_pseudo_id,\n",
        "    session_id,\n",
        "    session_number,\n",
        "    event_date\n",
        "order by\n",
        "    user_pseudo_id,\n",
        "    session_id,\n",
        "    session_number\n",
        "\n",
        "LIMIT 4"
      ],
      "execution_count": null,
      "outputs": [
        {
          "output_type": "execute_result",
          "data": {
            "application/vnd.google.colaboratory.module+javascript": "\n      import \"https://ssl.gstatic.com/colaboratory/data_table/a6224c040fa35dcf/data_table.js\";\n\n      window.createDataTable({\n        data: [[{\n            'v': 0,\n            'f': \"0\",\n        },\n\"+059AC+LLVKWCU+QVhwCiHDmNhWdt1ETwvJTQS+NWt0=.1621895596\",\n{\n            'v': 1627615503,\n            'f': \"1627615503\",\n        },\n{\n            'v': 1,\n            'f': \"1\",\n        },\n{\n            'v': 18507.0,\n            'f': \"18507.0\",\n        },\n\"2021-07-30\",\n\"2021-07-30\"],\n [{\n            'v': 1,\n            'f': \"1\",\n        },\n\"+0hQgt0DVhMmxT4ba6MesedCYNbMY4QEpqvcndlQKkA=.1619080602\",\n{\n            'v': 1629912162,\n            'f': \"1629912162\",\n        },\n{\n            'v': 1,\n            'f': \"1\",\n        },\n{\n            'v': 6.0,\n            'f': \"6.0\",\n        },\n\"2021-08-25\",\n\"2021-08-25\"],\n [{\n            'v': 2,\n            'f': \"2\",\n        },\n\"+0hQgt0DVhMmxT4ba6MesedCYNbMY4QEpqvcndlQKkA=.1619080602\",\n{\n            'v': 1630482088,\n            'f': \"1630482088\",\n        },\n{\n            'v': 2,\n            'f': \"2\",\n        },\n{\n            'v': NaN,\n            'f': \"NaN\",\n        },\n\"2021-09-01\",\n\"2021-08-25\"],\n [{\n            'v': 3,\n            'f': \"3\",\n        },\n\"+1OyDZ8FfKesmc63OLA1qr8XBn+hfAE93NSMPxVq480=.1613647051\",\n{\n            'v': 1629456719,\n            'f': \"1629456719\",\n        },\n{\n            'v': 1,\n            'f': \"1\",\n        },\n{\n            'v': 2216.0,\n            'f': \"2216.0\",\n        },\n\"2021-08-20\",\n\"2021-08-20\"]],\n        columns: [[\"number\", \"index\"], [\"string\", \"user_pseudo_id\"], [\"number\", \"session_id\"], [\"number\", \"session_number\"], [\"number\", \"engagement_time_msec\"], [\"string\", \"session_date\"], [\"string\", \"first_session_date\"]],\n        columnOptions: [{\"width\": \"1px\", \"className\": \"index_column\"}],\n        rowsPerPage: 25,\n        helpUrl: \"https://colab.research.google.com/notebooks/data_table.ipynb\",\n        suppressOutputScrolling: true,\n        minimumWidth: undefined,\n      });\n    ",
            "text/html": [
              "<div>\n",
              "<style scoped>\n",
              "    .dataframe tbody tr th:only-of-type {\n",
              "        vertical-align: middle;\n",
              "    }\n",
              "\n",
              "    .dataframe tbody tr th {\n",
              "        vertical-align: top;\n",
              "    }\n",
              "\n",
              "    .dataframe thead th {\n",
              "        text-align: right;\n",
              "    }\n",
              "</style>\n",
              "<table border=\"1\" class=\"dataframe\">\n",
              "  <thead>\n",
              "    <tr style=\"text-align: right;\">\n",
              "      <th></th>\n",
              "      <th>user_pseudo_id</th>\n",
              "      <th>session_id</th>\n",
              "      <th>session_number</th>\n",
              "      <th>engagement_time_msec</th>\n",
              "      <th>session_date</th>\n",
              "      <th>first_session_date</th>\n",
              "    </tr>\n",
              "  </thead>\n",
              "  <tbody>\n",
              "    <tr>\n",
              "      <th>0</th>\n",
              "      <td>+059AC+LLVKWCU+QVhwCiHDmNhWdt1ETwvJTQS+NWt0=.1...</td>\n",
              "      <td>1627615503</td>\n",
              "      <td>1</td>\n",
              "      <td>18507.0</td>\n",
              "      <td>2021-07-30</td>\n",
              "      <td>2021-07-30</td>\n",
              "    </tr>\n",
              "    <tr>\n",
              "      <th>1</th>\n",
              "      <td>+0hQgt0DVhMmxT4ba6MesedCYNbMY4QEpqvcndlQKkA=.1...</td>\n",
              "      <td>1629912162</td>\n",
              "      <td>1</td>\n",
              "      <td>6.0</td>\n",
              "      <td>2021-08-25</td>\n",
              "      <td>2021-08-25</td>\n",
              "    </tr>\n",
              "    <tr>\n",
              "      <th>2</th>\n",
              "      <td>+0hQgt0DVhMmxT4ba6MesedCYNbMY4QEpqvcndlQKkA=.1...</td>\n",
              "      <td>1630482088</td>\n",
              "      <td>2</td>\n",
              "      <td>NaN</td>\n",
              "      <td>2021-09-01</td>\n",
              "      <td>2021-08-25</td>\n",
              "    </tr>\n",
              "    <tr>\n",
              "      <th>3</th>\n",
              "      <td>+1OyDZ8FfKesmc63OLA1qr8XBn+hfAE93NSMPxVq480=.1...</td>\n",
              "      <td>1629456719</td>\n",
              "      <td>1</td>\n",
              "      <td>2216.0</td>\n",
              "      <td>2021-08-20</td>\n",
              "      <td>2021-08-20</td>\n",
              "    </tr>\n",
              "  </tbody>\n",
              "</table>\n",
              "</div>"
            ],
            "text/plain": [
              "                                      user_pseudo_id  ...  first_session_date\n",
              "0  +059AC+LLVKWCU+QVhwCiHDmNhWdt1ETwvJTQS+NWt0=.1...  ...          2021-07-30\n",
              "1  +0hQgt0DVhMmxT4ba6MesedCYNbMY4QEpqvcndlQKkA=.1...  ...          2021-08-25\n",
              "2  +0hQgt0DVhMmxT4ba6MesedCYNbMY4QEpqvcndlQKkA=.1...  ...          2021-08-25\n",
              "3  +1OyDZ8FfKesmc63OLA1qr8XBn+hfAE93NSMPxVq480=.1...  ...          2021-08-20\n",
              "\n",
              "[4 rows x 6 columns]"
            ]
          },
          "metadata": {},
          "execution_count": 5
        }
      ]
    },
    {
      "cell_type": "markdown",
      "metadata": {
        "id": "QSW8sYOp0AO0"
      },
      "source": [
        "Calculate User Retention 2/2"
      ]
    },
    {
      "cell_type": "code",
      "metadata": {
        "colab": {
          "base_uri": "https://localhost:8080/",
          "height": 174
        },
        "id": "zNp6Trelzj2X",
        "outputId": "ec8e8571-5efa-4d99-acd2-8a828bee2d8a"
      },
      "source": [
        "%%bigquery --project\n",
        "\n",
        "with prep as (\n",
        "select\n",
        "    user_pseudo_id,\n",
        "    (select value.int_value from unnest(event_params) where key = 'ga_session_id') as session_id,\n",
        "    (select value.int_value from unnest(event_params) where key = 'ga_session_number') as session_number,\n",
        "    max((select value.int_value from unnest(event_params) where key = 'engagement_time_msec')) as engagement_time_msec,\n",
        "    parse_date('%Y%m%d',event_date) as session_date,\n",
        "    first_value(parse_date('%Y%m%d',event_date)) over (partition by user_pseudo_id order by event_date) as first_session_date\n",
        "from\n",
        "    `ga.events_*`\n",
        "where\n",
        "    _table_suffix between format_date('%Y%m%d',date_sub(current_date(), interval 43 day)) and format_date('%Y%m%d',date_sub(current_date(), interval 1 day))\n",
        "group by\n",
        "    user_pseudo_id,\n",
        "    session_id,\n",
        "    session_number,\n",
        "    event_date\n",
        "order by\n",
        "    user_pseudo_id,\n",
        "    session_id,\n",
        "    session_number)\n",
        "\n",
        "select \n",
        "    date_diff(session_date,first_session_date,day) as day,\n",
        "    count(distinct case when session_number = 1 and engagement_time_msec > 0 then user_pseudo_id else null end) as new_users,\n",
        "    count(distinct case when session_number > 1 and engagement_time_msec > 0 then user_pseudo_id else null end) as returning_users,\n",
        "    count(distinct case when session_number > 1 and engagement_time_msec > 0 then user_pseudo_id else null end) / max(count(distinct case when session_number = 1 and engagement_time_msec > 0 then user_pseudo_id else null end)) over () as retention_percentage\n",
        "from \n",
        "    prep\n",
        "group by \n",
        "    day\n",
        "order by \n",
        "    day\n",
        "LIMIT 4"
      ],
      "execution_count": null,
      "outputs": [
        {
          "output_type": "execute_result",
          "data": {
            "application/vnd.google.colaboratory.module+javascript": "\n      import \"https://ssl.gstatic.com/colaboratory/data_table/a6224c040fa35dcf/data_table.js\";\n\n      window.createDataTable({\n        data: [[{\n            'v': 0,\n            'f': \"0\",\n        },\n{\n            'v': 0,\n            'f': \"0\",\n        },\n{\n            'v': 61802,\n            'f': \"61802\",\n        },\n{\n            'v': 19289,\n            'f': \"19289\",\n        },\n{\n            'v': 0.3121096404647099,\n            'f': \"0.3121096404647099\",\n        }],\n [{\n            'v': 1,\n            'f': \"1\",\n        },\n{\n            'v': 1,\n            'f': \"1\",\n        },\n{\n            'v': 237,\n            'f': \"237\",\n        },\n{\n            'v': 5463,\n            'f': \"5463\",\n        },\n{\n            'v': 0.0883951975664218,\n            'f': \"0.0883951975664218\",\n        }],\n [{\n            'v': 2,\n            'f': \"2\",\n        },\n{\n            'v': 2,\n            'f': \"2\",\n        },\n{\n            'v': 9,\n            'f': \"9\",\n        },\n{\n            'v': 2638,\n            'f': \"2638\",\n        },\n{\n            'v': 0.04268470276042847,\n            'f': \"0.04268470276042847\",\n        }],\n [{\n            'v': 3,\n            'f': \"3\",\n        },\n{\n            'v': 3,\n            'f': \"3\",\n        },\n{\n            'v': 6,\n            'f': \"6\",\n        },\n{\n            'v': 2368,\n            'f': \"2368\",\n        },\n{\n            'v': 0.03831591210640432,\n            'f': \"0.03831591210640432\",\n        }]],\n        columns: [[\"number\", \"index\"], [\"number\", \"day\"], [\"number\", \"new_users\"], [\"number\", \"returning_users\"], [\"number\", \"retention_percentage\"]],\n        columnOptions: [{\"width\": \"1px\", \"className\": \"index_column\"}],\n        rowsPerPage: 25,\n        helpUrl: \"https://colab.research.google.com/notebooks/data_table.ipynb\",\n        suppressOutputScrolling: true,\n        minimumWidth: undefined,\n      });\n    ",
            "text/html": [
              "<div>\n",
              "<style scoped>\n",
              "    .dataframe tbody tr th:only-of-type {\n",
              "        vertical-align: middle;\n",
              "    }\n",
              "\n",
              "    .dataframe tbody tr th {\n",
              "        vertical-align: top;\n",
              "    }\n",
              "\n",
              "    .dataframe thead th {\n",
              "        text-align: right;\n",
              "    }\n",
              "</style>\n",
              "<table border=\"1\" class=\"dataframe\">\n",
              "  <thead>\n",
              "    <tr style=\"text-align: right;\">\n",
              "      <th></th>\n",
              "      <th>day</th>\n",
              "      <th>new_users</th>\n",
              "      <th>returning_users</th>\n",
              "      <th>retention_percentage</th>\n",
              "    </tr>\n",
              "  </thead>\n",
              "  <tbody>\n",
              "    <tr>\n",
              "      <th>0</th>\n",
              "      <td>0</td>\n",
              "      <td>61802</td>\n",
              "      <td>19289</td>\n",
              "      <td>0.312110</td>\n",
              "    </tr>\n",
              "    <tr>\n",
              "      <th>1</th>\n",
              "      <td>1</td>\n",
              "      <td>237</td>\n",
              "      <td>5463</td>\n",
              "      <td>0.088395</td>\n",
              "    </tr>\n",
              "    <tr>\n",
              "      <th>2</th>\n",
              "      <td>2</td>\n",
              "      <td>9</td>\n",
              "      <td>2638</td>\n",
              "      <td>0.042685</td>\n",
              "    </tr>\n",
              "    <tr>\n",
              "      <th>3</th>\n",
              "      <td>3</td>\n",
              "      <td>6</td>\n",
              "      <td>2368</td>\n",
              "      <td>0.038316</td>\n",
              "    </tr>\n",
              "  </tbody>\n",
              "</table>\n",
              "</div>"
            ],
            "text/plain": [
              "   day  new_users  returning_users  retention_percentage\n",
              "0    0      61802            19289              0.312110\n",
              "1    1        237             5463              0.088395\n",
              "2    2          9             2638              0.042685\n",
              "3    3          6             2368              0.038316"
            ]
          },
          "metadata": {},
          "execution_count": 6
        }
      ]
    },
    {
      "cell_type": "markdown",
      "metadata": {
        "id": "gOeGyBTy1Cid"
      },
      "source": [
        "Calculate User Retention By Cohort"
      ]
    },
    {
      "cell_type": "code",
      "metadata": {
        "colab": {
          "base_uri": "https://localhost:8080/",
          "height": 174
        },
        "id": "V3I9tYbx1HNP",
        "outputId": "1bce8333-4a89-401d-81e6-280f3a9bc160"
      },
      "source": [
        "%%bigquery --project \n",
        "\n",
        "with prep as (\n",
        "select\n",
        "    user_pseudo_id,\n",
        "    (select value.int_value from unnest(event_params) where key = 'ga_session_id') as session_id,\n",
        "    (select value.int_value from unnest(event_params) where key = 'ga_session_number') as session_number,\n",
        "    max((select value.int_value from unnest(event_params) where key = 'engagement_time_msec')) as engagement_time_msec,\n",
        "    parse_date('%Y%m%d',event_date) as session_date,\n",
        "    first_value(parse_date('%Y%m%d',event_date)) over (partition by user_pseudo_id order by event_date) as first_session_date\n",
        "from\n",
        "    `ga.events_*`\n",
        "where\n",
        "    _table_suffix between format_date('%Y%m%d',date_sub(current_date(), interval 100 day)) and format_date('%Y%m%d',date_sub(current_date(), interval 1 day))\n",
        "group by\n",
        "    user_pseudo_id,\n",
        "    session_id,\n",
        "    session_number,\n",
        "    event_date\n",
        "order by\n",
        "    user_pseudo_id,\n",
        "    session_id,\n",
        "    session_number)\n",
        "\n",
        "select\n",
        "    distinct concat(extract(isoyear from first_session_date),'-',format('%02d',extract(isoweek from first_session_date))) as year_week,\n",
        "    count(distinct case when date_diff(session_date,first_session_date,isoweek) = 0 and session_number >= 1 and engagement_time_msec > 0 then user_pseudo_id end) as week_0,\n",
        "    count(distinct case when date_diff(session_date,first_session_date,isoweek) = 1 and session_number > 1 and engagement_time_msec > 0 then user_pseudo_id end) as week_1,\n",
        "    count(distinct case when date_diff(session_date,first_session_date,isoweek) = 2 and session_number > 1 and engagement_time_msec > 0 then user_pseudo_id end) as week_2,\n",
        "    count(distinct case when date_diff(session_date,first_session_date,isoweek) = 3 and session_number > 1 and engagement_time_msec > 0 then user_pseudo_id end) as week_3,\n",
        "    count(distinct case when date_diff(session_date,first_session_date,isoweek) = 4 and session_number > 1 and engagement_time_msec > 0 then user_pseudo_id end) as week_4,\n",
        "    count(distinct case when date_diff(session_date,first_session_date,isoweek) = 5 and session_number > 1 and engagement_time_msec > 0 then user_pseudo_id end) as week_5\n",
        "from\n",
        "    prep\n",
        "group by \n",
        "    year_week \n",
        "order by\n",
        "   year_week\n",
        "LIMIT 4"
      ],
      "execution_count": null,
      "outputs": [
        {
          "output_type": "execute_result",
          "data": {
            "application/vnd.google.colaboratory.module+javascript": "\n      import \"https://ssl.gstatic.com/colaboratory/data_table/a6224c040fa35dcf/data_table.js\";\n\n      window.createDataTable({\n        data: [[{\n            'v': 0,\n            'f': \"0\",\n        },\n\"2021-21\",\n{\n            'v': 9178,\n            'f': \"9178\",\n        },\n{\n            'v': 2162,\n            'f': \"2162\",\n        },\n{\n            'v': 1525,\n            'f': \"1525\",\n        },\n{\n            'v': 1327,\n            'f': \"1327\",\n        },\n{\n            'v': 1200,\n            'f': \"1200\",\n        },\n{\n            'v': 1006,\n            'f': \"1006\",\n        }],\n [{\n            'v': 1,\n            'f': \"1\",\n        },\n\"2021-22\",\n{\n            'v': 15170,\n            'f': \"15170\",\n        },\n{\n            'v': 2319,\n            'f': \"2319\",\n        },\n{\n            'v': 1631,\n            'f': \"1631\",\n        },\n{\n            'v': 1303,\n            'f': \"1303\",\n        },\n{\n            'v': 1153,\n            'f': \"1153\",\n        },\n{\n            'v': 919,\n            'f': \"919\",\n        }],\n [{\n            'v': 2,\n            'f': \"2\",\n        },\n\"2021-23\",\n{\n            'v': 14150,\n            'f': \"14150\",\n        },\n{\n            'v': 1694,\n            'f': \"1694\",\n        },\n{\n            'v': 1077,\n            'f': \"1077\",\n        },\n{\n            'v': 881,\n            'f': \"881\",\n        },\n{\n            'v': 719,\n            'f': \"719\",\n        },\n{\n            'v': 610,\n            'f': \"610\",\n        }],\n [{\n            'v': 3,\n            'f': \"3\",\n        },\n\"2021-24\",\n{\n            'v': 12701,\n            'f': \"12701\",\n        },\n{\n            'v': 1394,\n            'f': \"1394\",\n        },\n{\n            'v': 854,\n            'f': \"854\",\n        },\n{\n            'v': 665,\n            'f': \"665\",\n        },\n{\n            'v': 596,\n            'f': \"596\",\n        },\n{\n            'v': 488,\n            'f': \"488\",\n        }]],\n        columns: [[\"number\", \"index\"], [\"string\", \"year_week\"], [\"number\", \"week_0\"], [\"number\", \"week_1\"], [\"number\", \"week_2\"], [\"number\", \"week_3\"], [\"number\", \"week_4\"], [\"number\", \"week_5\"]],\n        columnOptions: [{\"width\": \"1px\", \"className\": \"index_column\"}],\n        rowsPerPage: 25,\n        helpUrl: \"https://colab.research.google.com/notebooks/data_table.ipynb\",\n        suppressOutputScrolling: true,\n        minimumWidth: undefined,\n      });\n    ",
            "text/html": [
              "<div>\n",
              "<style scoped>\n",
              "    .dataframe tbody tr th:only-of-type {\n",
              "        vertical-align: middle;\n",
              "    }\n",
              "\n",
              "    .dataframe tbody tr th {\n",
              "        vertical-align: top;\n",
              "    }\n",
              "\n",
              "    .dataframe thead th {\n",
              "        text-align: right;\n",
              "    }\n",
              "</style>\n",
              "<table border=\"1\" class=\"dataframe\">\n",
              "  <thead>\n",
              "    <tr style=\"text-align: right;\">\n",
              "      <th></th>\n",
              "      <th>year_week</th>\n",
              "      <th>week_0</th>\n",
              "      <th>week_1</th>\n",
              "      <th>week_2</th>\n",
              "      <th>week_3</th>\n",
              "      <th>week_4</th>\n",
              "      <th>week_5</th>\n",
              "    </tr>\n",
              "  </thead>\n",
              "  <tbody>\n",
              "    <tr>\n",
              "      <th>0</th>\n",
              "      <td>2021-21</td>\n",
              "      <td>9178</td>\n",
              "      <td>2162</td>\n",
              "      <td>1525</td>\n",
              "      <td>1327</td>\n",
              "      <td>1200</td>\n",
              "      <td>1006</td>\n",
              "    </tr>\n",
              "    <tr>\n",
              "      <th>1</th>\n",
              "      <td>2021-22</td>\n",
              "      <td>15170</td>\n",
              "      <td>2319</td>\n",
              "      <td>1631</td>\n",
              "      <td>1303</td>\n",
              "      <td>1153</td>\n",
              "      <td>919</td>\n",
              "    </tr>\n",
              "    <tr>\n",
              "      <th>2</th>\n",
              "      <td>2021-23</td>\n",
              "      <td>14150</td>\n",
              "      <td>1694</td>\n",
              "      <td>1077</td>\n",
              "      <td>881</td>\n",
              "      <td>719</td>\n",
              "      <td>610</td>\n",
              "    </tr>\n",
              "    <tr>\n",
              "      <th>3</th>\n",
              "      <td>2021-24</td>\n",
              "      <td>12701</td>\n",
              "      <td>1394</td>\n",
              "      <td>854</td>\n",
              "      <td>665</td>\n",
              "      <td>596</td>\n",
              "      <td>488</td>\n",
              "    </tr>\n",
              "  </tbody>\n",
              "</table>\n",
              "</div>"
            ],
            "text/plain": [
              "  year_week  week_0  week_1  week_2  week_3  week_4  week_5\n",
              "0   2021-21    9178    2162    1525    1327    1200    1006\n",
              "1   2021-22   15170    2319    1631    1303    1153     919\n",
              "2   2021-23   14150    1694    1077     881     719     610\n",
              "3   2021-24   12701    1394     854     665     596     488"
            ]
          },
          "metadata": {},
          "execution_count": 8
        }
      ]
    }
  ]
}