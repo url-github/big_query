{
  "nbformat": 4,
  "nbformat_minor": 0,
  "metadata": {
    "colab": {
      "name": "5.Events.ipynb",
      "provenance": [],
      "authorship_tag": "ABX9TyNaq9Ftp3d0Mrr9YGN/BQnk"
    },
    "kernelspec": {
      "name": "python3",
      "display_name": "Python 3"
    },
    "language_info": {
      "name": "python"
    }
  },
  "cells": [
    {
      "cell_type": "code",
      "metadata": {
        "colab": {
          "base_uri": "https://localhost:8080/"
        },
        "id": "g9GgjtNIr61_",
        "outputId": "576ba3a8-bd30-4563-dfb1-fe5d4be11357"
      },
      "source": [
        "from google.colab import auth\n",
        "auth.authenticate_user()\n",
        "print('Authenticated')\n",
        "\n",
        "%load_ext google.colab.data_table"
      ],
      "execution_count": null,
      "outputs": [
        {
          "output_type": "stream",
          "name": "stdout",
          "text": [
            "Authenticated\n"
          ]
        }
      ]
    },
    {
      "cell_type": "markdown",
      "metadata": {
        "id": "JG35-mHutxOM"
      },
      "source": [
        "Ulepszony pomiar - ustawienie w GA4 automatycznie zbiera pewne wydarzenia na stronie internetowej, a te są również zapisywane do eksportu BigQuery.\n",
        "\n",
        "Zdarzenia te mogą mieć własne, unikalne metadane, dlatego warto przeprowadzić analizę eksploracyjną przed uruchomieniem zapytań.\n",
        "\n",
        "Użyj PIVOT, aby przekonwertować wiersze na kolumny. Jest to przydatne, jeśli chcesz tworzyć czytelne, zagregowane raporty, w których dane są układane w kolumny, a nie w wiersze.\n"
      ]
    },
    {
      "cell_type": "markdown",
      "metadata": {
        "id": "hsGaLe_2uWOr"
      },
      "source": [
        "Count Scroll Interactions"
      ]
    },
    {
      "cell_type": "code",
      "metadata": {
        "id": "xDBAFYlesTgf"
      },
      "source": [
        "%%bigquery --project \n",
        "\n",
        "-- METHOD 1: Query all scroll events\n",
        "select\n",
        "    (select value.string_value from unnest(event_params) where event_name = 'scroll' and key = 'page_location') as scroll_page,\n",
        "    countif(event_name = 'scroll') as scrolls\n",
        "from \n",
        "    `ga.events_20210601`\n",
        "group by \n",
        "    scroll_page\n",
        "order by \n",
        "    scrolls desc"
      ],
      "execution_count": null,
      "outputs": []
    },
    {
      "cell_type": "code",
      "metadata": {
        "id": "yKEylFh8uEW5"
      },
      "source": [
        "%%bigquery --project \n",
        "\n",
        "-- METHOD 2: Query only scrolls that reach a certain threshold\n",
        "select\n",
        "    case \n",
        "        when (select value.int_value from unnest(event_params) where event_name = 'scroll' and key = 'percent_scrolled') = 90\n",
        "        then (select value.string_value from unnest(event_params) where event_name = 'scroll' and key = 'page_location') else null end as scroll_page_90_percent,\n",
        "    countif(event_name = 'scroll') as scrolls\n",
        "from \n",
        "    `ga.events_20210601`\n",
        "group by \n",
        "    scroll_page_90_percent\n",
        "order by \n",
        "    scrolls desc"
      ],
      "execution_count": null,
      "outputs": []
    },
    {
      "cell_type": "markdown",
      "metadata": {
        "id": "bv3H9_H_ubTG"
      },
      "source": [
        "Count Outbound Clicks"
      ]
    },
    {
      "cell_type": "code",
      "metadata": {
        "id": "_s4Z-ggSucUY"
      },
      "source": [
        "%%bigquery --project \n",
        "\n",
        "select\n",
        "    (select value.string_value from unnest(event_params) where event_name = 'click' and key = 'page_location') as page,\n",
        "    (select value.string_value from unnest(event_params) where event_name = 'click' and key = 'link_domain') as link_domain,\n",
        "    (select value.string_value from unnest(event_params) where event_name = 'click' and key = 'link_url') as link_url,\n",
        "    countif(event_name = 'click' and (select value.string_value from unnest(event_params) where event_name = 'click' and key = 'outbound') = 'true') as clicks\n",
        "from \n",
        "    `ga.events_20210601`\n",
        "group by \n",
        "    page,\n",
        "    link_domain,\n",
        "    link_url\n",
        "order by \n",
        "    clicks desc"
      ],
      "execution_count": null,
      "outputs": []
    },
    {
      "cell_type": "markdown",
      "metadata": {
        "id": "ftITqJuuu52K"
      },
      "source": [
        "Track Site Search"
      ]
    },
    {
      "cell_type": "code",
      "metadata": {
        "id": "O5NbR2Qcu6ex"
      },
      "source": [
        "%%bigquery --project \n",
        "\n",
        "select\n",
        "    (select value.string_value from unnest(event_params) where event_name = 'view_search_results' and key = 'search_term') as search_term,\n",
        "    countif(event_name = 'view_search_results') as searches\n",
        "from \n",
        "    `ga.events_20210601`\n",
        "group by \n",
        "    search_term\n",
        "order by \n",
        "    searches desc"
      ],
      "execution_count": null,
      "outputs": []
    },
    {
      "cell_type": "markdown",
      "metadata": {
        "id": "VRQ2_AD8vfs1"
      },
      "source": [
        "Explore Video Engagement"
      ]
    },
    {
      "cell_type": "code",
      "metadata": {
        "id": "rf4c3USivhHu"
      },
      "source": [
        "%%bigquery --project \n",
        "\n",
        "select \n",
        "    (select value.string_value from unnest(event_params) where event_name like 'video%' and key = 'video_provider') as video_provider,\n",
        "    (select value.string_value from unnest(event_params) where event_name like 'video%' and key = 'video_title') as video_title,\n",
        "    (select value.string_value from unnest(event_params) where event_name like 'video%' and key = 'video_url') as video_url,\n",
        "    (select value.int_value from unnest(event_params) where event_name like 'video%' and key = 'video_duration') as video_duration,\n",
        "    countif(event_name = 'video_start') as video_start,\n",
        "    countif(event_name = 'video_progress' and (select value.int_value from unnest(event_params) where event_name = 'video_progress' and key = 'video_percent') = 50) as video_progress_50_percent,\n",
        "    countif(event_name = 'video_complete') as video_complete\n",
        "from \n",
        "    `ga.events_20210601`\n",
        "group by \n",
        "    video_provider,\n",
        "    video_title,\n",
        "    video_url,\n",
        "    video_duration\n",
        "order by \n",
        "    video_start desc"
      ],
      "execution_count": null,
      "outputs": []
    },
    {
      "cell_type": "markdown",
      "metadata": {
        "id": "YEXoSvwpv957"
      },
      "source": [
        "Count File Downloads"
      ]
    },
    {
      "cell_type": "code",
      "metadata": {
        "id": "GHLZxtiYv-ae"
      },
      "source": [
        "%%bigquery --project\n",
        "\n",
        "select\n",
        "    (select value.string_value from unnest(event_params) where event_name = 'file_download' and key = 'file_extension') as file_type,\n",
        "    (select value.string_value from unnest(event_params) where event_name = 'file_download' and key = 'file_name') as file_name,\n",
        "    (select value.string_value from unnest(event_params) where event_name = 'file_download' and key = 'link_text') as link_text,\n",
        "    (select value.string_value from unnest(event_params) where event_name = 'file_download' and key = 'link_url') as link_url,\n",
        "    countif(event_name = 'file_download') as downloads\n",
        "from\n",
        "    `ga.events_202106*`\n",
        "group by\n",
        "    file_type,\n",
        "    file_name,\n",
        "    link_text,\n",
        "    link_url\n",
        "order by\n",
        "    downloads desc"
      ],
      "execution_count": null,
      "outputs": []
    },
    {
      "cell_type": "markdown",
      "metadata": {
        "id": "lgELVEmdwR0r"
      },
      "source": [
        "Count Events Per User With A Pivot Table"
      ]
    },
    {
      "cell_type": "code",
      "metadata": {
        "id": "W-zUTz-1wTaN"
      },
      "source": [
        "%%bigquery --project\n",
        "\n",
        "select\n",
        "    *\n",
        "from (\n",
        "    select\n",
        "        user_pseudo_id,\n",
        "        event_name\n",
        "    from\n",
        "        `ga.events_202106*`)\n",
        "pivot (\n",
        "    count(*)\n",
        "    for\n",
        "        event_name\n",
        "    in (\n",
        "        'session_start', \n",
        "        'first_visit',\n",
        "        'page_view',\n",
        "        'scroll',\n",
        "        'click',\n",
        "        'view_search_results',\n",
        "        'file_download', \n",
        "        'video_start'))"
      ],
      "execution_count": null,
      "outputs": []
    }
  ]
}