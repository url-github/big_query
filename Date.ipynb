{
  "nbformat": 4,
  "nbformat_minor": 0,
  "metadata": {
    "colab": {
      "name": "Date.ipynb",
      "provenance": [],
      "authorship_tag": "ABX9TyPxmWW2E+xyG66Ubo4+YuPx"
    },
    "kernelspec": {
      "name": "python3",
      "display_name": "Python 3"
    },
    "language_info": {
      "name": "python"
    }
  },
  "cells": [
    {
      "cell_type": "code",
      "metadata": {
        "colab": {
          "base_uri": "https://localhost:8080/"
        },
        "id": "33XmKgs_0kR7",
        "outputId": "29b179c5-a6f1-4825-c126-c4068ea41347"
      },
      "source": [
        "from google.colab import auth\n",
        "auth.authenticate_user()\n",
        "print('Authenticated')\n",
        "\n",
        "%load_ext google.colab.data_table"
      ],
      "execution_count": null,
      "outputs": [
        {
          "output_type": "stream",
          "name": "stdout",
          "text": [
            "Authenticated\n"
          ]
        }
      ]
    },
    {
      "cell_type": "markdown",
      "metadata": {
        "id": "sLRxEvg-oE-1"
      },
      "source": [
        "Aby przekonwertować ciąg na  obiekt daty , możesz użyć PARSE_DATE().  Jako pierwszy argument przyjmuje  ciąg formatujący , a jako drugi ciąg przypominający datę.\n",
        "\n",
        "https://cloud.google.com/bigquery/docs/reference/standard-sql/date_functions#supported_format_elements_for_date\n",
        "\n",
        "Aby zrobić coś przeciwnego, tj. przekonwertować datę  na ciąg znaków, możesz użyć FORMAT_DATE(). Jako pierwszy argument przyjmuje ciąg formatu, a jako drugi argument wartość daty.\n",
        "\n",
        "Aby uzyskać bieżącą datę (dzisiaj) jako wartość daty, użyj CURRENT_DATE().\n",
        "\n",
        "Aby wyodrębnić część daty (np. rok, miesiąc, dzień) z obiektu daty, użyj EXTRACT()."
      ]
    },
    {
      "cell_type": "markdown",
      "metadata": {
        "id": "U_QkGIa6Qh23"
      },
      "source": [
        "AppsFlyer"
      ]
    },
    {
      "cell_type": "code",
      "metadata": {
        "colab": {
          "base_uri": "https://localhost:8080/",
          "height": 254
        },
        "id": "rxUgxJae0vZ4",
        "outputId": "6cbeb93c-aef1-4473-bc6c-a1ba2b592a7e"
      },
      "source": [
        "%%bigquery --project produkcja-mobile\n",
        "\n",
        "SELECT \n",
        "event_time, -- 2021-07-03 23:44:22.448 / UTC\n",
        "cast(format_date('%Y%m%d', extract(date from cast(event_time as DATETIME))) as string) as event_time, -- 20210703 / UTC\n",
        "\n",
        "event_time_selected_timezone, -- 2021-07-04 01:44:22.448+0200\n",
        "CAST(DATE(PARSE_TIMESTAMP('%F %H:%M:%E3S%z', event_time_selected_timezone), \"Europe/Warsaw\") as DATE) event_time_selected_timezone, -- 2021-07-04 / DATE\n",
        "CAST(DATE(PARSE_TIMESTAMP('%F %H:%M:%E3S%z', event_time_selected_timezone), \"Europe/Warsaw\") as STRING) event_time_selected_timezone, -- 2021-07-04 / STRING\n",
        "CAST(FORMAT_TIMESTAMP(\"%Y-%m-%dT%X\", DATETIME(TIMESTAMP_TRUNC(PARSE_TIMESTAMP('%F %H:%M:%E3S%z', event_time_selected_timezone), second), \"Europe/Warsaw\")) as DATETIME) event_time_selected_timezone, -- 2021-07-04T01:44:22\n",
        "CAST(FORMAT_TIMESTAMP(\"%Y-%m-%dT%X\", DATETIME(TIMESTAMP_TRUNC(PARSE_TIMESTAMP('%F %H:%M:%E3S%z', event_time_selected_timezone), second), \"Europe/Warsaw\")) as STRING) event_time_selected_timezone, -- 2021-07-04T01:44:22\n",
        "\n",
        "install_time_selected_timezone,\n",
        "CAST(DATE(PARSE_TIMESTAMP('%F %H:%M:%E3S%z', install_time_selected_timezone), \"Europe/Warsaw\") as DATE) install_time_selected_timezone, -- 2021-07-04 / DATE\n",
        "CAST(DATE(PARSE_TIMESTAMP('%F %H:%M:%E3S%z', install_time_selected_timezone), \"Europe/Warsaw\") as STRING) install_time_selected_timezone, -- 2021-07-04 / STRING\n",
        "CAST(FORMAT_TIMESTAMP(\"%Y-%m-%dT%X\", DATETIME(TIMESTAMP_TRUNC(PARSE_TIMESTAMP('%F %H:%M:%E3S%z', install_time_selected_timezone), second), \"Europe/Warsaw\")) as DATETIME) install_time_selected_timezone, -- 2021-07-04T01:44:22\n",
        "CAST(FORMAT_TIMESTAMP(\"%Y-%m-%dT%X\", DATETIME(TIMESTAMP_TRUNC(PARSE_TIMESTAMP('%F %H:%M:%E3S%z', install_time_selected_timezone), second), \"Europe/Warsaw\")) as STRING) install_time_selected_timezone, -- 2021-07-04T01:44:22\n",
        "\n",
        "\n",
        "FROM `eobuwie-181013.01_AppsFlyer_EOB.mobile_devices_events` \n",
        "where partition_time = date_add(CURRENT_DATE(), interval -1 DAY)\n",
        "LIMIT 4\n"
      ],
      "execution_count": null,
      "outputs": [
        {
          "output_type": "execute_result",
          "data": {
            "application/vnd.google.colaboratory.module+javascript": "\n      import \"https://ssl.gstatic.com/colaboratory/data_table/a6224c040fa35dcf/data_table.js\";\n\n      window.createDataTable({\n        data: [[{\n            'v': 0,\n            'f': \"0\",\n        },\n\"2021-09-17 23:27:13.682\",\n\"20210917\",\n\"2021-09-18 01:27:13.682+0200\",\n\"2021-09-18\",\n\"2021-09-18\",\n\"2021-09-18 01:27:13\",\n\"2021-09-18T01:27:13\",\n\"2021-09-18 01:11:37.000+0200\",\n\"2021-09-18\",\n\"2021-09-18\",\n\"2021-09-18 01:11:37\",\n\"2021-09-18T01:11:37\"],\n [{\n            'v': 1,\n            'f': \"1\",\n        },\n\"2021-09-17 23:28:44.351\",\n\"20210917\",\n\"2021-09-18 01:28:44.351+0200\",\n\"2021-09-18\",\n\"2021-09-18\",\n\"2021-09-18 01:28:44\",\n\"2021-09-18T01:28:44\",\n\"2021-07-21 17:52:14.384+0200\",\n\"2021-07-21\",\n\"2021-07-21\",\n\"2021-07-21 17:52:14\",\n\"2021-07-21T17:52:14\"],\n [{\n            'v': 2,\n            'f': \"2\",\n        },\n\"2021-09-17 23:29:46.023\",\n\"20210917\",\n\"2021-09-18 01:29:46.023+0200\",\n\"2021-09-18\",\n\"2021-09-18\",\n\"2021-09-18 01:29:46\",\n\"2021-09-18T01:29:46\",\n\"2021-05-31 19:52:18.305+0200\",\n\"2021-05-31\",\n\"2021-05-31\",\n\"2021-05-31 19:52:18\",\n\"2021-05-31T19:52:18\"],\n [{\n            'v': 3,\n            'f': \"3\",\n        },\n\"2021-09-17 23:30:08.001\",\n\"20210917\",\n\"2021-09-18 01:30:08.001+0200\",\n\"2021-09-18\",\n\"2021-09-18\",\n\"2021-09-18 01:30:08\",\n\"2021-09-18T01:30:08\",\n\"2021-05-18 21:08:41.973+0200\",\n\"2021-05-18\",\n\"2021-05-18\",\n\"2021-05-18 21:08:41\",\n\"2021-05-18T21:08:41\"]],\n        columns: [[\"number\", \"index\"], [\"string\", \"event_time\"], [\"string\", \"event_time_1\"], [\"string\", \"event_time_selected_timezone\"], [\"string\", \"event_time_selected_timezone_1\"], [\"string\", \"event_time_selected_timezone_2\"], [\"string\", \"event_time_selected_timezone_3\"], [\"string\", \"event_time_selected_timezone_4\"], [\"string\", \"install_time_selected_timezone\"], [\"string\", \"install_time_selected_timezone_1\"], [\"string\", \"install_time_selected_timezone_2\"], [\"string\", \"install_time_selected_timezone_3\"], [\"string\", \"install_time_selected_timezone_4\"]],\n        columnOptions: [{\"width\": \"1px\", \"className\": \"index_column\"}],\n        rowsPerPage: 25,\n        helpUrl: \"https://colab.research.google.com/notebooks/data_table.ipynb\",\n        suppressOutputScrolling: true,\n        minimumWidth: undefined,\n      });\n    ",
            "text/html": [
              "<div>\n",
              "<style scoped>\n",
              "    .dataframe tbody tr th:only-of-type {\n",
              "        vertical-align: middle;\n",
              "    }\n",
              "\n",
              "    .dataframe tbody tr th {\n",
              "        vertical-align: top;\n",
              "    }\n",
              "\n",
              "    .dataframe thead th {\n",
              "        text-align: right;\n",
              "    }\n",
              "</style>\n",
              "<table border=\"1\" class=\"dataframe\">\n",
              "  <thead>\n",
              "    <tr style=\"text-align: right;\">\n",
              "      <th></th>\n",
              "      <th>event_time</th>\n",
              "      <th>event_time_1</th>\n",
              "      <th>event_time_selected_timezone</th>\n",
              "      <th>event_time_selected_timezone_1</th>\n",
              "      <th>event_time_selected_timezone_2</th>\n",
              "      <th>event_time_selected_timezone_3</th>\n",
              "      <th>event_time_selected_timezone_4</th>\n",
              "      <th>install_time_selected_timezone</th>\n",
              "      <th>install_time_selected_timezone_1</th>\n",
              "      <th>install_time_selected_timezone_2</th>\n",
              "      <th>install_time_selected_timezone_3</th>\n",
              "      <th>install_time_selected_timezone_4</th>\n",
              "    </tr>\n",
              "  </thead>\n",
              "  <tbody>\n",
              "    <tr>\n",
              "      <th>0</th>\n",
              "      <td>2021-09-17 23:27:13.682</td>\n",
              "      <td>20210917</td>\n",
              "      <td>2021-09-18 01:27:13.682+0200</td>\n",
              "      <td>2021-09-18</td>\n",
              "      <td>2021-09-18</td>\n",
              "      <td>2021-09-18 01:27:13</td>\n",
              "      <td>2021-09-18T01:27:13</td>\n",
              "      <td>2021-09-18 01:11:37.000+0200</td>\n",
              "      <td>2021-09-18</td>\n",
              "      <td>2021-09-18</td>\n",
              "      <td>2021-09-18 01:11:37</td>\n",
              "      <td>2021-09-18T01:11:37</td>\n",
              "    </tr>\n",
              "    <tr>\n",
              "      <th>1</th>\n",
              "      <td>2021-09-17 23:28:44.351</td>\n",
              "      <td>20210917</td>\n",
              "      <td>2021-09-18 01:28:44.351+0200</td>\n",
              "      <td>2021-09-18</td>\n",
              "      <td>2021-09-18</td>\n",
              "      <td>2021-09-18 01:28:44</td>\n",
              "      <td>2021-09-18T01:28:44</td>\n",
              "      <td>2021-07-21 17:52:14.384+0200</td>\n",
              "      <td>2021-07-21</td>\n",
              "      <td>2021-07-21</td>\n",
              "      <td>2021-07-21 17:52:14</td>\n",
              "      <td>2021-07-21T17:52:14</td>\n",
              "    </tr>\n",
              "    <tr>\n",
              "      <th>2</th>\n",
              "      <td>2021-09-17 23:29:46.023</td>\n",
              "      <td>20210917</td>\n",
              "      <td>2021-09-18 01:29:46.023+0200</td>\n",
              "      <td>2021-09-18</td>\n",
              "      <td>2021-09-18</td>\n",
              "      <td>2021-09-18 01:29:46</td>\n",
              "      <td>2021-09-18T01:29:46</td>\n",
              "      <td>2021-05-31 19:52:18.305+0200</td>\n",
              "      <td>2021-05-31</td>\n",
              "      <td>2021-05-31</td>\n",
              "      <td>2021-05-31 19:52:18</td>\n",
              "      <td>2021-05-31T19:52:18</td>\n",
              "    </tr>\n",
              "    <tr>\n",
              "      <th>3</th>\n",
              "      <td>2021-09-17 23:30:08.001</td>\n",
              "      <td>20210917</td>\n",
              "      <td>2021-09-18 01:30:08.001+0200</td>\n",
              "      <td>2021-09-18</td>\n",
              "      <td>2021-09-18</td>\n",
              "      <td>2021-09-18 01:30:08</td>\n",
              "      <td>2021-09-18T01:30:08</td>\n",
              "      <td>2021-05-18 21:08:41.973+0200</td>\n",
              "      <td>2021-05-18</td>\n",
              "      <td>2021-05-18</td>\n",
              "      <td>2021-05-18 21:08:41</td>\n",
              "      <td>2021-05-18T21:08:41</td>\n",
              "    </tr>\n",
              "  </tbody>\n",
              "</table>\n",
              "</div>"
            ],
            "text/plain": [
              "                event_time  ... install_time_selected_timezone_4\n",
              "0  2021-09-17 23:27:13.682  ...              2021-09-18T01:11:37\n",
              "1  2021-09-17 23:28:44.351  ...              2021-07-21T17:52:14\n",
              "2  2021-09-17 23:29:46.023  ...              2021-05-31T19:52:18\n",
              "3  2021-09-17 23:30:08.001  ...              2021-05-18T21:08:41\n",
              "\n",
              "[4 rows x 12 columns]"
            ]
          },
          "metadata": {},
          "execution_count": 8
        }
      ]
    },
    {
      "cell_type": "markdown",
      "metadata": {
        "id": "8_93dRDNQoeH"
      },
      "source": [
        "Firebase"
      ]
    },
    {
      "cell_type": "code",
      "metadata": {
        "colab": {
          "base_uri": "https://localhost:8080/",
          "height": 211
        },
        "id": "AOn9rfXcXgKT",
        "outputId": "c8e122ed-f12b-4b11-f0ca-669015e2af2a"
      },
      "source": [
        "%%bigquery --project produkcja-mobile\n",
        "\n",
        "select\n",
        "    event_date as date, # 20210601\n",
        "    format_date('%Y',parse_date(\"%Y%m%d\",event_date)) as year, # 2021\n",
        "    format_date('%G',parse_date(\"%Y%m%d\",event_date)) as iso_year, #2021\n",
        "    format_date('%Y%m',parse_date(\"%Y%m%d\",event_date)) as month_of_year, # 202106\n",
        "    format_date('%m',parse_date(\"%Y%m%d\",event_date)) as month_of_the_year, #06\n",
        "    format_date('%Y%U',parse_date(\"%Y%m%d\",event_date)) as week_of_year, #202122\n",
        "    format_date('%U',parse_date(\"%Y%m%d\",event_date)) as week_of_the_year, #22\n",
        "    format_date('%W',parse_date(\"%Y%m%d\",event_date)) as iso_week_of_the_year, #22\n",
        "    format_date('%G%W',parse_date(\"%Y%m%d\",event_date)) as iso_week_of_iso_year, #202122\n",
        "    format_date('%d',parse_date(\"%Y%m%d\",event_date)) as day_of_the_month, #01\n",
        "    format_date('%w',parse_date(\"%Y%m%d\",event_date)) as day_of_week, #2\n",
        "    format_date('%A',parse_date(\"%Y%m%d\",event_date)) as day_of_week_name, #Tuesday\n",
        "    concat(event_date,cast(format(\"%02d\",extract(hour from timestamp_micros(event_timestamp))) as string)) as hour_of_day, #2021060105\n",
        "    format(\"%02d\",extract(hour from timestamp_micros(event_timestamp))) as hour, #05\n",
        "    format(\"%02d\",extract(minute from timestamp_micros(event_timestamp))) as minute, #35\n",
        "    concat(concat(event_date,cast(format(\"%02d\",extract(hour from timestamp_micros(event_timestamp))) as string)),format(\"%02d\",extract(minute from timestamp_micros(event_timestamp)))) as date_hour_and_minute # 202106010535\n",
        "from\n",
        "    `simoahava-com.analytics_206575074.events_*`\n",
        "where\n",
        "    _table_suffix between '20210627' and format_date('%Y%m%d',date_sub(current_date(), interval 1 day))\n",
        "LIMIT 5"
      ],
      "execution_count": null,
      "outputs": [
        {
          "output_type": "execute_result",
          "data": {
            "application/vnd.google.colaboratory.module+javascript": "\n      import \"https://ssl.gstatic.com/colaboratory/data_table/a6224c040fa35dcf/data_table.js\";\n\n      window.createDataTable({\n        data: [[{\n            'v': 0,\n            'f': \"0\",\n        },\n\"20210903\",\n\"2021\",\n\"2021\",\n\"202109\",\n\"09\",\n\"202135\",\n\"35\",\n\"35\",\n\"202135\",\n\"03\",\n\"5\",\n\"Friday\",\n\"2021090306\",\n\"06\",\n\"41\",\n\"202109030641\"],\n [{\n            'v': 1,\n            'f': \"1\",\n        },\n\"20210903\",\n\"2021\",\n\"2021\",\n\"202109\",\n\"09\",\n\"202135\",\n\"35\",\n\"35\",\n\"202135\",\n\"03\",\n\"5\",\n\"Friday\",\n\"2021090306\",\n\"06\",\n\"41\",\n\"202109030641\"],\n [{\n            'v': 2,\n            'f': \"2\",\n        },\n\"20210903\",\n\"2021\",\n\"2021\",\n\"202109\",\n\"09\",\n\"202135\",\n\"35\",\n\"35\",\n\"202135\",\n\"03\",\n\"5\",\n\"Friday\",\n\"2021090300\",\n\"00\",\n\"35\",\n\"202109030035\"],\n [{\n            'v': 3,\n            'f': \"3\",\n        },\n\"20210903\",\n\"2021\",\n\"2021\",\n\"202109\",\n\"09\",\n\"202135\",\n\"35\",\n\"35\",\n\"202135\",\n\"03\",\n\"5\",\n\"Friday\",\n\"2021090300\",\n\"00\",\n\"35\",\n\"202109030035\"],\n [{\n            'v': 4,\n            'f': \"4\",\n        },\n\"20210903\",\n\"2021\",\n\"2021\",\n\"202109\",\n\"09\",\n\"202135\",\n\"35\",\n\"35\",\n\"202135\",\n\"03\",\n\"5\",\n\"Friday\",\n\"2021090300\",\n\"00\",\n\"35\",\n\"202109030035\"]],\n        columns: [[\"number\", \"index\"], [\"string\", \"date\"], [\"string\", \"year\"], [\"string\", \"iso_year\"], [\"string\", \"month_of_year\"], [\"string\", \"month_of_the_year\"], [\"string\", \"week_of_year\"], [\"string\", \"week_of_the_year\"], [\"string\", \"iso_week_of_the_year\"], [\"string\", \"iso_week_of_iso_year\"], [\"string\", \"day_of_the_month\"], [\"string\", \"day_of_week\"], [\"string\", \"day_of_week_name\"], [\"string\", \"hour_of_day\"], [\"string\", \"hour\"], [\"string\", \"minute\"], [\"string\", \"date_hour_and_minute\"]],\n        columnOptions: [{\"width\": \"1px\", \"className\": \"index_column\"}],\n        rowsPerPage: 25,\n        helpUrl: \"https://colab.research.google.com/notebooks/data_table.ipynb\",\n        suppressOutputScrolling: true,\n        minimumWidth: undefined,\n      });\n    ",
            "text/html": [
              "<div>\n",
              "<style scoped>\n",
              "    .dataframe tbody tr th:only-of-type {\n",
              "        vertical-align: middle;\n",
              "    }\n",
              "\n",
              "    .dataframe tbody tr th {\n",
              "        vertical-align: top;\n",
              "    }\n",
              "\n",
              "    .dataframe thead th {\n",
              "        text-align: right;\n",
              "    }\n",
              "</style>\n",
              "<table border=\"1\" class=\"dataframe\">\n",
              "  <thead>\n",
              "    <tr style=\"text-align: right;\">\n",
              "      <th></th>\n",
              "      <th>date</th>\n",
              "      <th>year</th>\n",
              "      <th>iso_year</th>\n",
              "      <th>month_of_year</th>\n",
              "      <th>month_of_the_year</th>\n",
              "      <th>week_of_year</th>\n",
              "      <th>week_of_the_year</th>\n",
              "      <th>iso_week_of_the_year</th>\n",
              "      <th>iso_week_of_iso_year</th>\n",
              "      <th>day_of_the_month</th>\n",
              "      <th>day_of_week</th>\n",
              "      <th>day_of_week_name</th>\n",
              "      <th>hour_of_day</th>\n",
              "      <th>hour</th>\n",
              "      <th>minute</th>\n",
              "      <th>date_hour_and_minute</th>\n",
              "    </tr>\n",
              "  </thead>\n",
              "  <tbody>\n",
              "    <tr>\n",
              "      <th>0</th>\n",
              "      <td>20210903</td>\n",
              "      <td>2021</td>\n",
              "      <td>2021</td>\n",
              "      <td>202109</td>\n",
              "      <td>09</td>\n",
              "      <td>202135</td>\n",
              "      <td>35</td>\n",
              "      <td>35</td>\n",
              "      <td>202135</td>\n",
              "      <td>03</td>\n",
              "      <td>5</td>\n",
              "      <td>Friday</td>\n",
              "      <td>2021090306</td>\n",
              "      <td>06</td>\n",
              "      <td>41</td>\n",
              "      <td>202109030641</td>\n",
              "    </tr>\n",
              "    <tr>\n",
              "      <th>1</th>\n",
              "      <td>20210903</td>\n",
              "      <td>2021</td>\n",
              "      <td>2021</td>\n",
              "      <td>202109</td>\n",
              "      <td>09</td>\n",
              "      <td>202135</td>\n",
              "      <td>35</td>\n",
              "      <td>35</td>\n",
              "      <td>202135</td>\n",
              "      <td>03</td>\n",
              "      <td>5</td>\n",
              "      <td>Friday</td>\n",
              "      <td>2021090306</td>\n",
              "      <td>06</td>\n",
              "      <td>41</td>\n",
              "      <td>202109030641</td>\n",
              "    </tr>\n",
              "    <tr>\n",
              "      <th>2</th>\n",
              "      <td>20210903</td>\n",
              "      <td>2021</td>\n",
              "      <td>2021</td>\n",
              "      <td>202109</td>\n",
              "      <td>09</td>\n",
              "      <td>202135</td>\n",
              "      <td>35</td>\n",
              "      <td>35</td>\n",
              "      <td>202135</td>\n",
              "      <td>03</td>\n",
              "      <td>5</td>\n",
              "      <td>Friday</td>\n",
              "      <td>2021090300</td>\n",
              "      <td>00</td>\n",
              "      <td>35</td>\n",
              "      <td>202109030035</td>\n",
              "    </tr>\n",
              "    <tr>\n",
              "      <th>3</th>\n",
              "      <td>20210903</td>\n",
              "      <td>2021</td>\n",
              "      <td>2021</td>\n",
              "      <td>202109</td>\n",
              "      <td>09</td>\n",
              "      <td>202135</td>\n",
              "      <td>35</td>\n",
              "      <td>35</td>\n",
              "      <td>202135</td>\n",
              "      <td>03</td>\n",
              "      <td>5</td>\n",
              "      <td>Friday</td>\n",
              "      <td>2021090300</td>\n",
              "      <td>00</td>\n",
              "      <td>35</td>\n",
              "      <td>202109030035</td>\n",
              "    </tr>\n",
              "    <tr>\n",
              "      <th>4</th>\n",
              "      <td>20210903</td>\n",
              "      <td>2021</td>\n",
              "      <td>2021</td>\n",
              "      <td>202109</td>\n",
              "      <td>09</td>\n",
              "      <td>202135</td>\n",
              "      <td>35</td>\n",
              "      <td>35</td>\n",
              "      <td>202135</td>\n",
              "      <td>03</td>\n",
              "      <td>5</td>\n",
              "      <td>Friday</td>\n",
              "      <td>2021090300</td>\n",
              "      <td>00</td>\n",
              "      <td>35</td>\n",
              "      <td>202109030035</td>\n",
              "    </tr>\n",
              "  </tbody>\n",
              "</table>\n",
              "</div>"
            ],
            "text/plain": [
              "       date  year iso_year  ... hour minute date_hour_and_minute\n",
              "0  20210903  2021     2021  ...   06     41         202109030641\n",
              "1  20210903  2021     2021  ...   06     41         202109030641\n",
              "2  20210903  2021     2021  ...   00     35         202109030035\n",
              "3  20210903  2021     2021  ...   00     35         202109030035\n",
              "4  20210903  2021     2021  ...   00     35         202109030035\n",
              "\n",
              "[5 rows x 16 columns]"
            ]
          },
          "metadata": {},
          "execution_count": 9
        }
      ]
    },
    {
      "cell_type": "markdown",
      "metadata": {
        "id": "p7XkfLrga-8J"
      },
      "source": [
        "Kod krajów & Strefy czasowe:\n",
        "\n",
        "https://en.wikipedia.org/wiki/List_of_tz_database_time_zones\n",
        "\n",
        "https://www.pascallandau.com/bigquery-snippets/convert-timestamp-date-datetime-to-different-timezone/"
      ]
    },
    {
      "cell_type": "code",
      "metadata": {
        "colab": {
          "base_uri": "https://localhost:8080/",
          "height": 131
        },
        "id": "xAc1eKIbbA9T",
        "outputId": "50170c9c-fbe2-4a6e-8cda-9a4ec3bd638b"
      },
      "source": [
        "%%bigquery --project produkcja-mobile\n",
        "\n",
        "WITH examples AS (\n",
        "  SELECT TIMESTAMP(\"2018-04-08T15:50:10+00:00\") AS timestamp # Daylight saving time\n",
        "  UNION ALL SELECT TIMESTAMP(\"2018-03-08T15:50:10+00:00\")    # Standard time\n",
        ")\n",
        "SELECT \n",
        "  timestamp, \n",
        "  DATETIME(timestamp) as datetime,\n",
        "  DATE(timestamp) as date,\n",
        "  TIME(timestamp) as time,\n",
        "  DATETIME(timestamp, \"Europe/Berlin\") as datetime_berlin,\n",
        "  DATE(timestamp, \"Europe/Berlin\") as date_berlin,\n",
        "  TIME(timestamp, \"Europe/Berlin\") as time_berlin\n",
        "FROM examples"
      ],
      "execution_count": null,
      "outputs": [
        {
          "output_type": "execute_result",
          "data": {
            "application/vnd.google.colaboratory.module+javascript": "\n      import \"https://ssl.gstatic.com/colaboratory/data_table/a6224c040fa35dcf/data_table.js\";\n\n      window.createDataTable({\n        data: [[{\n            'v': 0,\n            'f': \"0\",\n        },\n\"2018-04-08 15:50:10+00:00\",\n\"2018-04-08 15:50:10\",\n\"2018-04-08\",\n\"15:50:10\",\n\"2018-04-08 17:50:10\",\n\"2018-04-08\",\n\"17:50:10\"],\n [{\n            'v': 1,\n            'f': \"1\",\n        },\n\"2018-03-08 15:50:10+00:00\",\n\"2018-03-08 15:50:10\",\n\"2018-03-08\",\n\"15:50:10\",\n\"2018-03-08 16:50:10\",\n\"2018-03-08\",\n\"16:50:10\"]],\n        columns: [[\"number\", \"index\"], [\"string\", \"timestamp\"], [\"string\", \"datetime\"], [\"string\", \"date\"], [\"string\", \"time\"], [\"string\", \"datetime_berlin\"], [\"string\", \"date_berlin\"], [\"string\", \"time_berlin\"]],\n        columnOptions: [{\"width\": \"1px\", \"className\": \"index_column\"}],\n        rowsPerPage: 25,\n        helpUrl: \"https://colab.research.google.com/notebooks/data_table.ipynb\",\n        suppressOutputScrolling: true,\n        minimumWidth: undefined,\n      });\n    ",
            "text/html": [
              "<div>\n",
              "<style scoped>\n",
              "    .dataframe tbody tr th:only-of-type {\n",
              "        vertical-align: middle;\n",
              "    }\n",
              "\n",
              "    .dataframe tbody tr th {\n",
              "        vertical-align: top;\n",
              "    }\n",
              "\n",
              "    .dataframe thead th {\n",
              "        text-align: right;\n",
              "    }\n",
              "</style>\n",
              "<table border=\"1\" class=\"dataframe\">\n",
              "  <thead>\n",
              "    <tr style=\"text-align: right;\">\n",
              "      <th></th>\n",
              "      <th>timestamp</th>\n",
              "      <th>datetime</th>\n",
              "      <th>date</th>\n",
              "      <th>time</th>\n",
              "      <th>datetime_berlin</th>\n",
              "      <th>date_berlin</th>\n",
              "      <th>time_berlin</th>\n",
              "    </tr>\n",
              "  </thead>\n",
              "  <tbody>\n",
              "    <tr>\n",
              "      <th>0</th>\n",
              "      <td>2018-04-08 15:50:10+00:00</td>\n",
              "      <td>2018-04-08 15:50:10</td>\n",
              "      <td>2018-04-08</td>\n",
              "      <td>15:50:10</td>\n",
              "      <td>2018-04-08 17:50:10</td>\n",
              "      <td>2018-04-08</td>\n",
              "      <td>17:50:10</td>\n",
              "    </tr>\n",
              "    <tr>\n",
              "      <th>1</th>\n",
              "      <td>2018-03-08 15:50:10+00:00</td>\n",
              "      <td>2018-03-08 15:50:10</td>\n",
              "      <td>2018-03-08</td>\n",
              "      <td>15:50:10</td>\n",
              "      <td>2018-03-08 16:50:10</td>\n",
              "      <td>2018-03-08</td>\n",
              "      <td>16:50:10</td>\n",
              "    </tr>\n",
              "  </tbody>\n",
              "</table>\n",
              "</div>"
            ],
            "text/plain": [
              "                  timestamp            datetime  ... date_berlin time_berlin\n",
              "0 2018-04-08 15:50:10+00:00 2018-04-08 15:50:10  ...  2018-04-08    17:50:10\n",
              "1 2018-03-08 15:50:10+00:00 2018-03-08 15:50:10  ...  2018-03-08    16:50:10\n",
              "\n",
              "[2 rows x 7 columns]"
            ]
          },
          "metadata": {
            "tags": []
          },
          "execution_count": 6
        }
      ]
    },
    {
      "cell_type": "markdown",
      "metadata": {
        "id": "qGEGrxcibGEf"
      },
      "source": [
        "Funkcje na datach: https://cloud.google.com/bigquery/docs/reference/standard-sql/functions-and-operators#date\n",
        "\n",
        "Funkcje na Time: https://cloud.google.com/bigquery/docs/reference/standard-sql/functions-and-operators#time\n",
        "\n",
        "Funkcje na Datetime: https://cloud.google.com/bigquery/docs/reference/standard-sql/functions-and-operators#datetime"
      ]
    },
    {
      "cell_type": "code",
      "metadata": {
        "id": "I17t4EsdbG1w"
      },
      "source": [
        "# Wczorajszy dzień\n",
        "where\n",
        "_TABLE_SUFFIX BETWEEN \n",
        "FORMAT_DATE('%Y%m%d',DATE_SUB(CURRENT_DATE(), INTERVAL 1 DAY)) and\n",
        "FORMAT_DATE('%Y%m%d',DATE_SUB(CURRENT_DATE(), INTERVAL 1 DAY))\n",
        "\n",
        "# Odwołanie do tabeli Intraday oraz wskazanie na zakres dat 14 dni + Intraday\n",
        "where regexp_extract(_table_suffix, r'[0-9]+') between format_date('%Y%m%d',date_sub(current_date(), interval 14 day))\n",
        "and format_date('Y%m%d%', current_date())\n",
        "\n",
        "# Wskazanie na zakres dat 14 dni \n",
        "where _table_suffix between format_date('%Y%m%d',date_sub(current_date(), interval 14 day))\n",
        "\n",
        "# Od 20210501 do tydzień temu\n",
        "_TABLE_SUFFIX BETWEEN '20210501' and\n",
        "FORMAT_DATE('%Y%m%d',DATE_SUB(CURRENT_DATE(), INTERVAL 7 DAY))\n",
        "\n"
      ],
      "execution_count": null,
      "outputs": []
    },
    {
      "cell_type": "markdown",
      "metadata": {
        "id": "zsvYJtkkGdL4"
      },
      "source": [
        "https://www.ga4bigquery.com/tutorial-how-to-query-multiple-analytics-events-tables-with-table-suffix-ga4/"
      ]
    },
    {
      "cell_type": "markdown",
      "metadata": {
        "id": "H5NrvemkMJKA"
      },
      "source": [
        "Statyczny zakres dat:"
      ]
    },
    {
      "cell_type": "code",
      "metadata": {
        "id": "5--TW334GfeI"
      },
      "source": [
        "%%bigquery --project produkcja-mobile\n",
        "\n",
        "select\n",
        "    *\n",
        "from\n",
        "    `simoahava-com.analytics_206575074.events_*`\n",
        "where\n",
        "    _table_suffix between '20210103' and '20210203'"
      ],
      "execution_count": null,
      "outputs": []
    },
    {
      "cell_type": "markdown",
      "metadata": {
        "id": "rNXmr9ncM6yz"
      },
      "source": [
        "Dynamiczny zakres dat (ostatnie 30 dni):"
      ]
    },
    {
      "cell_type": "code",
      "metadata": {
        "id": "4U0qRQz2MMGk"
      },
      "source": [
        "%%bigquery --project produkcja-mobile\n",
        "\n",
        "select\n",
        "    *\n",
        "from\n",
        "    `simoahava-com.analytics_206575074.events_*`\n",
        "where\n",
        "    _table_suffix between format_date('%Y%m%d',date_sub(current_date(), interval 30 day))\n",
        "    and format_date('%Y%m%d',date_sub(current_date(), interval 1 day))"
      ],
      "execution_count": null,
      "outputs": []
    },
    {
      "cell_type": "markdown",
      "metadata": {
        "id": "_P-ls5WAORa3"
      },
      "source": [
        "Daty statyczne i dynamiczne (poprzedni dzień):"
      ]
    },
    {
      "cell_type": "code",
      "metadata": {
        "id": "W-7xCxzJM95n"
      },
      "source": [
        "%%bigquery --project produkcja-mobile\n",
        "\n",
        "select\n",
        "    *\n",
        "from\n",
        "    `simoahava-com.analytics_206575074.events_*`\n",
        "where\n",
        "    _table_suffix between '20210103' \n",
        "    and format_date('%Y%m%d',date_sub(current_date(), interval 1 day))"
      ],
      "execution_count": null,
      "outputs": []
    },
    {
      "cell_type": "code",
      "metadata": {
        "id": "gRIwwGl3OVW0",
        "colab": {
          "base_uri": "https://localhost:8080/",
          "height": 173
        },
        "outputId": "a214787d-09af-4e0b-bbdf-2694ddec6c3e"
      },
      "source": [
        "%%bigquery --project produkcja-mobile\n",
        "\n",
        "select\n",
        "    event_date as date,\n",
        "    count(event_name) as sessions\n",
        "from\n",
        "    `simoahava-com.analytics_206575074.events_*`\n",
        "where\n",
        "    # ostatnie 3 dni\n",
        "    regexp_extract(_table_suffix, r'[0-9]+') between format_date('%Y%m%d',date_sub(current_date(), interval 3 day)) and format_date('%Y%m%d', current_date())\n",
        "\n",
        "    #regexp_extract(_table_suffix, '[0-9]+') between '20210501' and format_date('%Y%m%d', current_date()) and event_name = 'session_start'\n",
        "group by \n",
        "    date\n",
        "order by\n",
        "    date desc\n",
        "LIMIT 5"
      ],
      "execution_count": null,
      "outputs": [
        {
          "output_type": "execute_result",
          "data": {
            "application/vnd.google.colaboratory.module+javascript": "\n      import \"https://ssl.gstatic.com/colaboratory/data_table/a6224c040fa35dcf/data_table.js\";\n\n      window.createDataTable({\n        data: [[{\n            'v': 0,\n            'f': \"0\",\n        },\n\"20210918\",\n{\n            'v': 6537,\n            'f': \"6537\",\n        }],\n [{\n            'v': 1,\n            'f': \"1\",\n        },\n\"20210917\",\n{\n            'v': 57963,\n            'f': \"57963\",\n        }],\n [{\n            'v': 2,\n            'f': \"2\",\n        },\n\"20210916\",\n{\n            'v': 68312,\n            'f': \"68312\",\n        }],\n [{\n            'v': 3,\n            'f': \"3\",\n        },\n\"20210915\",\n{\n            'v': 69426,\n            'f': \"69426\",\n        }]],\n        columns: [[\"number\", \"index\"], [\"string\", \"date\"], [\"number\", \"sessions\"]],\n        columnOptions: [{\"width\": \"1px\", \"className\": \"index_column\"}],\n        rowsPerPage: 25,\n        helpUrl: \"https://colab.research.google.com/notebooks/data_table.ipynb\",\n        suppressOutputScrolling: true,\n        minimumWidth: undefined,\n      });\n    ",
            "text/html": [
              "<div>\n",
              "<style scoped>\n",
              "    .dataframe tbody tr th:only-of-type {\n",
              "        vertical-align: middle;\n",
              "    }\n",
              "\n",
              "    .dataframe tbody tr th {\n",
              "        vertical-align: top;\n",
              "    }\n",
              "\n",
              "    .dataframe thead th {\n",
              "        text-align: right;\n",
              "    }\n",
              "</style>\n",
              "<table border=\"1\" class=\"dataframe\">\n",
              "  <thead>\n",
              "    <tr style=\"text-align: right;\">\n",
              "      <th></th>\n",
              "      <th>date</th>\n",
              "      <th>sessions</th>\n",
              "    </tr>\n",
              "  </thead>\n",
              "  <tbody>\n",
              "    <tr>\n",
              "      <th>0</th>\n",
              "      <td>20210918</td>\n",
              "      <td>6537</td>\n",
              "    </tr>\n",
              "    <tr>\n",
              "      <th>1</th>\n",
              "      <td>20210917</td>\n",
              "      <td>57963</td>\n",
              "    </tr>\n",
              "    <tr>\n",
              "      <th>2</th>\n",
              "      <td>20210916</td>\n",
              "      <td>68312</td>\n",
              "    </tr>\n",
              "    <tr>\n",
              "      <th>3</th>\n",
              "      <td>20210915</td>\n",
              "      <td>69426</td>\n",
              "    </tr>\n",
              "  </tbody>\n",
              "</table>\n",
              "</div>"
            ],
            "text/plain": [
              "       date  sessions\n",
              "0  20210918      6537\n",
              "1  20210917     57963\n",
              "2  20210916     68312\n",
              "3  20210915     69426"
            ]
          },
          "metadata": {},
          "execution_count": 7
        }
      ]
    },
    {
      "cell_type": "markdown",
      "metadata": {
        "id": "s46QI2WmEgp_"
      },
      "source": [
        "Dane za wczoraj:"
      ]
    },
    {
      "cell_type": "code",
      "metadata": {
        "id": "vokJwOGTEgcB"
      },
      "source": [
        "%%bigquery --project produkcja-mobile\n",
        "\n",
        "select\n",
        "    *\n",
        "from\n",
        "    `simoahava-com.analytics_206575074.events_*`\n",
        "\n",
        "where _TABLE_SUFFIX BETWEEN\n",
        "FORMAT_DATE('%Y%m%d',DATE_SUB(CURRENT_DATE(), INTERVAL 1 DAY)) and\n",
        "FORMAT_DATE('%Y%m%d',DATE_SUB(CURRENT_DATE(), INTERVAL 1 DAY))"
      ],
      "execution_count": null,
      "outputs": []
    },
    {
      "cell_type": "markdown",
      "metadata": {
        "id": "V1nkbDA_Jq1D"
      },
      "source": [
        "https://cloud.google.com/bigquery/docs/reference/standard-sql/date_functions#supported_format_elements_for_date"
      ]
    },
    {
      "cell_type": "markdown",
      "metadata": {
        "id": "4_PFMHBSHr-_"
      },
      "source": [
        "AppsFlyer"
      ]
    },
    {
      "cell_type": "code",
      "metadata": {
        "colab": {
          "base_uri": "https://localhost:8080/",
          "height": 291
        },
        "id": "36WIjJLwHtYu",
        "outputId": "57c3b534-85c5-4fd2-9702-660c484fd1f4"
      },
      "source": [
        "%%bigquery --project produkcja-mobile\n",
        "\n",
        "SELECT\n",
        "attributed_touch_time,\n",
        "attributed_touch_time_selected_timezone,\n",
        "attributed_touch_type,\n",
        "contributor_1_touch_time,\n",
        "contributor_2_touch_time,\n",
        "contributor_3_touch_time,\n",
        "\n",
        "custom_data,\n",
        "download_time,\n",
        "download_time_selected_timezone,\n",
        "event_time,\n",
        "event_time_selected_timezone,\n",
        "install_time,\n",
        "install_time_selected_timezone,\n",
        "selected_timezone\n",
        "\n",
        "FROM `eobuwie-181013.01_AppsFlyer_EOB.mobile_devices_events` \n",
        "where extract(date from cast(event_time as DATETIME)) = date_add(CURRENT_DATE(), interval -1 DAY)\n",
        "order by 1 desc\n",
        "LIMIT 5"
      ],
      "execution_count": null,
      "outputs": [
        {
          "output_type": "execute_result",
          "data": {
            "application/vnd.google.colaboratory.module+javascript": "\n      import \"https://ssl.gstatic.com/colaboratory/data_table/a6224c040fa35dcf/data_table.js\";\n\n      window.createDataTable({\n        data: [[{\n            'v': 0,\n            'f': \"0\",\n        },\n\"2021-09-13 23:57:32.139\",\n\"2021-09-14 01:57:32.139+0200\",\n\"click\",\n\"2021-09-13 10:38:28.858\",\n{\n            'v': null,\n            'f': \"null\",\n        },\n{\n            'v': null,\n            'f': \"null\",\n        },\n{\n            'v': null,\n            'f': \"null\",\n        },\n\"2021-09-13 23:57:38.000\",\n\"2021-09-14 01:57:38.000+0200\",\n\"2021-09-13 23:58:21.864\",\n\"2021-09-14 01:58:21.864+0200\",\n\"2021-09-13 23:58:21.864\",\n\"2021-09-14 01:58:21.864+0200\",\n\"Europe/Warsaw\"],\n [{\n            'v': 1,\n            'f': \"1\",\n        },\n\"2021-09-13 23:56:27.851\",\n\"2021-09-14 01:56:27.851+0200\",\n\"click\",\nnull,\n{\n            'v': null,\n            'f': \"null\",\n        },\n{\n            'v': null,\n            'f': \"null\",\n        },\n{\n            'v': null,\n            'f': \"null\",\n        },\n\"2021-09-02 18:04:10.000\",\n\"2021-09-02 20:04:10.000+0200\",\n\"2021-09-13 23:57:28.771\",\n\"2021-09-14 01:57:28.771+0200\",\n\"2021-09-13 23:57:28.771\",\n\"2021-09-14 01:57:28.771+0200\",\n\"Europe/Warsaw\"],\n [{\n            'v': 2,\n            'f': \"2\",\n        },\n\"2021-09-13 23:51:09.310\",\n\"2021-09-14 01:51:09.310+0200\",\n\"click\",\nnull,\n{\n            'v': null,\n            'f': \"null\",\n        },\n{\n            'v': null,\n            'f': \"null\",\n        },\n{\n            'v': null,\n            'f': \"null\",\n        },\n\"2021-09-13 23:52:24.000\",\n\"2021-09-14 01:52:24.000+0200\",\n\"2021-09-13 23:55:22.025\",\n\"2021-09-14 01:55:22.025+0200\",\n\"2021-09-13 23:54:12.690\",\n\"2021-09-14 01:54:12.690+0200\",\n\"Europe/Warsaw\"],\n [{\n            'v': 3,\n            'f': \"3\",\n        },\n\"2021-09-13 23:51:09.310\",\n\"2021-09-14 01:51:09.310+0200\",\n\"click\",\n\"2021-09-10 14:30:27.556\",\n{\n            'v': null,\n            'f': \"null\",\n        },\n{\n            'v': null,\n            'f': \"null\",\n        },\n{\n            'v': null,\n            'f': \"null\",\n        },\n\"2021-09-13 23:52:24.000\",\n\"2021-09-14 01:52:24.000+0200\",\n\"2021-09-13 23:54:12.690\",\n\"2021-09-14 01:54:12.690+0200\",\n\"2021-09-13 23:54:12.690\",\n\"2021-09-14 01:54:12.690+0200\",\n\"Europe/Warsaw\"],\n [{\n            'v': 4,\n            'f': \"4\",\n        },\n\"2021-09-13 23:48:31.788\",\n\"2021-09-14 01:48:31.788+0200\",\n\"click\",\n\"2021-09-13 05:51:52.616\",\n{\n            'v': null,\n            'f': \"null\",\n        },\n{\n            'v': null,\n            'f': \"null\",\n        },\n{\n            'v': null,\n            'f': \"null\",\n        },\n\"2021-09-13 05:53:59.000\",\n\"2021-09-13 07:53:59.000+0200\",\n\"2021-09-13 23:48:53.692\",\n\"2021-09-14 01:48:53.692+0200\",\n\"2021-09-13 23:48:53.692\",\n\"2021-09-14 01:48:53.692+0200\",\n\"Europe/Warsaw\"]],\n        columns: [[\"number\", \"index\"], [\"string\", \"attributed_touch_time\"], [\"string\", \"attributed_touch_time_selected_timezone\"], [\"string\", \"attributed_touch_type\"], [\"string\", \"contributor_1_touch_time\"], [\"number\", \"contributor_2_touch_time\"], [\"number\", \"contributor_3_touch_time\"], [\"number\", \"custom_data\"], [\"string\", \"download_time\"], [\"string\", \"download_time_selected_timezone\"], [\"string\", \"event_time\"], [\"string\", \"event_time_selected_timezone\"], [\"string\", \"install_time\"], [\"string\", \"install_time_selected_timezone\"], [\"string\", \"selected_timezone\"]],\n        columnOptions: [{\"width\": \"1px\", \"className\": \"index_column\"}],\n        rowsPerPage: 25,\n        helpUrl: \"https://colab.research.google.com/notebooks/data_table.ipynb\",\n        suppressOutputScrolling: true,\n        minimumWidth: undefined,\n      });\n    ",
            "text/html": [
              "<div>\n",
              "<style scoped>\n",
              "    .dataframe tbody tr th:only-of-type {\n",
              "        vertical-align: middle;\n",
              "    }\n",
              "\n",
              "    .dataframe tbody tr th {\n",
              "        vertical-align: top;\n",
              "    }\n",
              "\n",
              "    .dataframe thead th {\n",
              "        text-align: right;\n",
              "    }\n",
              "</style>\n",
              "<table border=\"1\" class=\"dataframe\">\n",
              "  <thead>\n",
              "    <tr style=\"text-align: right;\">\n",
              "      <th></th>\n",
              "      <th>attributed_touch_time</th>\n",
              "      <th>attributed_touch_time_selected_timezone</th>\n",
              "      <th>attributed_touch_type</th>\n",
              "      <th>contributor_1_touch_time</th>\n",
              "      <th>contributor_2_touch_time</th>\n",
              "      <th>contributor_3_touch_time</th>\n",
              "      <th>custom_data</th>\n",
              "      <th>download_time</th>\n",
              "      <th>download_time_selected_timezone</th>\n",
              "      <th>event_time</th>\n",
              "      <th>event_time_selected_timezone</th>\n",
              "      <th>install_time</th>\n",
              "      <th>install_time_selected_timezone</th>\n",
              "      <th>selected_timezone</th>\n",
              "    </tr>\n",
              "  </thead>\n",
              "  <tbody>\n",
              "    <tr>\n",
              "      <th>0</th>\n",
              "      <td>2021-09-13 23:57:32.139</td>\n",
              "      <td>2021-09-14 01:57:32.139+0200</td>\n",
              "      <td>click</td>\n",
              "      <td>2021-09-13 10:38:28.858</td>\n",
              "      <td>None</td>\n",
              "      <td>None</td>\n",
              "      <td>None</td>\n",
              "      <td>2021-09-13 23:57:38.000</td>\n",
              "      <td>2021-09-14 01:57:38.000+0200</td>\n",
              "      <td>2021-09-13 23:58:21.864</td>\n",
              "      <td>2021-09-14 01:58:21.864+0200</td>\n",
              "      <td>2021-09-13 23:58:21.864</td>\n",
              "      <td>2021-09-14 01:58:21.864+0200</td>\n",
              "      <td>Europe/Warsaw</td>\n",
              "    </tr>\n",
              "    <tr>\n",
              "      <th>1</th>\n",
              "      <td>2021-09-13 23:56:27.851</td>\n",
              "      <td>2021-09-14 01:56:27.851+0200</td>\n",
              "      <td>click</td>\n",
              "      <td>None</td>\n",
              "      <td>None</td>\n",
              "      <td>None</td>\n",
              "      <td>None</td>\n",
              "      <td>2021-09-02 18:04:10.000</td>\n",
              "      <td>2021-09-02 20:04:10.000+0200</td>\n",
              "      <td>2021-09-13 23:57:28.771</td>\n",
              "      <td>2021-09-14 01:57:28.771+0200</td>\n",
              "      <td>2021-09-13 23:57:28.771</td>\n",
              "      <td>2021-09-14 01:57:28.771+0200</td>\n",
              "      <td>Europe/Warsaw</td>\n",
              "    </tr>\n",
              "    <tr>\n",
              "      <th>2</th>\n",
              "      <td>2021-09-13 23:51:09.310</td>\n",
              "      <td>2021-09-14 01:51:09.310+0200</td>\n",
              "      <td>click</td>\n",
              "      <td>None</td>\n",
              "      <td>None</td>\n",
              "      <td>None</td>\n",
              "      <td>None</td>\n",
              "      <td>2021-09-13 23:52:24.000</td>\n",
              "      <td>2021-09-14 01:52:24.000+0200</td>\n",
              "      <td>2021-09-13 23:55:22.025</td>\n",
              "      <td>2021-09-14 01:55:22.025+0200</td>\n",
              "      <td>2021-09-13 23:54:12.690</td>\n",
              "      <td>2021-09-14 01:54:12.690+0200</td>\n",
              "      <td>Europe/Warsaw</td>\n",
              "    </tr>\n",
              "    <tr>\n",
              "      <th>3</th>\n",
              "      <td>2021-09-13 23:51:09.310</td>\n",
              "      <td>2021-09-14 01:51:09.310+0200</td>\n",
              "      <td>click</td>\n",
              "      <td>2021-09-10 14:30:27.556</td>\n",
              "      <td>None</td>\n",
              "      <td>None</td>\n",
              "      <td>None</td>\n",
              "      <td>2021-09-13 23:52:24.000</td>\n",
              "      <td>2021-09-14 01:52:24.000+0200</td>\n",
              "      <td>2021-09-13 23:54:12.690</td>\n",
              "      <td>2021-09-14 01:54:12.690+0200</td>\n",
              "      <td>2021-09-13 23:54:12.690</td>\n",
              "      <td>2021-09-14 01:54:12.690+0200</td>\n",
              "      <td>Europe/Warsaw</td>\n",
              "    </tr>\n",
              "    <tr>\n",
              "      <th>4</th>\n",
              "      <td>2021-09-13 23:48:31.788</td>\n",
              "      <td>2021-09-14 01:48:31.788+0200</td>\n",
              "      <td>click</td>\n",
              "      <td>2021-09-13 05:51:52.616</td>\n",
              "      <td>None</td>\n",
              "      <td>None</td>\n",
              "      <td>None</td>\n",
              "      <td>2021-09-13 05:53:59.000</td>\n",
              "      <td>2021-09-13 07:53:59.000+0200</td>\n",
              "      <td>2021-09-13 23:48:53.692</td>\n",
              "      <td>2021-09-14 01:48:53.692+0200</td>\n",
              "      <td>2021-09-13 23:48:53.692</td>\n",
              "      <td>2021-09-14 01:48:53.692+0200</td>\n",
              "      <td>Europe/Warsaw</td>\n",
              "    </tr>\n",
              "  </tbody>\n",
              "</table>\n",
              "</div>"
            ],
            "text/plain": [
              "     attributed_touch_time  ... selected_timezone\n",
              "0  2021-09-13 23:57:32.139  ...     Europe/Warsaw\n",
              "1  2021-09-13 23:56:27.851  ...     Europe/Warsaw\n",
              "2  2021-09-13 23:51:09.310  ...     Europe/Warsaw\n",
              "3  2021-09-13 23:51:09.310  ...     Europe/Warsaw\n",
              "4  2021-09-13 23:48:31.788  ...     Europe/Warsaw\n",
              "\n",
              "[5 rows x 14 columns]"
            ]
          },
          "metadata": {},
          "execution_count": 2
        }
      ]
    },
    {
      "cell_type": "code",
      "metadata": {
        "colab": {
          "base_uri": "https://localhost:8080/",
          "height": 110
        },
        "id": "VR86_IwoRSrO",
        "outputId": "9476d3b2-90b6-4660-c930-6161488f344b"
      },
      "source": [
        "%%bigquery --project produkcja-mobile\n",
        "\n",
        "SELECT\n",
        "cast(format_date('%Y%m%d', extract(date from cast(event_time as DATETIME))) as string) event_date,\n",
        "extract(date from cast(event_time as DATETIME)) true_date,\n",
        "format_date('%Y%m',extract(date from cast(event_time as DATETIME))) month_of_year,\n",
        "format_date('%Y',extract(date from cast(event_time as DATETIME))) year,\n",
        "format_date('%U',extract(date from cast(event_time as DATETIME))) week_of_the_year\n",
        "FROM `eobuwie-181013.01_AppsFlyer_EOB.mobile_devices_events` \n",
        "-- where extract(date from cast(event_time as DATETIME)) between '2021-06-15' and '2021-09-13' Pełny zakres dat\n",
        "where extract(date from cast(event_time as DATETIME)) = date_add(CURRENT_DATE(), interval -1 DAY) # Wczorajszy dzień \n",
        "\n",
        "group by 1,2,3,4,5\n",
        "order by 1 desc\n",
        "LIMIT 5"
      ],
      "execution_count": null,
      "outputs": [
        {
          "output_type": "execute_result",
          "data": {
            "application/vnd.google.colaboratory.module+javascript": "\n      import \"https://ssl.gstatic.com/colaboratory/data_table/a6224c040fa35dcf/data_table.js\";\n\n      window.createDataTable({\n        data: [[{\n            'v': 0,\n            'f': \"0\",\n        },\n\"20210913\",\n\"2021-09-13\",\n\"202109\",\n\"2021\",\n\"37\"]],\n        columns: [[\"number\", \"index\"], [\"string\", \"event_date\"], [\"string\", \"true_date\"], [\"string\", \"month_of_year\"], [\"string\", \"year\"], [\"string\", \"week_of_the_year\"]],\n        columnOptions: [{\"width\": \"1px\", \"className\": \"index_column\"}],\n        rowsPerPage: 25,\n        helpUrl: \"https://colab.research.google.com/notebooks/data_table.ipynb\",\n        suppressOutputScrolling: true,\n        minimumWidth: undefined,\n      });\n    ",
            "text/html": [
              "<div>\n",
              "<style scoped>\n",
              "    .dataframe tbody tr th:only-of-type {\n",
              "        vertical-align: middle;\n",
              "    }\n",
              "\n",
              "    .dataframe tbody tr th {\n",
              "        vertical-align: top;\n",
              "    }\n",
              "\n",
              "    .dataframe thead th {\n",
              "        text-align: right;\n",
              "    }\n",
              "</style>\n",
              "<table border=\"1\" class=\"dataframe\">\n",
              "  <thead>\n",
              "    <tr style=\"text-align: right;\">\n",
              "      <th></th>\n",
              "      <th>event_date</th>\n",
              "      <th>true_date</th>\n",
              "      <th>month_of_year</th>\n",
              "      <th>year</th>\n",
              "      <th>week_of_the_year</th>\n",
              "    </tr>\n",
              "  </thead>\n",
              "  <tbody>\n",
              "    <tr>\n",
              "      <th>0</th>\n",
              "      <td>20210913</td>\n",
              "      <td>2021-09-13</td>\n",
              "      <td>202109</td>\n",
              "      <td>2021</td>\n",
              "      <td>37</td>\n",
              "    </tr>\n",
              "  </tbody>\n",
              "</table>\n",
              "</div>"
            ],
            "text/plain": [
              "  event_date   true_date month_of_year  year week_of_the_year\n",
              "0   20210913  2021-09-13        202109  2021               37"
            ]
          },
          "metadata": {},
          "execution_count": 6
        }
      ]
    }
  ]
}